{
 "cells": [
  {
   "cell_type": "code",
   "execution_count": 1,
   "metadata": {},
   "outputs": [],
   "source": [
    "%reload_ext autoreload\n",
    "%autoreload 2\n",
    "%matplotlib inline\n",
    "import matplotlib\n",
    "import matplotlib.pyplot as plt\n",
    "\n",
    "import numpy as np\n",
    "import pandas as pd\n",
    "\n",
    "import time\n",
    "\n",
    "from pathlib import Path\n",
    "from sklearn import metrics\n",
    "import random\n",
    "from scipy import stats\n",
    "\n",
    "import torch\n",
    "from torch.utils.data import Dataset, DataLoader\n",
    "import torch.optim as optim\n",
    "import torch.nn as nn\n",
    "import torch.nn.functional as F\n",
    "from torchvision import models\n",
    "import torchvision\n",
    "\n",
    "from datetime import datetime\n",
    "from collections import OrderedDict"
   ]
  },
  {
   "cell_type": "code",
   "execution_count": 2,
   "metadata": {},
   "outputs": [],
   "source": [
    "import pickle"
   ]
  },
  {
   "cell_type": "code",
   "execution_count": 3,
   "metadata": {},
   "outputs": [],
   "source": [
    "PATH = Path(\"../../multi-task-romain/data/\")\n",
    "# PATH = Path(\"/data2/yinterian/multi-task-romain\")"
   ]
  },
  {
   "cell_type": "code",
   "execution_count": 4,
   "metadata": {},
   "outputs": [
    {
     "data": {
      "text/plain": [
       "'15min'"
      ]
     },
     "execution_count": 4,
     "metadata": {},
     "output_type": "execute_result"
    }
   ],
   "source": [
    "gap = \"15min\"\n",
    "gap"
   ]
  },
  {
   "cell_type": "code",
   "execution_count": 5,
   "metadata": {},
   "outputs": [],
   "source": [
    "filename = \"data_train_{gap}.pickle\".format(gap=gap)\n",
    "with open(PATH/filename, 'rb') as f:\n",
    "    train = pickle.load(f)"
   ]
  },
  {
   "cell_type": "code",
   "execution_count": 6,
   "metadata": {},
   "outputs": [],
   "source": [
    "filename = \"data_valid_{gap}.pickle\".format(gap=gap)\n",
    "with open(PATH/filename, 'rb') as f:\n",
    "    valid = pickle.load(f)"
   ]
  },
  {
   "cell_type": "code",
   "execution_count": 7,
   "metadata": {},
   "outputs": [
    {
     "data": {
      "text/plain": [
       "((42830, 14), (5069, 14))"
      ]
     },
     "execution_count": 7,
     "metadata": {},
     "output_type": "execute_result"
    }
   ],
   "source": [
    "train.shape, valid.shape"
   ]
  },
  {
   "cell_type": "code",
   "execution_count": 8,
   "metadata": {},
   "outputs": [],
   "source": [
    "subject_id_list = np.sort(np.unique(train.subject_id.values))\n",
    "id2index = {v: k+1 for k,v in enumerate(subject_id_list)}\n",
    "num_subjects = len(subject_id_list)"
   ]
  },
  {
   "cell_type": "code",
   "execution_count": 9,
   "metadata": {},
   "outputs": [
    {
     "data": {
      "text/plain": [
       "2170"
      ]
     },
     "execution_count": 9,
     "metadata": {},
     "output_type": "execute_result"
    }
   ],
   "source": [
    "num_subjects"
   ]
  },
  {
   "cell_type": "markdown",
   "metadata": {},
   "source": [
    "## Dataset"
   ]
  },
  {
   "cell_type": "code",
   "execution_count": 10,
   "metadata": {},
   "outputs": [],
   "source": [
    "def get_mean_std_series(train):\n",
    "    ss = np.concatenate(train.series.values)\n",
    "    ss = ss.reshape(-1,5)\n",
    "    return ss.mean(axis=0), ss.std(axis=0)"
   ]
  },
  {
   "cell_type": "code",
   "execution_count": 11,
   "metadata": {},
   "outputs": [],
   "source": [
    "def get_mean_std_static(train):\n",
    "    res = {}\n",
    "    for name in [\"age\", \"sapsii\", \"sofa\"]:\n",
    "        values = train[name].values\n",
    "        res[name] = (values.mean(), values.std())\n",
    "    res[\"series\"] = get_mean_std_series(train)\n",
    "    return res"
   ]
  },
  {
   "cell_type": "code",
   "execution_count": 12,
   "metadata": {},
   "outputs": [
    {
     "data": {
      "text/plain": [
       "{'age': (64, 15.087455295966063),\n",
       " 'sapsii': (33, 14.265492481117855),\n",
       " 'sofa': (4, 3.7831641172054082),\n",
       " 'series': (array([ 83.19453341,  93.64397046, 121.07613603,  58.73969887,\n",
       "          78.6694367 ]),\n",
       "  array([16.08727268, 17.53684697, 21.3399693 , 12.26982071, 14.36323955]))}"
      ]
     },
     "execution_count": 12,
     "metadata": {},
     "output_type": "execute_result"
    }
   ],
   "source": [
    "norm_dict = get_mean_std_static(train)\n",
    "norm_dict "
   ]
  },
  {
   "cell_type": "code",
   "execution_count": 13,
   "metadata": {},
   "outputs": [],
   "source": [
    "class MultiTask(Dataset):\n",
    "    def __init__(self, df, norm_dict, id2index, k=20, train=True):\n",
    "        \"\"\"\n",
    "        Args:\n",
    "            df: dataframe with data\n",
    "            norm_dict: mean and std of all variables to normalize\n",
    "            \n",
    "        \"\"\"\n",
    "        self.norm_dict = norm_dict\n",
    "        self.df = df\n",
    "        self.names = [\"age\", \"sapsii\", \"sofa\"] ## needs normalization\n",
    "        self.names_binary = [\"gender\", \"amine\", \"sedation\", \"ventilation\"]\n",
    "        self.id2index = id2index\n",
    "        self.train = train\n",
    "        self.df_sample = self.pick_a_sample(k)\n",
    "            \n",
    "    def pick_a_sample(self, k=20):\n",
    "        \"\"\" Picks sample with the same number of observations per patient\"\"\"\n",
    "        if not self.train: # fix seed for validation and test\n",
    "            np.random.seed(3)\n",
    "        sample = self.df.groupby(\"subject_id\", group_keys=False).apply(lambda x: x.sample(min(len(x), k)))\n",
    "        sample = sample.copy()\n",
    "        if self.train:\n",
    "            self.subject_index = [self.id2index[subject_id] for subject_id in sample.subject_id.values]\n",
    "            self.random = np.random.choice(2, sample.shape[0], p=[0.1, 0.9])\n",
    "            self.subject_index = self.subject_index*self.random\n",
    "        return sample\n",
    "\n",
    "    def __getitem__(self, index):\n",
    "        row = self.df_sample.iloc[index,:]\n",
    "        x_series = (row.series - self.norm_dict[\"series\"][0])/self.norm_dict[\"series\"][1]\n",
    "        x_cont = [(row[name]-self.norm_dict[name][0])/self.norm_dict[name][1] for name in self.names]\n",
    "        x_binary = [row[name] for name in self.names_binary]\n",
    "        subject_index = 0\n",
    "        if self.train:\n",
    "            subject_index = self.subject_index[index]\n",
    "        x_cat = np.array([row[\"care_unit\"], subject_index])\n",
    "        x_cont = np.array(x_cont + x_binary)\n",
    "        return x_series, x_cont, x_cat, row[\"prediction_mean_HR\"], row[\"prediction_mean_MAP\"]\n",
    "\n",
    "    def __len__(self):\n",
    "        return self.df_sample.shape[0]"
   ]
  },
  {
   "cell_type": "code",
   "execution_count": 14,
   "metadata": {},
   "outputs": [],
   "source": [
    "train_ds = MultiTask(train, norm_dict, id2index)\n",
    "valid_ds = MultiTask(valid, norm_dict, id2index, train=False)"
   ]
  },
  {
   "cell_type": "code",
   "execution_count": 15,
   "metadata": {},
   "outputs": [
    {
     "data": {
      "text/plain": [
       "(array([[ 0.78356766,  0.24839297, -0.77207871, -0.66339183, -0.67320723],\n",
       "        [ 0.57843655,  0.23698841, -0.73459037, -0.57374097, -0.57573618],\n",
       "        [ 1.00734704,  0.24839297, -0.7486485 , -0.43518964, -0.49915179],\n",
       "        [ 0.70897453,  0.24839297, -0.69241599, -0.51669042, -0.52700066],\n",
       "        [ 0.66546187,  0.24839297, -0.75333454, -0.56559089, -0.57573618],\n",
       "        [ 0.80221594,  0.24839297, -0.8704856 , -0.56559089, -0.64535836],\n",
       "        [ 0.8457286 ,  0.24839297, -0.80019497, -0.56559089, -0.61750949],\n",
       "        [ 0.78356766,  0.24839297, -0.69710204, -0.44333972, -0.4643407 ],\n",
       "        [ 0.92653782,  0.24839297, -0.74396246, -0.45963988, -0.52003844],\n",
       "        [ 1.01356314,  0.24839297, -0.77207871, -0.45963988, -0.54092509],\n",
       "        [ 0.88924126,  0.24839297, -0.72053225, -0.54929074, -0.57573618],\n",
       "        [ 1.02599533,  0.24839297, -0.67835787, -0.46778995, -0.47826513],\n",
       "        [ 0.90167345,  0.24839297, -0.7814508 , -0.47594003, -0.53396288],\n",
       "        [ 0.82086422,  0.24839297, -0.74396246, -0.54929074, -0.57573618],\n",
       "        [ 0.75870328,  0.24839297, -0.72053225, -0.46778995, -0.49218957],\n",
       "        [ 0.64681359,  0.24839297, -0.67835787, -0.50854035, -0.52003844],\n",
       "        [ 0.57843655,  0.24839297, -0.61743932, -0.56559089, -0.52700066],\n",
       "        [ 0.51627561,  0.24839297, -0.58463702, -0.46778995, -0.48522735],\n",
       "        [ 0.58465265,  0.21988158, -0.24255593, -0.16623706, -0.10230538],\n",
       "        [ 0.65924578,  0.19137018, -0.24255593, -0.09288635, -0.0326832 ],\n",
       "        [ 0.65302968,  0.19137018, -0.42062554, -0.264038  , -0.2276253 ],\n",
       "        [ 0.78978375,  0.19707246, -0.5377766 , -0.24773784, -0.29028526],\n",
       "        [ 0.72140672,  0.23128613, -0.61743932, -0.32108854, -0.35294522],\n",
       "        [ 0.72140672,  0.23128613, -0.55183472, -0.40258933, -0.37383187],\n",
       "        [ 0.47897905,  0.20847702, -0.65024161, -0.4514898 , -0.45041626],\n",
       "        [ 0.62194921,  0.22558386, -0.5940091 , -0.35368886, -0.36686965],\n",
       "        [ 0.64681359,  0.19707246, -0.72053225, -0.5248405 , -0.53396288],\n",
       "        [ 0.4292503 ,  0.2141793 , -0.6596137 , -0.42703956, -0.45041626],\n",
       "        [ 0.88302516,  0.2141793 , -0.7158462 , -0.39443925, -0.48522735],\n",
       "        [-1.36098479,  0.19137018, -0.15820716, -0.98124489, -0.52003844]]),\n",
       " array([ 0.99420344, -0.56079382,  0.        ,  1.        ,  0.        ,\n",
       "         0.        ,  0.        ]),\n",
       " array([ 2, 99]),\n",
       " 65.62,\n",
       " 79.28)"
      ]
     },
     "execution_count": 15,
     "metadata": {},
     "output_type": "execute_result"
    }
   ],
   "source": [
    "x1, x2, x3, y1, y2 = train_ds[1200]\n",
    "x1, x2, x3, y1, y2"
   ]
  },
  {
   "cell_type": "markdown",
   "metadata": {},
   "source": [
    "## Model"
   ]
  },
  {
   "cell_type": "code",
   "execution_count": 16,
   "metadata": {},
   "outputs": [],
   "source": [
    "def save_model(m, p): torch.save(m.state_dict(), p)\n",
    "    \n",
    "def load_model(m, p): m.load_state_dict(torch.load(p))"
   ]
  },
  {
   "cell_type": "code",
   "execution_count": 17,
   "metadata": {},
   "outputs": [],
   "source": [
    "def pearsonr_ci(x,y,alpha=0.05):\n",
    "    ''' calculate Pearson correlation along with the confidence interval using scipy and numpy\n",
    "    Parameters\n",
    "    ----------\n",
    "    x, y : iterable object such as a list or np.array\n",
    "      Input for correlation calculation\n",
    "    alpha : float\n",
    "      Significance level. 0.05 by default\n",
    "    Returns\n",
    "    -------\n",
    "    r : float\n",
    "      Pearson's correlation coefficient\n",
    "    pval : float\n",
    "      The corresponding p value\n",
    "    lo, hi : float\n",
    "      The lower and upper bound of confidence intervals\n",
    "    '''\n",
    "    r, p = stats.pearsonr(x,y)\n",
    "    r_z = np.arctanh(r)\n",
    "    se = 1/np.sqrt(x.size-3)\n",
    "    z = stats.norm.ppf(1-alpha/2)\n",
    "    lo_z, hi_z = r_z-z*se, r_z+z*se\n",
    "    lo, hi = np.tanh((lo_z, hi_z))\n",
    "    return r, lo, hi"
   ]
  },
  {
   "cell_type": "code",
   "execution_count": 18,
   "metadata": {},
   "outputs": [],
   "source": [
    "def val_metrics(model, valid_dl, which_y=\"y1\"):\n",
    "    model.eval()\n",
    "    total = 0\n",
    "    sum_loss = 0\n",
    "    y_hat = []\n",
    "    ys = []\n",
    "    for x_series, x_cont, x_cat, y1, y2 in valid_dl:\n",
    "        batch = y1.shape[0]\n",
    "        x_series = x_series.float()\n",
    "        x_cont = x_cont.float()\n",
    "        x_cat = x_cat.long()\n",
    "        y1 = y1.float()\n",
    "        y2 = y2.float()\n",
    "        out = model(x_series, x_cont, x_cat)\n",
    "        if which_y==\"y1\":\n",
    "            mse_loss = F.mse_loss(out,  y1.unsqueeze(-1))\n",
    "            ys.append(y1.view(-1).numpy())\n",
    "        else:\n",
    "            mse_loss = F.mse_loss(out, y2.unsqueeze(-1))\n",
    "            ys.append(y2.view(-1).numpy())\n",
    "        sum_loss += batch*(mse_loss.item())\n",
    "        total += batch\n",
    "        y_hat.append(out.view(-1).detach().numpy())\n",
    "    \n",
    "    y_hat = np.concatenate(y_hat)\n",
    "    ys = np.concatenate(ys)\n",
    "    #r2 = metrics.r2_score(ys, y_hat)\n",
    "    r2, lo, hi =  pearsonr_ci(ys, y_hat, alpha=0.05)\n",
    "    \n",
    "    return sum_loss/total, r2, lo, hi"
   ]
  },
  {
   "cell_type": "code",
   "execution_count": 19,
   "metadata": {},
   "outputs": [],
   "source": [
    "def train_epochs(model, train_ds, optimizer, lr=1e-3, epochs = 30, which_y=\"y1\"):\n",
    "    prev_val_r2 = 0\n",
    "    for i in range(epochs):\n",
    "        sum_loss = 0\n",
    "        total = 0\n",
    "        train_ds.pick_a_sample()\n",
    "        train_dl = DataLoader(train_ds, batch_size=5000, shuffle=True)\n",
    "        for x_series, x_cont, x_cat, y1, y2 in train_dl:\n",
    "            model.train()\n",
    "            x_series = x_series.float()\n",
    "            x_cont = x_cont.float()\n",
    "            x_cat = x_cat.long()\n",
    "            y1 = y1.float()\n",
    "            y2 = y2.float()\n",
    "            out = model(x_series, x_cont, x_cat)\n",
    "            if which_y==\"y1\":\n",
    "                loss = F.mse_loss(out, y1.unsqueeze(-1))\n",
    "            else:\n",
    "                loss = F.mse_loss(out, y2.unsqueeze(-1))\n",
    "            sum_loss += y1.shape[0] * loss.item()\n",
    "            \n",
    "            total += y1.shape[0]\n",
    "            optimizer.zero_grad()\n",
    "            loss.backward()\n",
    "            optimizer.step()\n",
    "        if i % 1 == 0:\n",
    "            print(\"iteration : \", i)\n",
    "            val_loss, val_r2 , val_lo,  val_hi = val_metrics(model, valid_dl, which_y=which_y)\n",
    "            print(\"\\tTrain loss: {:.3f} \\n \\t valid loss: {:.3f} valid r2 {:.3f}[{:.3f}-{:.3f}]\".format(\n",
    "                sum_loss/total, val_loss, val_r2, val_lo, val_hi))\n",
    "        if val_r2 > prev_val_r2:\n",
    "            prev_val_r2 = val_r2\n",
    "            if val_r2 > 0.95 :\n",
    "                PATH = Path(\"../../multi-task-romain/2e_analyse/singletask/\")\n",
    "                filename = \"single_model_15min_\" + which_y\n",
    "                path = \"{0}/{1}_r2_{2:.0f}.pth\".format(PATH, filename, 100*val_r2) \n",
    "                save_model(model, path)\n",
    "                print(path)"
   ]
  },
  {
   "cell_type": "code",
   "execution_count": 20,
   "metadata": {},
   "outputs": [],
   "source": [
    "batch_size = 5000\n",
    "train_dl = DataLoader(train_ds, batch_size=batch_size, shuffle=True)\n",
    "valid_dl = DataLoader(valid_ds, batch_size=batch_size)"
   ]
  },
  {
   "cell_type": "markdown",
   "metadata": {},
   "source": [
    "Model 2"
   ]
  },
  {
   "cell_type": "code",
   "execution_count": 21,
   "metadata": {},
   "outputs": [],
   "source": [
    "class EventModel2(nn.Module):\n",
    "    def __init__(self, hidden_size=100):\n",
    "        super(EventModel2, self).__init__()\n",
    "        self.embedding1 = nn.Embedding(5, 1)\n",
    "        self.embedding2 = nn.Embedding(num_subjects+1, 5)\n",
    "        self.gru = nn.GRU(5, hidden_size, batch_first=True)\n",
    "        self.num = hidden_size + 1 + 5 + 7\n",
    "        self.linear1 = nn.Linear(self.num, self.num)\n",
    "        self.out = nn.Linear(self.num, 1)\n",
    "        self.bn1 = nn.BatchNorm1d(self.num)\n",
    "        \n",
    "    def forward(self, x_series, x_cont, x_cat):\n",
    "        _, ht = self.gru(x_series)\n",
    "        x_cat_1 = self.embedding1(x_cat[:,0])\n",
    "        x_cat_2 = self.embedding2(x_cat[:,1])\n",
    "        x = torch.cat((ht[-1], x_cat_1, x_cat_2, x_cont), 1)\n",
    "        x = self.bn1(F.relu(self.linear1(x)))\n",
    "        return self.out(x)"
   ]
  },
  {
   "cell_type": "code",
   "execution_count": 22,
   "metadata": {},
   "outputs": [
    {
     "name": "stdout",
     "output_type": "stream",
     "text": [
      "iteration :  0\n",
      "\tTrain loss: 6904.949 \n",
      " \t valid loss: 7767.161 valid r2 0.793[0.779-0.806]\n",
      "iteration :  1\n",
      "\tTrain loss: 5334.744 \n",
      " \t valid loss: 6739.319 valid r2 0.935[0.930-0.940]\n",
      "iteration :  2\n",
      "\tTrain loss: 2471.856 \n",
      " \t valid loss: 739.397 valid r2 0.935[0.931-0.940]\n",
      "iteration :  3\n",
      "\tTrain loss: 265.513 \n",
      " \t valid loss: 503.243 valid r2 0.924[0.919-0.929]\n",
      "iteration :  4\n",
      "\tTrain loss: 637.682 \n",
      " \t valid loss: 859.743 valid r2 0.941[0.936-0.945]\n",
      "iteration :  5\n",
      "\tTrain loss: 367.111 \n",
      " \t valid loss: 47.789 valid r2 0.954[0.951-0.957]\n",
      "../../multi-task-romain/2e_analyse/singletask/single_model_15min_y1_r2_95.pth\n",
      "iteration :  6\n",
      "\tTrain loss: 53.908 \n",
      " \t valid loss: 177.926 valid r2 0.960[0.957-0.963]\n",
      "../../multi-task-romain/2e_analyse/singletask/single_model_15min_y1_r2_96.pth\n",
      "iteration :  7\n",
      "\tTrain loss: 182.477 \n",
      " \t valid loss: 196.674 valid r2 0.964[0.962-0.967]\n",
      "../../multi-task-romain/2e_analyse/singletask/single_model_15min_y1_r2_96.pth\n",
      "iteration :  8\n",
      "\tTrain loss: 89.505 \n",
      " \t valid loss: 30.649 valid r2 0.966[0.963-0.968]\n",
      "../../multi-task-romain/2e_analyse/singletask/single_model_15min_y1_r2_97.pth\n",
      "iteration :  9\n",
      "\tTrain loss: 24.517 \n",
      " \t valid loss: 38.823 valid r2 0.967[0.965-0.970]\n",
      "../../multi-task-romain/2e_analyse/singletask/single_model_15min_y1_r2_97.pth\n",
      "iteration :  10\n",
      "\tTrain loss: 52.708 \n",
      " \t valid loss: 27.732 valid r2 0.969[0.967-0.971]\n",
      "../../multi-task-romain/2e_analyse/singletask/single_model_15min_y1_r2_97.pth\n",
      "iteration :  11\n",
      "\tTrain loss: 21.664 \n",
      " \t valid loss: 21.896 valid r2 0.970[0.968-0.972]\n",
      "../../multi-task-romain/2e_analyse/singletask/single_model_15min_y1_r2_97.pth\n",
      "iteration :  12\n",
      "\tTrain loss: 20.121 \n",
      " \t valid loss: 35.705 valid r2 0.971[0.969-0.973]\n",
      "../../multi-task-romain/2e_analyse/singletask/single_model_15min_y1_r2_97.pth\n",
      "iteration :  13\n",
      "\tTrain loss: 19.917 \n",
      " \t valid loss: 17.937 valid r2 0.971[0.969-0.973]\n",
      "../../multi-task-romain/2e_analyse/singletask/single_model_15min_y1_r2_97.pth\n",
      "iteration :  14\n",
      "\tTrain loss: 13.011 \n",
      " \t valid loss: 14.840 valid r2 0.972[0.970-0.974]\n",
      "../../multi-task-romain/2e_analyse/singletask/single_model_15min_y1_r2_97.pth\n"
     ]
    }
   ],
   "source": [
    "# model for mean_HR\n",
    "model = EventModel2()\n",
    "\n",
    "optimizer = torch.optim.Adam(model.parameters(), lr=0.05, weight_decay=1e-5)\n",
    "train_epochs(model, train_ds, optimizer, epochs=15)\n",
    "\n",
    "#optimizer = torch.optim.Adam(model.parameters(), lr=0.03, weight_decay=1e-5)\n",
    "#train_epochs(model, train_ds, optimizer, epochs=5)"
   ]
  },
  {
   "cell_type": "code",
   "execution_count": 23,
   "metadata": {},
   "outputs": [
    {
     "name": "stdout",
     "output_type": "stream",
     "text": [
      "iteration :  0\n",
      "\tTrain loss: 6032.056 \n",
      " \t valid loss: 5087.966 valid r2 0.919[0.914-0.925]\n",
      "iteration :  1\n",
      "\tTrain loss: 4653.722 \n",
      " \t valid loss: 2319.435 valid r2 0.873[0.864-0.881]\n",
      "iteration :  2\n",
      "\tTrain loss: 2082.864 \n",
      " \t valid loss: 120.943 valid r2 0.926[0.921-0.931]\n",
      "iteration :  3\n",
      "\tTrain loss: 214.120 \n",
      " \t valid loss: 739.675 valid r2 0.941[0.936-0.945]\n",
      "iteration :  4\n",
      "\tTrain loss: 586.011 \n",
      " \t valid loss: 968.196 valid r2 0.946[0.942-0.950]\n",
      "iteration :  5\n",
      "\tTrain loss: 303.581 \n",
      " \t valid loss: 70.093 valid r2 0.948[0.944-0.952]\n",
      "iteration :  6\n",
      "\tTrain loss: 54.749 \n",
      " \t valid loss: 108.767 valid r2 0.952[0.948-0.955]\n",
      "../../multi-task-romain/2e_analyse/singletask/single_model_15min_y2_r2_95.pth\n",
      "iteration :  7\n",
      "\tTrain loss: 164.650 \n",
      " \t valid loss: 101.847 valid r2 0.952[0.949-0.956]\n",
      "../../multi-task-romain/2e_analyse/singletask/single_model_15min_y2_r2_95.pth\n",
      "iteration :  8\n",
      "\tTrain loss: 76.266 \n",
      " \t valid loss: 17.104 valid r2 0.952[0.949-0.955]\n",
      "iteration :  9\n",
      "\tTrain loss: 28.231 \n",
      " \t valid loss: 63.187 valid r2 0.953[0.949-0.956]\n",
      "../../multi-task-romain/2e_analyse/singletask/single_model_15min_y2_r2_95.pth\n"
     ]
    }
   ],
   "source": [
    "# model mean_MAP\n",
    "model = EventModel2()\n",
    "\n",
    "optimizer = torch.optim.Adam(model.parameters(), lr=0.05, weight_decay=1e-5)\n",
    "train_epochs(model, train_ds, optimizer, epochs=10, which_y=\"y2\")\n",
    "\n",
    "#optimizer = torch.optim.Adam(model.parameters(),lr=0.03, weight_decay=1e-5)\n",
    "#train_epochs(model, train_ds, optimizer, epochs=5, which_y=\"y2\")"
   ]
  },
  {
   "cell_type": "markdown",
   "metadata": {},
   "source": [
    "## Test "
   ]
  },
  {
   "cell_type": "code",
   "execution_count": 25,
   "metadata": {},
   "outputs": [],
   "source": [
    "PATH = Path(\"../../multi-task-romain/2e_analyse/singletask/\")\n",
    "path = PATH/\"single_model_15min_y1_r2_97.pth\"\n",
    "model = EventModel2()\n",
    "load_model(model, path)"
   ]
  },
  {
   "cell_type": "code",
   "execution_count": 26,
   "metadata": {},
   "outputs": [
    {
     "data": {
      "text/plain": [
       "((5933, 14), (1097, 13))"
      ]
     },
     "execution_count": 26,
     "metadata": {},
     "output_type": "execute_result"
    }
   ],
   "source": [
    "filename = \"../../data/data_test_{gap}.pickle\".format(gap=gap)\n",
    "with open(PATH/filename, 'rb') as f:\n",
    "    test = pickle.load(f)\n",
    "    \n",
    "filename = \"../../data/data_validation_{gap}.pickle\".format(gap=gap)\n",
    "with open(PATH/filename, 'rb') as f:\n",
    "    test_larib = pickle.load(f)\n",
    "test_larib[\"care_unit\"] = 4\n",
    "test.shape, test_larib.shape"
   ]
  },
  {
   "cell_type": "code",
   "execution_count": 27,
   "metadata": {},
   "outputs": [],
   "source": [
    "def predict_y1_one_batch(model, dl):\n",
    "    for x_series, x_cont, x_cat, y1, y2 in dl:\n",
    "        x_series = x_series.float()\n",
    "        x_cont = x_cont.float()\n",
    "        x_cat = x_cat.long()\n",
    "        y1 = y1.float()\n",
    "        out1 = model(x_series, x_cont, x_cat)\n",
    "    return out1.detach().numpy(), y1.detach().numpy()\n",
    "\n",
    "class MultiTask_validation(Dataset):\n",
    "    def __init__(self, df, norm_dict, id2index, k=20, train=True):\n",
    "        \"\"\"\n",
    "        Args:\n",
    "            df: dataframe with data\n",
    "            norm_dict: mean and std of all variables to normalize\n",
    "            \n",
    "        \"\"\"\n",
    "        self.norm_dict = norm_dict\n",
    "        self.df = df\n",
    "        self.names = [\"age\", \"sapsii\", \"sofa\"] ## needs normalization\n",
    "        self.names_binary = [\"gender\", \"amine\", \"sedation\", \"ventilation\"]\n",
    "        self.id2index = id2index\n",
    "        self.train = train\n",
    "        self.df_sample = self.pick_a_sample(k)\n",
    "            \n",
    "    def pick_a_sample(self, k=20):\n",
    "        \"\"\" Picks sample with the same number of observations per patient\"\"\"\n",
    "        if not self.train: # fix seed for validation and test\n",
    "            np.random.seed(3)\n",
    "# We don't want the same number of period per patient\n",
    "        # sample = self.df.groupby(\"subject_id\", group_keys=False).apply(lambda x: x.sample(k, replace=True))\n",
    "        sample = self.df.copy()\n",
    "        if self.train:\n",
    "# 10 percent of the periods have a subject_index == 0\n",
    "            self.subject_index = [self.id2index[subject_id] for subject_id in sample.subject_id.values]\n",
    "            self.random = np.random.choice(2, sample.shape[0], p = [0.1, 0.9])\n",
    "            self.subject_index = self.subject_index*self.random\n",
    "        return sample\n",
    "\n",
    "    def __getitem__(self, index):\n",
    "        row = self.df_sample.iloc[index,:] \n",
    "        x_series = (row.series - self.norm_dict[\"series\"][0])/self.norm_dict[\"series\"][1]\n",
    "        x_cont = [(row[name]-self.norm_dict[name][0])/self.norm_dict[name][1] for name in self.names]\n",
    "        x_binary = [row[name] for name in self.names_binary]\n",
    "        subject_index = 0\n",
    "        if self.train:\n",
    "            subject_index = self.subject_index[index]\n",
    "        x_cat = np.array([row[\"care_unit\"], subject_index])\n",
    "        x_cont = np.array(x_cont + x_binary)\n",
    "        return x_series, x_cont, x_cat, row[\"prediction_mean_HR\"], row[\"prediction_mean_MAP\"]\n",
    "\n",
    "    def __len__(self):\n",
    "        return self.df_sample.shape[0]\n"
   ]
  },
  {
   "cell_type": "code",
   "execution_count": 28,
   "metadata": {},
   "outputs": [],
   "source": [
    "test_ds = MultiTask_validation(test, norm_dict, id2index, train=False)\n",
    "test_larib_ds = MultiTask_validation(test_larib, norm_dict, id2index, train = False)"
   ]
  },
  {
   "cell_type": "code",
   "execution_count": 29,
   "metadata": {},
   "outputs": [],
   "source": [
    "test_dl = DataLoader(test_ds, batch_size=8233)\n",
    "test_larib_dl = DataLoader(test_larib_ds, batch_size=1597)"
   ]
  },
  {
   "cell_type": "code",
   "execution_count": 30,
   "metadata": {},
   "outputs": [
    {
     "data": {
      "text/plain": [
       "(15.620271682739258, 0.9728872, 0.9714915258069596, 0.9742154783762002)"
      ]
     },
     "execution_count": 30,
     "metadata": {},
     "output_type": "execute_result"
    }
   ],
   "source": [
    "val_metrics(model, test_dl, which_y=\"y1\")"
   ]
  },
  {
   "cell_type": "code",
   "execution_count": 31,
   "metadata": {},
   "outputs": [
    {
     "data": {
      "text/plain": [
       "(43.04486846923828, 0.930376, 0.9219575488785043, 0.9379156578016868)"
      ]
     },
     "execution_count": 31,
     "metadata": {},
     "output_type": "execute_result"
    }
   ],
   "source": [
    "val_metrics(model, test_larib_dl, which_y=\"y1\")"
   ]
  },
  {
   "cell_type": "code",
   "execution_count": 32,
   "metadata": {},
   "outputs": [],
   "source": [
    "# HR\n",
    "out1, y1 = predict_y1_one_batch(model, test_dl)\n",
    "y1 = np.reshape(y1, (-1,1))\n",
    "arr_hr = np.concatenate((out1, y1) , axis=1)\n",
    "pd.DataFrame(arr_hr).to_csv(\"/home/menyssa/Recherche/Mimic-III-Yannet/resultats/2e_analyse/intern_single_obs_pred_HR_15.csv\")\n",
    "\n",
    "\n",
    "out1, y1 = predict_y1_one_batch(model, test_larib_dl)\n",
    "y1 = np.reshape(y1, (-1,1))\n",
    "arr_hr = np.concatenate((out1, y1) , axis=1)\n",
    "pd.DataFrame(arr_hr).to_csv(\"/home/menyssa/Recherche/Mimic-III-Yannet/resultats/2e_analyse/larib_single_obs_pred_HR_15.csv\")"
   ]
  },
  {
   "cell_type": "code",
   "execution_count": 33,
   "metadata": {},
   "outputs": [],
   "source": [
    "path = PATH/\"single_model_15min_y2_r2_95.pth\"\n",
    "load_model(model, path)"
   ]
  },
  {
   "cell_type": "code",
   "execution_count": 34,
   "metadata": {},
   "outputs": [],
   "source": [
    "def predict_y2_one_batch(model, dl):\n",
    "    for x_series, x_cont, x_cat, y1, y2 in dl:\n",
    "        x_series = x_series.float()\n",
    "        x_cont = x_cont.float()\n",
    "        x_cat = x_cat.long()\n",
    "        y2 = y2.float()\n",
    "        out2 = model(x_series, x_cont, x_cat)\n",
    "    return out2.detach().numpy(), y2.detach().numpy()"
   ]
  },
  {
   "cell_type": "code",
   "execution_count": 35,
   "metadata": {},
   "outputs": [
    {
     "data": {
      "text/plain": [
       "(67.01335906982422, 0.9527012, 0.9502925766221146, 0.9549958270217882)"
      ]
     },
     "execution_count": 35,
     "metadata": {},
     "output_type": "execute_result"
    }
   ],
   "source": [
    "val_metrics(model, test_dl, which_y=\"y2\")"
   ]
  },
  {
   "cell_type": "code",
   "execution_count": 36,
   "metadata": {},
   "outputs": [
    {
     "data": {
      "text/plain": [
       "(107.82295989990234, 0.8906552, 0.8777382254642543, 0.9022785589468852)"
      ]
     },
     "execution_count": 36,
     "metadata": {},
     "output_type": "execute_result"
    }
   ],
   "source": [
    "val_metrics(model, test_larib_dl, which_y=\"y2\")"
   ]
  },
  {
   "cell_type": "code",
   "execution_count": 37,
   "metadata": {},
   "outputs": [],
   "source": [
    "out2, y2 = predict_y2_one_batch(model, test_dl)\n",
    "y2 = np.reshape(y2, (-1,1))\n",
    "arr_map = np.concatenate((out2, y2) , axis=1)\n",
    "pd.DataFrame(arr_map).to_csv(\"/home/menyssa/Recherche/Mimic-III-Yannet/resultats/2e_analyse/intern_single_obs_pred_MAP_15.csv\")\n",
    "\n",
    "out2, y2 = predict_y2_one_batch(model, test_larib_dl)\n",
    "y2 = np.reshape(y2, (-1,1))\n",
    "arr_map = np.concatenate((out2, y2) , axis=1)\n",
    "pd.DataFrame(arr_map).to_csv(\"/home/menyssa/Recherche/Mimic-III-Yannet/resultats/2e_analyse/larib_single_obs_pred_MAP_15.csv\")"
   ]
  },
  {
   "cell_type": "markdown",
   "metadata": {},
   "source": [
    "## looking at the data"
   ]
  },
  {
   "cell_type": "code",
   "execution_count": 38,
   "metadata": {},
   "outputs": [],
   "source": [
    "#filename = \"data_train_{gap}.pickle\".format(gap=\"5min\")\n",
    "#with open(PATH/filename, 'rb') as f:\n",
    "#    train5 = pickle.load(f)"
   ]
  },
  {
   "cell_type": "code",
   "execution_count": 39,
   "metadata": {},
   "outputs": [],
   "source": [
    "#filename = \"data_train_{gap}.pickle\".format(gap=\"10min\")\n",
    "#with open(PATH/filename, 'rb') as f:\n",
    "#    train10 = pickle.load(f)"
   ]
  },
  {
   "cell_type": "code",
   "execution_count": 40,
   "metadata": {},
   "outputs": [],
   "source": [
    "#cols = [\"subject_id\", \"key\", \"prediction_mean_HR\", \"prediction_mean_MAP\"]\n",
    "#train5_s = train5.loc[:, cols]\n",
    "#train10_s = train10.loc[:, cols]"
   ]
  },
  {
   "cell_type": "code",
   "execution_count": 41,
   "metadata": {},
   "outputs": [],
   "source": [
    "#train5_s.iloc[:30]"
   ]
  },
  {
   "cell_type": "code",
   "execution_count": 42,
   "metadata": {},
   "outputs": [],
   "source": [
    "#train10_s.iloc[:30]"
   ]
  }
 ],
 "metadata": {
  "kernelspec": {
   "display_name": "Python 3",
   "language": "python",
   "name": "python3"
  },
  "language_info": {
   "codemirror_mode": {
    "name": "ipython",
    "version": 3
   },
   "file_extension": ".py",
   "mimetype": "text/x-python",
   "name": "python",
   "nbconvert_exporter": "python",
   "pygments_lexer": "ipython3",
   "version": "3.6.10"
  }
 },
 "nbformat": 4,
 "nbformat_minor": 2
}
