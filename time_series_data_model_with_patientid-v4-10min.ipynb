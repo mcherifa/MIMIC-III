{
 "cells": [
  {
   "cell_type": "code",
   "execution_count": 2,
   "metadata": {},
   "outputs": [],
   "source": [
    "%reload_ext autoreload\n",
    "%autoreload 2\n",
    "%matplotlib inline\n",
    "import matplotlib\n",
    "import matplotlib.pyplot as plt\n",
    "\n",
    "import numpy as np\n",
    "import pandas as pd\n",
    "\n",
    "import time\n",
    "\n",
    "from pathlib import Path\n",
    "from sklearn import metrics\n",
    "import random\n",
    "from scipy import stats\n",
    "\n",
    "import torch\n",
    "from torch.utils.data import Dataset, DataLoader\n",
    "import torch.optim as optim\n",
    "import torch.nn as nn\n",
    "import torch.nn.functional as F\n",
    "from torchvision import models\n",
    "import torchvision\n",
    "\n",
    "from datetime import datetime\n",
    "from collections import OrderedDict"
   ]
  },
  {
   "cell_type": "code",
   "execution_count": 3,
   "metadata": {},
   "outputs": [],
   "source": [
    "import pickle"
   ]
  },
  {
   "cell_type": "code",
   "execution_count": 4,
   "metadata": {},
   "outputs": [],
   "source": [
    "PATH = Path(\"../../multi-task-romain/data/\")\n",
    "#PATH = Path(\"/home/menyssa/Recherche/Mimic-III-Yannet/Data/Yannet/data/\")"
   ]
  },
  {
   "cell_type": "code",
   "execution_count": 5,
   "metadata": {},
   "outputs": [
    {
     "data": {
      "text/plain": [
       "'10min'"
      ]
     },
     "execution_count": 5,
     "metadata": {},
     "output_type": "execute_result"
    }
   ],
   "source": [
    "gap = \"10min\"\n",
    "gap"
   ]
  },
  {
   "cell_type": "code",
   "execution_count": 6,
   "metadata": {},
   "outputs": [],
   "source": [
    "filename = \"data_train_{gap}.pickle\".format(gap=gap)\n",
    "with open(PATH/filename, 'rb') as f:\n",
    "    train = pickle.load(f)"
   ]
  },
  {
   "cell_type": "code",
   "execution_count": 7,
   "metadata": {},
   "outputs": [],
   "source": [
    "filename = \"data_valid_{gap}.pickle\".format(gap=gap)\n",
    "with open(PATH/filename, 'rb') as f:\n",
    "    valid = pickle.load(f)"
   ]
  },
  {
   "cell_type": "code",
   "execution_count": 8,
   "metadata": {},
   "outputs": [
    {
     "data": {
      "text/html": [
       "<div>\n",
       "<style scoped>\n",
       "    .dataframe tbody tr th:only-of-type {\n",
       "        vertical-align: middle;\n",
       "    }\n",
       "\n",
       "    .dataframe tbody tr th {\n",
       "        vertical-align: top;\n",
       "    }\n",
       "\n",
       "    .dataframe thead th {\n",
       "        text-align: right;\n",
       "    }\n",
       "</style>\n",
       "<table border=\"1\" class=\"dataframe\">\n",
       "  <thead>\n",
       "    <tr style=\"text-align: right;\">\n",
       "      <th></th>\n",
       "      <th>subject_id</th>\n",
       "      <th>key</th>\n",
       "      <th>gender</th>\n",
       "      <th>age</th>\n",
       "      <th>sapsii</th>\n",
       "      <th>sofa</th>\n",
       "      <th>care_unit</th>\n",
       "      <th>amine</th>\n",
       "      <th>sedation</th>\n",
       "      <th>ventilation</th>\n",
       "      <th>prediction_mean_HR</th>\n",
       "      <th>prediction_mean_MAP</th>\n",
       "      <th>series</th>\n",
       "      <th>group</th>\n",
       "    </tr>\n",
       "  </thead>\n",
       "  <tbody>\n",
       "    <tr>\n",
       "      <th>0</th>\n",
       "      <td>10013</td>\n",
       "      <td>10013_16</td>\n",
       "      <td>1</td>\n",
       "      <td>87</td>\n",
       "      <td>49</td>\n",
       "      <td>7</td>\n",
       "      <td>2</td>\n",
       "      <td>1</td>\n",
       "      <td>0</td>\n",
       "      <td>1</td>\n",
       "      <td>95.44</td>\n",
       "      <td>55.88</td>\n",
       "      <td>[[99.9, 94.2, 107.3, 36.2, 56.7], [107.2, 94.8...</td>\n",
       "      <td>0</td>\n",
       "    </tr>\n",
       "    <tr>\n",
       "      <th>1</th>\n",
       "      <td>10013</td>\n",
       "      <td>10013_17</td>\n",
       "      <td>1</td>\n",
       "      <td>87</td>\n",
       "      <td>49</td>\n",
       "      <td>7</td>\n",
       "      <td>2</td>\n",
       "      <td>1</td>\n",
       "      <td>0</td>\n",
       "      <td>1</td>\n",
       "      <td>83.92</td>\n",
       "      <td>70.28</td>\n",
       "      <td>[[96.0, 92.0, 106.2, 35.2, 55.9], [101.9, 92.7...</td>\n",
       "      <td>0</td>\n",
       "    </tr>\n",
       "    <tr>\n",
       "      <th>2</th>\n",
       "      <td>10013</td>\n",
       "      <td>10013_18</td>\n",
       "      <td>1</td>\n",
       "      <td>87</td>\n",
       "      <td>49</td>\n",
       "      <td>7</td>\n",
       "      <td>2</td>\n",
       "      <td>1</td>\n",
       "      <td>0</td>\n",
       "      <td>1</td>\n",
       "      <td>100.14</td>\n",
       "      <td>65.08</td>\n",
       "      <td>[[0.0, 94.7, 128.5, 43.5, 69.9], [0.0, 94.7, 1...</td>\n",
       "      <td>0</td>\n",
       "    </tr>\n",
       "    <tr>\n",
       "      <th>3</th>\n",
       "      <td>10013</td>\n",
       "      <td>10013_21</td>\n",
       "      <td>1</td>\n",
       "      <td>87</td>\n",
       "      <td>49</td>\n",
       "      <td>7</td>\n",
       "      <td>2</td>\n",
       "      <td>1</td>\n",
       "      <td>0</td>\n",
       "      <td>1</td>\n",
       "      <td>102.86</td>\n",
       "      <td>70.6</td>\n",
       "      <td>[[99.3, 92.0, 126.3, 50.5, 75.6], [100.6, 91.7...</td>\n",
       "      <td>0</td>\n",
       "    </tr>\n",
       "    <tr>\n",
       "      <th>4</th>\n",
       "      <td>10013</td>\n",
       "      <td>10013_22</td>\n",
       "      <td>1</td>\n",
       "      <td>87</td>\n",
       "      <td>49</td>\n",
       "      <td>7</td>\n",
       "      <td>2</td>\n",
       "      <td>1</td>\n",
       "      <td>0</td>\n",
       "      <td>1</td>\n",
       "      <td>109.3</td>\n",
       "      <td>61.86</td>\n",
       "      <td>[[100.7, 93.9, 113.0, 41.6, 66.6], [100.1, 94....</td>\n",
       "      <td>0</td>\n",
       "    </tr>\n",
       "  </tbody>\n",
       "</table>\n",
       "</div>"
      ],
      "text/plain": [
       "   subject_id       key gender age sapsii sofa  care_unit amine sedation  \\\n",
       "0       10013  10013_16      1  87     49    7          2     1        0   \n",
       "1       10013  10013_17      1  87     49    7          2     1        0   \n",
       "2       10013  10013_18      1  87     49    7          2     1        0   \n",
       "3       10013  10013_21      1  87     49    7          2     1        0   \n",
       "4       10013  10013_22      1  87     49    7          2     1        0   \n",
       "\n",
       "  ventilation prediction_mean_HR prediction_mean_MAP  \\\n",
       "0           1              95.44               55.88   \n",
       "1           1              83.92               70.28   \n",
       "2           1             100.14               65.08   \n",
       "3           1             102.86                70.6   \n",
       "4           1              109.3               61.86   \n",
       "\n",
       "                                              series  group  \n",
       "0  [[99.9, 94.2, 107.3, 36.2, 56.7], [107.2, 94.8...      0  \n",
       "1  [[96.0, 92.0, 106.2, 35.2, 55.9], [101.9, 92.7...      0  \n",
       "2  [[0.0, 94.7, 128.5, 43.5, 69.9], [0.0, 94.7, 1...      0  \n",
       "3  [[99.3, 92.0, 126.3, 50.5, 75.6], [100.6, 91.7...      0  \n",
       "4  [[100.7, 93.9, 113.0, 41.6, 66.6], [100.1, 94....      0  "
      ]
     },
     "execution_count": 8,
     "metadata": {},
     "output_type": "execute_result"
    }
   ],
   "source": [
    "train.head()"
   ]
  },
  {
   "cell_type": "code",
   "execution_count": 9,
   "metadata": {},
   "outputs": [
    {
     "data": {
      "text/html": [
       "<div>\n",
       "<style scoped>\n",
       "    .dataframe tbody tr th:only-of-type {\n",
       "        vertical-align: middle;\n",
       "    }\n",
       "\n",
       "    .dataframe tbody tr th {\n",
       "        vertical-align: top;\n",
       "    }\n",
       "\n",
       "    .dataframe thead th {\n",
       "        text-align: right;\n",
       "    }\n",
       "</style>\n",
       "<table border=\"1\" class=\"dataframe\">\n",
       "  <thead>\n",
       "    <tr style=\"text-align: right;\">\n",
       "      <th></th>\n",
       "      <th>subject_id</th>\n",
       "      <th>key</th>\n",
       "      <th>gender</th>\n",
       "      <th>age</th>\n",
       "      <th>sapsii</th>\n",
       "      <th>sofa</th>\n",
       "      <th>care_unit</th>\n",
       "      <th>amine</th>\n",
       "      <th>sedation</th>\n",
       "      <th>ventilation</th>\n",
       "      <th>prediction_mean_HR</th>\n",
       "      <th>prediction_mean_MAP</th>\n",
       "      <th>series</th>\n",
       "      <th>group</th>\n",
       "    </tr>\n",
       "  </thead>\n",
       "  <tbody>\n",
       "    <tr>\n",
       "      <th>1154</th>\n",
       "      <td>11018</td>\n",
       "      <td>11018_26</td>\n",
       "      <td>0</td>\n",
       "      <td>67</td>\n",
       "      <td>47</td>\n",
       "      <td>1</td>\n",
       "      <td>0</td>\n",
       "      <td>0</td>\n",
       "      <td>0</td>\n",
       "      <td>0</td>\n",
       "      <td>74.3533</td>\n",
       "      <td>71.8733</td>\n",
       "      <td>[[79.0, 97.0, 99.0, 60.0, 71.0], [79.0, 97.0, ...</td>\n",
       "      <td>1</td>\n",
       "    </tr>\n",
       "    <tr>\n",
       "      <th>1155</th>\n",
       "      <td>11018</td>\n",
       "      <td>11018_28</td>\n",
       "      <td>0</td>\n",
       "      <td>67</td>\n",
       "      <td>47</td>\n",
       "      <td>1</td>\n",
       "      <td>0</td>\n",
       "      <td>0</td>\n",
       "      <td>0</td>\n",
       "      <td>0</td>\n",
       "      <td>81.33</td>\n",
       "      <td>78.9333</td>\n",
       "      <td>[[77.0, 97.0, 103.0, 62.0, 75.0], [76.0, 96.0,...</td>\n",
       "      <td>1</td>\n",
       "    </tr>\n",
       "    <tr>\n",
       "      <th>1156</th>\n",
       "      <td>11018</td>\n",
       "      <td>11018_29</td>\n",
       "      <td>0</td>\n",
       "      <td>67</td>\n",
       "      <td>47</td>\n",
       "      <td>1</td>\n",
       "      <td>0</td>\n",
       "      <td>0</td>\n",
       "      <td>0</td>\n",
       "      <td>0</td>\n",
       "      <td>81.2033</td>\n",
       "      <td>79.9233</td>\n",
       "      <td>[[83.0, 95.0, 111.0, 65.0, 80.0], [84.0, 95.0,...</td>\n",
       "      <td>1</td>\n",
       "    </tr>\n",
       "    <tr>\n",
       "      <th>1157</th>\n",
       "      <td>11018</td>\n",
       "      <td>11018_30</td>\n",
       "      <td>0</td>\n",
       "      <td>67</td>\n",
       "      <td>47</td>\n",
       "      <td>1</td>\n",
       "      <td>0</td>\n",
       "      <td>0</td>\n",
       "      <td>0</td>\n",
       "      <td>0</td>\n",
       "      <td>81.3867</td>\n",
       "      <td>83.5367</td>\n",
       "      <td>[[81.0, 95.0, 114.0, 65.0, 81.0], [81.0, 94.0,...</td>\n",
       "      <td>1</td>\n",
       "    </tr>\n",
       "    <tr>\n",
       "      <th>1158</th>\n",
       "      <td>11018</td>\n",
       "      <td>11018_31</td>\n",
       "      <td>0</td>\n",
       "      <td>67</td>\n",
       "      <td>47</td>\n",
       "      <td>1</td>\n",
       "      <td>0</td>\n",
       "      <td>0</td>\n",
       "      <td>0</td>\n",
       "      <td>0</td>\n",
       "      <td>78.67</td>\n",
       "      <td>84.5967</td>\n",
       "      <td>[[84.0, 95.0, 114.0, 67.0, 81.0], [81.0, 94.0,...</td>\n",
       "      <td>1</td>\n",
       "    </tr>\n",
       "  </tbody>\n",
       "</table>\n",
       "</div>"
      ],
      "text/plain": [
       "      subject_id       key gender age sapsii sofa  care_unit amine sedation  \\\n",
       "1154       11018  11018_26      0  67     47    1          0     0        0   \n",
       "1155       11018  11018_28      0  67     47    1          0     0        0   \n",
       "1156       11018  11018_29      0  67     47    1          0     0        0   \n",
       "1157       11018  11018_30      0  67     47    1          0     0        0   \n",
       "1158       11018  11018_31      0  67     47    1          0     0        0   \n",
       "\n",
       "     ventilation prediction_mean_HR prediction_mean_MAP  \\\n",
       "1154           0            74.3533             71.8733   \n",
       "1155           0              81.33             78.9333   \n",
       "1156           0            81.2033             79.9233   \n",
       "1157           0            81.3867             83.5367   \n",
       "1158           0              78.67             84.5967   \n",
       "\n",
       "                                                 series  group  \n",
       "1154  [[79.0, 97.0, 99.0, 60.0, 71.0], [79.0, 97.0, ...      1  \n",
       "1155  [[77.0, 97.0, 103.0, 62.0, 75.0], [76.0, 96.0,...      1  \n",
       "1156  [[83.0, 95.0, 111.0, 65.0, 80.0], [84.0, 95.0,...      1  \n",
       "1157  [[81.0, 95.0, 114.0, 65.0, 81.0], [81.0, 94.0,...      1  \n",
       "1158  [[84.0, 95.0, 114.0, 67.0, 81.0], [81.0, 94.0,...      1  "
      ]
     },
     "execution_count": 9,
     "metadata": {},
     "output_type": "execute_result"
    }
   ],
   "source": [
    "valid.head()"
   ]
  },
  {
   "cell_type": "code",
   "execution_count": 10,
   "metadata": {},
   "outputs": [
    {
     "data": {
      "text/plain": [
       "((50255, 14), (5926, 14))"
      ]
     },
     "execution_count": 10,
     "metadata": {},
     "output_type": "execute_result"
    }
   ],
   "source": [
    "train.shape, valid.shape"
   ]
  },
  {
   "cell_type": "code",
   "execution_count": 11,
   "metadata": {},
   "outputs": [],
   "source": [
    "subject_id_list = np.sort(np.unique(train.subject_id.values))\n",
    "id2index = {v: k+1 for k,v in enumerate(subject_id_list)}\n",
    "num_subjects = len(subject_id_list)"
   ]
  },
  {
   "cell_type": "code",
   "execution_count": 12,
   "metadata": {},
   "outputs": [
    {
     "data": {
      "text/plain": [
       "2203"
      ]
     },
     "execution_count": 12,
     "metadata": {},
     "output_type": "execute_result"
    }
   ],
   "source": [
    "# Number of subjects in training\n",
    "num_subjects"
   ]
  },
  {
   "cell_type": "markdown",
   "metadata": {},
   "source": [
    "## Dataset"
   ]
  },
  {
   "cell_type": "code",
   "execution_count": 13,
   "metadata": {},
   "outputs": [],
   "source": [
    "def get_mean_std_series(train):\n",
    "    ss = np.concatenate(train.series.values)\n",
    "    ss = ss.reshape(-1,5)\n",
    "    return ss.mean(axis=0), ss.std(axis=0)"
   ]
  },
  {
   "cell_type": "code",
   "execution_count": 14,
   "metadata": {},
   "outputs": [],
   "source": [
    "def get_mean_std_static(train):\n",
    "    res = {}\n",
    "    for name in [\"age\", \"sapsii\", \"sofa\"]:\n",
    "        values = train[name].values\n",
    "        res[name] = (values.mean(), values.std())\n",
    "    res[\"series\"] = get_mean_std_series(train)\n",
    "    return res"
   ]
  },
  {
   "cell_type": "code",
   "execution_count": 15,
   "metadata": {},
   "outputs": [
    {
     "data": {
      "text/plain": [
       "{'age': (64, 15.057877220725963),\n",
       " 'sapsii': (33, 14.224363336863284),\n",
       " 'sofa': (4, 3.7706540212497375),\n",
       " 'series': (array([ 83.2305084 ,  93.6846448 , 120.9199471 ,  58.75308973,\n",
       "          78.5877452 ]),\n",
       "  array([16.09288223, 17.43347146, 21.26444372, 12.27698671, 14.32744073]))}"
      ]
     },
     "execution_count": 15,
     "metadata": {},
     "output_type": "execute_result"
    }
   ],
   "source": [
    "norm_dict = get_mean_std_static(train)\n",
    "norm_dict "
   ]
  },
  {
   "cell_type": "code",
   "execution_count": 16,
   "metadata": {},
   "outputs": [],
   "source": [
    "class MultiTask(Dataset):\n",
    "    def __init__(self, df, norm_dict, id2index, k=20, train=True):\n",
    "        \"\"\"\n",
    "        Args:\n",
    "            df: dataframe with data\n",
    "            norm_dict: mean and std of all variables to normalize\n",
    "            \n",
    "        \"\"\"\n",
    "        self.norm_dict = norm_dict\n",
    "        self.df = df\n",
    "        self.names = [\"age\", \"sapsii\", \"sofa\"] ## needs normalization\n",
    "        self.names_binary = [\"gender\", \"amine\", \"sedation\", \"ventilation\"]\n",
    "        self.id2index = id2index\n",
    "        self.train = train\n",
    "        self.df_sample = self.pick_a_sample(k)\n",
    "            \n",
    "    def pick_a_sample(self, k=20):\n",
    "        \"\"\" Picks sample with the same number of observations per patient\"\"\"\n",
    "        if not self.train: # fix seed for validation and test\n",
    "            np.random.seed(3)\n",
    "        sample = self.df.groupby(\"subject_id\", group_keys=False).apply(lambda x: x.sample(min(len(x), k)))\n",
    "        sample = sample.copy()\n",
    "        if self.train:\n",
    "            self.subject_index = [self.id2index[subject_id] for subject_id in sample.subject_id.values]\n",
    "            self.random = np.random.choice(2, sample.shape[0], p=[0.1, 0.9])\n",
    "            self.subject_index = self.subject_index*self.random\n",
    "        return sample\n",
    "\n",
    "    def __getitem__(self, index):\n",
    "        row = self.df_sample.iloc[index,:]\n",
    "        x_series = (row.series - self.norm_dict[\"series\"][0])/self.norm_dict[\"series\"][1]\n",
    "        x_cont = [(row[name]-self.norm_dict[name][0])/self.norm_dict[name][1] for name in self.names]\n",
    "        x_binary = [row[name] for name in self.names_binary]\n",
    "        subject_index = 0\n",
    "        if self.train:\n",
    "            subject_index = self.subject_index[index]\n",
    "        x_cat = np.array([row[\"care_unit\"], subject_index])\n",
    "        x_cont = np.array(x_cont + x_binary)\n",
    "        return x_series, x_cont, x_cat, row[\"prediction_mean_HR\"], row[\"prediction_mean_MAP\"]\n",
    "\n",
    "    def __len__(self):\n",
    "        return self.df_sample.shape[0]"
   ]
  },
  {
   "cell_type": "code",
   "execution_count": 17,
   "metadata": {},
   "outputs": [],
   "source": [
    "train_ds = MultiTask(train, norm_dict, id2index, train = True)\n",
    "valid_ds = MultiTask(valid, norm_dict, id2index, train = False)"
   ]
  },
  {
   "cell_type": "code",
   "execution_count": 18,
   "metadata": {},
   "outputs": [
    {
     "name": "stdout",
     "output_type": "stream",
     "text": [
      "27108 3180\n"
     ]
    }
   ],
   "source": [
    "print(len(train_ds), len(valid_ds))"
   ]
  },
  {
   "cell_type": "code",
   "execution_count": 19,
   "metadata": {},
   "outputs": [
    {
     "data": {
      "text/plain": [
       "(array([[-0.16345788, -0.09663278,  0.79851856, -0.61522342,  0.00783495],\n",
       "        [-0.18831359, -0.04500795,  0.17776402, -0.73740324, -0.34114573],\n",
       "        [-0.20074144, -0.07368841, -0.24547772, -0.98990819, -0.70408563],\n",
       "        [-0.20074144, -0.02206358, -0.10439714, -1.33201168, -0.75294293],\n",
       "        [-0.20074144,  0.18443574,  0.87376153, -0.6478047 ,  0.09159031],\n",
       "        [-0.1448161 ,  0.25900494,  1.25938178, -0.35457314,  0.44057099],\n",
       "        [-0.22559715,  0.26474103,  1.39105698, -0.37086378,  0.51734674],\n",
       "        [-0.2131693 ,  0.25900494,  1.16062537, -0.57449681,  0.26608065],\n",
       "        [-0.12617432,  0.21885229,  0.77970781, -0.85143773, -0.11779809],\n",
       "        [-0.25666679,  0.17869965,  0.56338426, -0.83514709, -0.18759423],\n",
       "        [-0.20074144,  0.12133873,  0.4834386 , -0.75369388, -0.16665539],\n",
       "        [-0.20074144,  0.13281091,  0.5163574 , -0.77812984, -0.18759423],\n",
       "        [-0.15724395,  0.25326885,  0.40819563, -0.82700177, -0.26436998],\n",
       "        [-0.13860217,  0.19590792,  0.25770968, -0.92474562, -0.41792148],\n",
       "        [-0.15724395,  0.21885229,  0.19187207, -0.90030966, -0.41792148],\n",
       "        [-0.2131693 ,  0.23032448,  0.16365596, -0.90030966, -0.42490109],\n",
       "        [-0.30016428,  0.23606057,  0.11192641, -0.94918159, -0.48771761],\n",
       "        [-0.10753253,  0.27047712, -0.03385685, -1.07950673, -0.66220795],\n",
       "        [-0.19452752,  0.27621322,  0.1166291 , -0.98990819, -0.52959529],\n",
       "        [-0.20074144,  0.23032448,  0.32824996, -0.82700177, -0.30624766],\n",
       "        [-0.17588573,  0.26474103,  0.14014253, -0.98176287, -0.50167684],\n",
       "        [-0.16345788,  0.138547  ,  0.27652042, -0.88401902, -0.34812534],\n",
       "        [-0.17588573,  0.19017183,  0.3846822 , -0.78627516, -0.27832921],\n",
       "        [-0.17588573,  0.24753275,  0.11192641, -1.04692544, -0.56449336],\n",
       "        [-0.20074144,  0.23032448,  0.18716939, -0.90030966, -0.39698264],\n",
       "        [-0.18209966,  0.26474103,  0.31884459, -0.8758737 , -0.36906418],\n",
       "        [-0.20074144,  0.28194931,  0.05549418, -1.05507076, -0.59241182],\n",
       "        [-0.18831359,  0.27621322,  0.12603447, -0.92474562, -0.45979916],\n",
       "        [-0.24423893,  0.27047712,  0.19187207, -0.84329241, -0.36906418],\n",
       "        [-0.13860217,  0.27621322,  0.23889893, -0.88401902, -0.38302341]]),\n",
       " array([ 1.39461889,  0.21090575, -0.26520598,  0.        ,  0.        ,\n",
       "         0.        ,  1.        ]),\n",
       " array([ 1, 92]),\n",
       " 79.54,\n",
       " 72.2)"
      ]
     },
     "execution_count": 19,
     "metadata": {},
     "output_type": "execute_result"
    }
   ],
   "source": [
    "x1, x2, x3, y1, y2 = train_ds[1200]\n",
    "x1, x2, x3, y1, y2"
   ]
  },
  {
   "cell_type": "code",
   "execution_count": 20,
   "metadata": {},
   "outputs": [
    {
     "data": {
      "text/plain": [
       "care_unit\n",
       "0     7373\n",
       "1    17077\n",
       "2    11899\n",
       "3     9358\n",
       "4     4548\n",
       "dtype: int64"
      ]
     },
     "execution_count": 20,
     "metadata": {},
     "output_type": "execute_result"
    }
   ],
   "source": [
    "tab = train.groupby(['care_unit']).size()\n",
    "tab"
   ]
  },
  {
   "cell_type": "markdown",
   "metadata": {},
   "source": [
    "## Model"
   ]
  },
  {
   "cell_type": "code",
   "execution_count": 21,
   "metadata": {},
   "outputs": [],
   "source": [
    "def save_model(m, p): torch.save(m.state_dict(), p)\n",
    "    \n",
    "def load_model(m, p): m.load_state_dict(torch.load(p))"
   ]
  },
  {
   "cell_type": "code",
   "execution_count": 22,
   "metadata": {},
   "outputs": [],
   "source": [
    "def pearsonr_ci(x,y,alpha=0.05):\n",
    "    ''' calculate Pearson correlation along with the confidence interval using scipy and numpy\n",
    "    Parameters\n",
    "    ----------\n",
    "    x, y : iterable object such as a list or np.array\n",
    "      Input for correlation calculation\n",
    "    alpha : float\n",
    "      Significance level. 0.05 by default\n",
    "    Returns\n",
    "    -------\n",
    "    r : float\n",
    "      Pearson's correlation coefficient\n",
    "    pval : float\n",
    "      The corresponding p value\n",
    "    lo, hi : float\n",
    "      The lower and upper bound of confidence intervals\n",
    "    '''\n",
    "    r, p = stats.pearsonr(x,y)\n",
    "    r_z = np.arctanh(r)\n",
    "    se = 1/np.sqrt(x.size-3)\n",
    "    z = stats.norm.ppf(1-alpha/2)\n",
    "    lo_z, hi_z = r_z-z*se, r_z+z*se\n",
    "    lo, hi = np.tanh((lo_z, hi_z))\n",
    "    return r, p, lo, hi"
   ]
  },
  {
   "cell_type": "code",
   "execution_count": 23,
   "metadata": {},
   "outputs": [],
   "source": [
    "class EventModel1(nn.Module):\n",
    "    def __init__(self, hidden_size=100):\n",
    "        super(EventModel1, self).__init__()\n",
    "        self.embedding1 = nn.Embedding(5, 1)\n",
    "        self.embedding2 = nn.Embedding(num_subjects+1, 5)\n",
    "        self.gru = nn.GRU(5, hidden_size, batch_first=True)\n",
    "        self.num = hidden_size + 10 + 1 + 5\n",
    "        self.linear1 = nn.Linear(7, 10)\n",
    "        self.out1 = nn.Linear(self.num, 1)\n",
    "        self.out2 = nn.Linear(self.num, 1)\n",
    "        self.bn1 = nn.BatchNorm1d(10)\n",
    "\n",
    "    def forward(self, x_series, x_cont, x_cat):\n",
    "        _, ht = self.gru(x_series)\n",
    "        x_cat_1 = self.embedding1(x_cat[:,0])\n",
    "        x_cat_2 = self.embedding2(x_cat[:,1])\n",
    "        x_cont = self.bn1(F.relu(self.linear1(x_cont))) \n",
    "        x = torch.cat((ht[-1], x_cat_1, x_cat_2, x_cont), 1)\n",
    "        return self.out1(x), self.out2(x)"
   ]
  },
  {
   "cell_type": "code",
   "execution_count": 24,
   "metadata": {},
   "outputs": [],
   "source": [
    "def val_metrics(model, valid_dl):\n",
    "    model.eval()\n",
    "    total = 0\n",
    "    sum_loss = 0\n",
    "    y_hat1 = []\n",
    "    ys1 = []\n",
    "    y_hat2 = []\n",
    "    ys2 = []\n",
    "    for x_series, x_cont, x_cat, y1, y2 in valid_dl:\n",
    "        batch = y1.shape[0]\n",
    "        x_series = x_series.float()\n",
    "        x_cont = x_cont.float()\n",
    "        x_cat = x_cat.long()\n",
    "        y1 = y1.float()\n",
    "        y2 = y2.float()\n",
    "        out1, out2 = model(x_series, x_cont, x_cat)\n",
    "        mse_loss1 = F.mse_loss(out1, y1.unsqueeze(-1))\n",
    "        mse_loss2 = F.mse_loss(out2, y2.unsqueeze(-1))\n",
    "        loss = mse_loss1 + mse_loss2\n",
    "        sum_loss += batch*(loss.item())\n",
    "        total += batch\n",
    "        y_hat1.append(out1.view(-1).detach().numpy())\n",
    "        ys1.append(y1.view(-1).numpy())\n",
    "        y_hat2.append(out2.view(-1).detach().numpy())\n",
    "        ys2.append(y2.view(-1).numpy())\n",
    "    \n",
    "    y_hat1 = np.concatenate(y_hat1)\n",
    "    y_hat2 = np.concatenate(y_hat2)\n",
    "    ys1 = np.concatenate(ys1)\n",
    "    ys2 = np.concatenate(ys2)\n",
    "    r2_1, p, lo2_1, hi2_1 =  pearsonr_ci(ys1, y_hat1, alpha=0.05)\n",
    "    r2_2, p, lo2_2, hi2_2 =  pearsonr_ci(ys2, y_hat2, alpha=0.05)\n",
    "    #r2_1 = metrics.r2_score(ys1, y_hat1)\n",
    "    #r2_2 = metrics.r2_score(ys2, y_hat2)\n",
    "    #return sum_loss/total,\n",
    "    return sum_loss/total,  r2_1,lo2_1, hi2_1, r2_2, lo2_2, hi2_2"
   ]
  },
  {
   "cell_type": "code",
   "execution_count": 25,
   "metadata": {},
   "outputs": [],
   "source": [
    "def train_epochs(model, train_ds, optimizer, filename, lr=1e-3, epochs = 30):\n",
    "    t = time.process_time()\n",
    "    prev_val_r2 = 0\n",
    "    for i in range(epochs):\n",
    "        sum_loss1 = 0\n",
    "        sum_loss2 = 0\n",
    "        total = 0\n",
    "        train_ds.pick_a_sample()\n",
    "        train_dl = DataLoader(train_ds, batch_size=5000, shuffle=True)\n",
    "        valid_dl = DataLoader(valid_ds, batch_size=batch_size)\n",
    "        for x_series, x_cont, x_cat, y1, y2 in train_dl:\n",
    "            model.train()\n",
    "            x_series = x_series.float()\n",
    "            x_cont = x_cont.float()\n",
    "            x_cat = x_cat.long()\n",
    "            y1 = y1.float()\n",
    "            y2 = y2.float()\n",
    "            out1, out2 = model(x_series, x_cont, x_cat)\n",
    "            mse_loss1 = F.mse_loss(out1, y1.unsqueeze(-1))\n",
    "            mse_loss2 = F.mse_loss(out2, y2.unsqueeze(-1))\n",
    "            loss = mse_loss1 + mse_loss2\n",
    "            sum_loss1 += len(y1) * mse_loss1.item()\n",
    "            sum_loss2 += len(y1) * mse_loss2.item()\n",
    "            total += len(y1)\n",
    "            optimizer.zero_grad()\n",
    "            loss.backward()\n",
    "            optimizer.step()\n",
    "        if i % 1 == 0:\n",
    "            print(\"iteration : \", i)\n",
    "            # val_loss, val_r2_1, val_r2_2 = val_metrics(model, valid_dl)\n",
    "            #train_loss, train_r2_1,  train_lo2_1,  train_hi2_1, train_r2_2,  train_lo2_2,  train_hi2_2  = val_metrics(model, train_dl)\n",
    "            #print(\"\\tTrain loss (after): {:.3f}\".format(train_loss)) \n",
    "            print(\"\\tTrain loss: {:.3f} {:.3f}\".format(sum_loss1/total, sum_loss2/total))             \n",
    "            val_loss, val_r2_1,  val_lo2_1,  val_hi2_1, val_r2_2,  val_lo2_2,  val_hi2_2  = val_metrics(model, valid_dl)\n",
    "            print(\"\\tValid loss: {:.3f} \\n valid r2 hr {:.3f}[{:.3f}-{:.3f}] valid r2 map {:.3f}[{:.3f}-{:.3f}]\".format(\n",
    "               val_loss, val_r2_1,  val_lo2_1,  val_hi2_1, val_r2_2,  val_lo2_2,  val_hi2_2))\n",
    "            \n",
    "        if val_r2_1 > prev_val_r2:\n",
    "            prev_val_r2 = val_r2_1\n",
    "            if val_r2_1 > 0.95:\n",
    "                PATH = Path(\"../../multi-task-romain/2e_analyse/multitask/\")\n",
    "                path = \"{0}/{1}_10min_r2_{2:.0f}_{3:.0f}.pth\".format(PATH, filename, 100*val_r2_1, 100*val_r2_2) \n",
    "                save_model(model, path)\n",
    "                print(path)\n",
    "    elapsed_time = time.process_time() - t\n",
    "    print('time consuming: ', elapsed_time, 'secs')"
   ]
  },
  {
   "cell_type": "code",
   "execution_count": 26,
   "metadata": {},
   "outputs": [],
   "source": [
    "batch_size = 5000\n",
    "train_dl = DataLoader(train_ds, batch_size=batch_size, shuffle=True)\n",
    "valid_dl = DataLoader(valid_ds, batch_size=batch_size)"
   ]
  },
  {
   "cell_type": "code",
   "execution_count": 27,
   "metadata": {},
   "outputs": [],
   "source": [
    "model = EventModel1()"
   ]
  },
  {
   "cell_type": "code",
   "execution_count": 28,
   "metadata": {},
   "outputs": [
    {
     "data": {
      "text/plain": [
       "(13673.6123046875,\n",
       " -0.6210881,\n",
       " -0.6419874831451359,\n",
       " -0.5992664447409334,\n",
       " -0.024430446,\n",
       " -0.05913900377505074,\n",
       " 0.010337109616095023)"
      ]
     },
     "execution_count": 28,
     "metadata": {},
     "output_type": "execute_result"
    }
   ],
   "source": [
    "val_metrics(model, valid_dl)"
   ]
  },
  {
   "cell_type": "code",
   "execution_count": 28,
   "metadata": {},
   "outputs": [
    {
     "name": "stdout",
     "output_type": "stream",
     "text": [
      "iteration :  0\n",
      "\tTrain loss: 6167.473 5346.851\n",
      "\tValid loss: 7402.272 \n",
      " valid r2 hr 0.382[0.352-0.412] valid r2 map 0.578[0.554-0.601]\n",
      "iteration :  1\n",
      "\tTrain loss: 3006.765 2449.788\n",
      "\tValid loss: 2214.107 \n",
      " valid r2 hr 0.366[0.336-0.396] valid r2 map 0.529[0.503-0.553]\n",
      "iteration :  2\n",
      "\tTrain loss: 757.447 534.904\n",
      "\tValid loss: 333.084 \n",
      " valid r2 hr 0.467[0.440-0.494] valid r2 map 0.640[0.619-0.660]\n",
      "iteration :  3\n",
      "\tTrain loss: 220.208 185.676\n",
      "\tValid loss: 820.381 \n",
      " valid r2 hr 0.715[0.698-0.732] valid r2 map 0.816[0.804-0.827]\n",
      "iteration :  4\n",
      "\tTrain loss: 314.849 247.386\n",
      "\tValid loss: 538.577 \n",
      " valid r2 hr 0.717[0.700-0.734] valid r2 map 0.835[0.824-0.845]\n",
      "iteration :  5\n",
      "\tTrain loss: 168.937 91.997\n",
      "\tValid loss: 193.798 \n",
      " valid r2 hr 0.813[0.800-0.824] valid r2 map 0.849[0.839-0.859]\n",
      "iteration :  6\n",
      "\tTrain loss: 117.236 67.387\n",
      "\tValid loss: 202.973 \n",
      " valid r2 hr 0.699[0.681-0.716] valid r2 map 0.782[0.768-0.795]\n",
      "iteration :  7\n",
      "\tTrain loss: 104.401 86.708\n",
      "\tValid loss: 136.559 \n",
      " valid r2 hr 0.853[0.843-0.862] valid r2 map 0.831[0.820-0.842]\n",
      "iteration :  8\n",
      "\tTrain loss: 56.522 54.562\n",
      "\tValid loss: 118.138 \n",
      " valid r2 hr 0.889[0.882-0.896] valid r2 map 0.834[0.823-0.844]\n",
      "iteration :  9\n",
      "\tTrain loss: 42.387 47.384\n",
      "\tValid loss: 109.664 \n",
      " valid r2 hr 0.898[0.891-0.904] valid r2 map 0.850[0.840-0.860]\n",
      "time consuming:  365.521270396 secs\n",
      "iteration :  0\n",
      "\tTrain loss: 38.600 44.645\n",
      "\tValid loss: 82.392 \n",
      " valid r2 hr 0.918[0.912-0.923] valid r2 map 0.876[0.868-0.884]\n",
      "iteration :  1\n",
      "\tTrain loss: 29.682 37.425\n",
      "\tValid loss: 74.274 \n",
      " valid r2 hr 0.932[0.927-0.936] valid r2 map 0.887[0.880-0.894]\n",
      "iteration :  2\n",
      "\tTrain loss: 24.043 32.570\n",
      "\tValid loss: 62.738 \n",
      " valid r2 hr 0.945[0.941-0.948] valid r2 map 0.902[0.895-0.908]\n",
      "iteration :  3\n",
      "\tTrain loss: 19.978 28.429\n",
      "\tValid loss: 53.313 \n",
      " valid r2 hr 0.954[0.951-0.957] valid r2 map 0.919[0.913-0.924]\n",
      "../../multi-task-romain/2e_analyse/multitask/multi_model_10min_r2_95_92.pth\n",
      "iteration :  4\n",
      "\tTrain loss: 17.673 23.962\n",
      "\tValid loss: 48.275 \n",
      " valid r2 hr 0.961[0.958-0.963] valid r2 map 0.930[0.925-0.935]\n",
      "../../multi-task-romain/2e_analyse/multitask/multi_model_10min_r2_96_93.pth\n",
      "iteration :  5\n",
      "\tTrain loss: 15.515 21.368\n",
      "\tValid loss: 41.189 \n",
      " valid r2 hr 0.966[0.963-0.968] valid r2 map 0.939[0.935-0.943]\n",
      "../../multi-task-romain/2e_analyse/multitask/multi_model_10min_r2_97_94.pth\n",
      "iteration :  6\n",
      "\tTrain loss: 14.151 19.203\n",
      "\tValid loss: 37.160 \n",
      " valid r2 hr 0.970[0.968-0.972] valid r2 map 0.945[0.941-0.949]\n",
      "../../multi-task-romain/2e_analyse/multitask/multi_model_10min_r2_97_95.pth\n",
      "iteration :  7\n",
      "\tTrain loss: 12.822 18.170\n",
      "\tValid loss: 33.878 \n",
      " valid r2 hr 0.972[0.970-0.974] valid r2 map 0.949[0.945-0.952]\n",
      "../../multi-task-romain/2e_analyse/multitask/multi_model_10min_r2_97_95.pth\n",
      "iteration :  8\n",
      "\tTrain loss: 11.978 17.305\n",
      "\tValid loss: 31.710 \n",
      " valid r2 hr 0.974[0.973-0.976] valid r2 map 0.951[0.948-0.955]\n",
      "../../multi-task-romain/2e_analyse/multitask/multi_model_10min_r2_97_95.pth\n",
      "iteration :  9\n",
      "\tTrain loss: 11.277 16.694\n",
      "\tValid loss: 29.101 \n",
      " valid r2 hr 0.976[0.974-0.978] valid r2 map 0.954[0.951-0.957]\n",
      "../../multi-task-romain/2e_analyse/multitask/multi_model_10min_r2_98_95.pth\n",
      "iteration :  10\n",
      "\tTrain loss: 10.727 16.345\n",
      "\tValid loss: 27.792 \n",
      " valid r2 hr 0.978[0.976-0.979] valid r2 map 0.955[0.952-0.958]\n",
      "../../multi-task-romain/2e_analyse/multitask/multi_model_10min_r2_98_96.pth\n",
      "iteration :  11\n",
      "\tTrain loss: 10.220 15.972\n",
      "\tValid loss: 27.323 \n",
      " valid r2 hr 0.978[0.977-0.980] valid r2 map 0.955[0.952-0.958]\n",
      "../../multi-task-romain/2e_analyse/multitask/multi_model_10min_r2_98_96.pth\n",
      "iteration :  12\n",
      "\tTrain loss: 10.126 15.963\n",
      "\tValid loss: 26.434 \n",
      " valid r2 hr 0.980[0.978-0.981] valid r2 map 0.957[0.954-0.959]\n",
      "../../multi-task-romain/2e_analyse/multitask/multi_model_10min_r2_98_96.pth\n",
      "iteration :  13\n",
      "\tTrain loss: 9.815 15.652\n",
      "\tValid loss: 25.351 \n",
      " valid r2 hr 0.980[0.979-0.982] valid r2 map 0.958[0.955-0.960]\n",
      "../../multi-task-romain/2e_analyse/multitask/multi_model_10min_r2_98_96.pth\n",
      "iteration :  14\n",
      "\tTrain loss: 9.606 15.469\n",
      "\tValid loss: 25.023 \n",
      " valid r2 hr 0.981[0.979-0.982] valid r2 map 0.958[0.955-0.960]\n",
      "../../multi-task-romain/2e_analyse/multitask/multi_model_10min_r2_98_96.pth\n",
      "iteration :  15\n",
      "\tTrain loss: 9.450 15.442\n",
      "\tValid loss: 24.378 \n",
      " valid r2 hr 0.981[0.980-0.983] valid r2 map 0.959[0.956-0.961]\n",
      "../../multi-task-romain/2e_analyse/multitask/multi_model_10min_r2_98_96.pth\n",
      "iteration :  16\n",
      "\tTrain loss: 9.230 15.093\n",
      "\tValid loss: 23.909 \n",
      " valid r2 hr 0.982[0.981-0.983] valid r2 map 0.959[0.956-0.962]\n",
      "../../multi-task-romain/2e_analyse/multitask/multi_model_10min_r2_98_96.pth\n",
      "iteration :  17\n",
      "\tTrain loss: 9.117 14.936\n",
      "\tValid loss: 23.641 \n",
      " valid r2 hr 0.982[0.980-0.983] valid r2 map 0.960[0.957-0.962]\n",
      "iteration :  18\n",
      "\tTrain loss: 9.069 14.796\n",
      "\tValid loss: 23.343 \n",
      " valid r2 hr 0.983[0.982-0.984] valid r2 map 0.960[0.957-0.962]\n",
      "../../multi-task-romain/2e_analyse/multitask/multi_model_10min_r2_98_96.pth\n",
      "iteration :  19\n",
      "\tTrain loss: 8.825 14.689\n",
      "\tValid loss: 23.195 \n",
      " valid r2 hr 0.983[0.982-0.984] valid r2 map 0.960[0.957-0.962]\n",
      "../../multi-task-romain/2e_analyse/multitask/multi_model_10min_r2_98_96.pth\n",
      "time consuming:  748.181507991 secs\n"
     ]
    }
   ],
   "source": [
    "# 0s in training\n",
    "model = EventModel1()\n",
    "\n",
    "optimizer = torch.optim.Adam(model.parameters(), lr=0.05, weight_decay=1e-5)\n",
    "train_epochs(model, train_ds, optimizer, filename=\"multi_model\", epochs=10)\n",
    "\n",
    "optimizer = torch.optim.Adam(model.parameters(), lr=0.03, weight_decay=1e-5)\n",
    "train_epochs(model, train_ds, optimizer,filename=\"multi_model\", epochs=20)"
   ]
  },
  {
   "cell_type": "markdown",
   "metadata": {},
   "source": [
    "## Calibration plot"
   ]
  },
  {
   "cell_type": "code",
   "execution_count": 29,
   "metadata": {},
   "outputs": [],
   "source": [
    "file = Path(\"../../multi-task-romain/2e_analyse/multitask/multi_model_10min_r2_98_96.pth\")\n",
    "model = EventModel1()\n",
    "load_model(model, file)"
   ]
  },
  {
   "cell_type": "code",
   "execution_count": 30,
   "metadata": {},
   "outputs": [
    {
     "data": {
      "text/plain": [
       "((5926, 14), (7002, 14), (1314, 13))"
      ]
     },
     "execution_count": 30,
     "metadata": {},
     "output_type": "execute_result"
    }
   ],
   "source": [
    "filename = \"data_test_{gap}.pickle\".format(gap=gap)\n",
    "with open(PATH/filename, 'rb') as f:\n",
    "    test = pickle.load(f)\n",
    "    \n",
    "filename = \"data_validation_{gap}.pickle\".format(gap=gap)\n",
    "with open(PATH/filename, 'rb') as f:\n",
    "    test_larib = pickle.load(f)\n",
    "test_larib[\"care_unit\"] = 4\n",
    "valid.shape, test.shape, test_larib.shape"
   ]
  },
  {
   "cell_type": "code",
   "execution_count": 31,
   "metadata": {},
   "outputs": [],
   "source": [
    "def predict_one_batch(model, dl):\n",
    "    for x_series, x_cont, x_cat, y1, y2 in dl:\n",
    "        x_series = x_series.float()\n",
    "        x_cont = x_cont.float()\n",
    "        x_cat = x_cat.long()\n",
    "        y1 = y1.float()\n",
    "        y2 = y2.float()\n",
    "        out1, out2 = model(x_series, x_cont, x_cat)\n",
    "    return out1.detach().numpy(), out2.detach().numpy(), y1.detach().numpy(), y2.detach().numpy()\n",
    "\n",
    "class MultiTask_validation(Dataset):\n",
    "    def __init__(self, df, norm_dict, id2index, k=20, train=True):\n",
    "        \"\"\"\n",
    "        Args:\n",
    "            df: dataframe with data\n",
    "            norm_dict: mean and std of all variables to normalize\n",
    "            \n",
    "        \"\"\"\n",
    "        self.norm_dict = norm_dict\n",
    "        self.df = df\n",
    "        self.names = [\"age\", \"sapsii\", \"sofa\"] ## needs normalization\n",
    "        self.names_binary = [\"gender\", \"amine\", \"sedation\", \"ventilation\"]\n",
    "        self.id2index = id2index\n",
    "        self.train = train\n",
    "        self.df_sample = self.pick_a_sample(k)\n",
    "            \n",
    "    def pick_a_sample(self, k=20):\n",
    "        \"\"\" Picks sample with the same number of observations per patient\"\"\"\n",
    "        if not self.train: # fix seed for validation and test\n",
    "            np.random.seed(3)\n",
    "# We don't want the same number of period per patient\n",
    "        # sample = self.df.groupby(\"subject_id\", group_keys=False).apply(lambda x: x.sample(k, replace=True))\n",
    "        sample = self.df.copy()\n",
    "        if self.train:\n",
    "# 10 percent of the periods have a subject_index == 0\n",
    "            self.subject_index = [self.id2index[subject_id] for subject_id in sample.subject_id.values]\n",
    "            self.random = np.random.choice(2, sample.shape[0], p = [0.1, 0.9])\n",
    "            self.subject_index = self.subject_index*self.random\n",
    "        return sample\n",
    "\n",
    "    def __getitem__(self, index):\n",
    "        row = self.df_sample.iloc[index,:] \n",
    "        x_series = (row.series - self.norm_dict[\"series\"][0])/self.norm_dict[\"series\"][1]\n",
    "        x_cont = [(row[name]-self.norm_dict[name][0])/self.norm_dict[name][1] for name in self.names]\n",
    "        x_binary = [row[name] for name in self.names_binary]\n",
    "        subject_index = 0\n",
    "        if self.train:\n",
    "            subject_index = self.subject_index[index]\n",
    "        x_cat = np.array([row[\"care_unit\"], subject_index])\n",
    "        x_cont = np.array(x_cont + x_binary)\n",
    "        return x_series, x_cont, x_cat, row[\"prediction_mean_HR\"], row[\"prediction_mean_MAP\"]\n",
    "\n",
    "    def __len__(self):\n",
    "        return self.df_sample.shape[0]"
   ]
  },
  {
   "cell_type": "code",
   "execution_count": 32,
   "metadata": {},
   "outputs": [],
   "source": [
    "valid_ds = MultiTask_validation(valid, norm_dict, id2index, train = False)\n",
    "valid_dl = DataLoader(valid_ds, batch_size=5926)"
   ]
  },
  {
   "cell_type": "code",
   "execution_count": 33,
   "metadata": {},
   "outputs": [],
   "source": [
    "test_ds = MultiTask_validation(test, norm_dict, id2index, train = False)\n",
    "test_dl = DataLoader(test_ds, batch_size=8233)"
   ]
  },
  {
   "cell_type": "code",
   "execution_count": 34,
   "metadata": {},
   "outputs": [],
   "source": [
    "# norm_dict_valid = get_mean_std_static(test_larib)\n",
    "# test_larib_ds = MultiTask(test_larib, norm_dict, id2index, train = False)\n",
    "test_larib_ds = MultiTask_validation(test_larib, norm_dict, id2index, train = False)\n",
    "test_larib_dl = DataLoader(test_larib_ds, batch_size=1597)"
   ]
  },
  {
   "cell_type": "code",
   "execution_count": 35,
   "metadata": {},
   "outputs": [],
   "source": [
    "# val_metrics(model, valid_dl)"
   ]
  },
  {
   "cell_type": "code",
   "execution_count": 36,
   "metadata": {
    "scrolled": true
   },
   "outputs": [
    {
     "data": {
      "text/plain": [
       "(27.9521484375,\n",
       " 0.98062813,\n",
       " 0.9797082832821911,\n",
       " 0.9815066748479149,\n",
       " 0.95746607,\n",
       " 0.9554711217913839,\n",
       " 0.9593734959780517)"
      ]
     },
     "execution_count": 36,
     "metadata": {},
     "output_type": "execute_result"
    }
   ],
   "source": [
    "val_metrics(model, test_dl)"
   ]
  },
  {
   "cell_type": "code",
   "execution_count": 37,
   "metadata": {
    "scrolled": true
   },
   "outputs": [
    {
     "data": {
      "text/plain": [
       "(92.78907775878906,\n",
       " 0.9308275,\n",
       " 0.9232219551714272,\n",
       " 0.9377040575997467,\n",
       " 0.9174105,\n",
       " 0.9083997352945441,\n",
       " 0.9255694481824893)"
      ]
     },
     "execution_count": 37,
     "metadata": {},
     "output_type": "execute_result"
    }
   ],
   "source": [
    "val_metrics(model, test_larib_dl)"
   ]
  },
  {
   "cell_type": "markdown",
   "metadata": {},
   "source": [
    "### Mimic III valid predictions"
   ]
  },
  {
   "cell_type": "code",
   "execution_count": 38,
   "metadata": {},
   "outputs": [],
   "source": [
    "out1, out2, y1, y2 = predict_one_batch(model, valid_dl)\n",
    "y1 = np.reshape(y1, (-1,1))\n",
    "y2 = np.reshape(y2, (-1,1))\n",
    "arr_hr = np.concatenate((out1, y1) , axis=1)\n",
    "arr_map = np.concatenate((out2, y2) , axis=1)\n",
    "pd.DataFrame(arr_hr).to_csv(\"/home/menyssa/Recherche/Mimic-III-Yannet/resultats/2e_analyse/valid_obs_pred_HR_10.csv\")\n",
    "pd.DataFrame(arr_map).to_csv(\"/home/menyssa/Recherche/Mimic-III-Yannet/resultats/2e_analyse/valid_obs_pred_MAP_10.csv\")"
   ]
  },
  {
   "cell_type": "markdown",
   "metadata": {},
   "source": [
    "### Mimic III testing set predictions"
   ]
  },
  {
   "cell_type": "code",
   "execution_count": 39,
   "metadata": {},
   "outputs": [],
   "source": [
    "out1, out2, y1, y2 = predict_one_batch(model, test_dl)\n",
    "y1 = np.reshape(y1, (-1,1))\n",
    "y2 = np.reshape(y2, (-1,1))\n",
    "arr_hr = np.concatenate((out1, y1) , axis=1)\n",
    "arr_map = np.concatenate((out2, y2) , axis=1)\n",
    "pd.DataFrame(arr_hr).to_csv(\"/home/menyssa/Recherche/Mimic-III-Yannet/resultats/2e_analyse/intern_obs_pred_HR_10.csv\")\n",
    "pd.DataFrame(arr_map).to_csv(\"/home/menyssa/Recherche/Mimic-III-Yannet/resultats/2e_analyse/intern_obs_pred_MAP_10.csv\")"
   ]
  },
  {
   "cell_type": "code",
   "execution_count": 40,
   "metadata": {},
   "outputs": [
    {
     "data": {
      "image/png": "[encoded data removed]",
      "text/plain": [
       "<Figure size 432x288 with 1 Axes>"
      ]
     },
     "metadata": {},
     "output_type": "display_data"
    }
   ],
   "source": [
    "x = np.linspace(50, 160, 1000)\n",
    "plt.plot(out1, y1, 'bo', ms=5)\n",
    "plt.xlabel(\"Predicted\")\n",
    "plt.ylabel(\"Actual\")\n",
    "plt.title(\"mean_HR on test\")\n",
    "plt.plot(x, x, '-g')\n",
    "plt.show()"
   ]
  },
  {
   "cell_type": "code",
   "execution_count": 41,
   "metadata": {},
   "outputs": [
    {
     "data": {
      "image/png": "[encoded data removed]",
      "text/plain": [
       "<Figure size 432x288 with 1 Axes>"
      ]
     },
     "metadata": {},
     "output_type": "display_data"
    }
   ],
   "source": [
    "x = np.linspace(40, 140, 1000)\n",
    "plt.plot(out2, y2, 'bo', ms=5)\n",
    "plt.xlabel(\"Predicted\")\n",
    "plt.ylabel(\"Actual\")\n",
    "plt.title(\"mean_MAP on test\")\n",
    "plt.plot(x, x, '-g')\n",
    "plt.show()"
   ]
  },
  {
   "cell_type": "markdown",
   "metadata": {},
   "source": [
    "### Lariboisiere predictions"
   ]
  },
  {
   "cell_type": "code",
   "execution_count": 42,
   "metadata": {},
   "outputs": [],
   "source": [
    "out1, out2, y1, y2 = predict_one_batch(model, test_larib_dl)\n",
    "y1 = np.reshape(y1, (-1,1))\n",
    "y2 = np.reshape(y2, (-1,1))\n",
    "arr_hr = np.concatenate((out1, y1) , axis=1)\n",
    "arr_map = np.concatenate((out2, y2) , axis=1)\n",
    "periode = np.reshape(test_larib.key.values, (-1,1))\n",
    "arr_hr = np.concatenate((out1, y1, periode) , axis=1)\n",
    "arr_map = np.concatenate((out2, y2, periode) , axis=1)\n",
    "pd.DataFrame(arr_hr).to_csv(\"/home/menyssa/Recherche/Mimic-III-Yannet/resultats/2e_analyse/larib_obs_pred_HR_10.csv\")\n",
    "pd.DataFrame(arr_map).to_csv(\"/home/menyssa/Recherche/Mimic-III-Yannet/resultats/2e_analyse/larib_obs_pred_MAP_10.csv\")"
   ]
  },
  {
   "cell_type": "code",
   "execution_count": 43,
   "metadata": {},
   "outputs": [
    {
     "data": {
      "image/png": "[encoded data removed]",
      "text/plain": [
       "<Figure size 432x288 with 1 Axes>"
      ]
     },
     "metadata": {},
     "output_type": "display_data"
    }
   ],
   "source": [
    "x = np.linspace(0, 200, 1000)\n",
    "plt.plot(out1, y1, 'bo', ms=5)\n",
    "plt.xlabel(\"Predicted\")\n",
    "plt.ylabel(\"Actual\")\n",
    "plt.title(\"mean_HR on larib\")\n",
    "plt.plot(x, x, '-g')\n",
    "plt.show()"
   ]
  },
  {
   "cell_type": "code",
   "execution_count": 44,
   "metadata": {},
   "outputs": [
    {
     "data": {
      "image/png": "[encoded data removed]",
      "text/plain": [
       "<Figure size 432x288 with 1 Axes>"
      ]
     },
     "metadata": {},
     "output_type": "display_data"
    }
   ],
   "source": [
    "x = np.linspace(40, 200, 1000)\n",
    "plt.plot(out2, y2, 'bo', ms=5)\n",
    "plt.xlabel(\"Predicted\")\n",
    "plt.ylabel(\"Actual\")\n",
    "plt.title(\"mean_MAP on larib\")\n",
    "plt.plot(x, x, '-g')\n",
    "plt.show()"
   ]
  }
 ],
 "metadata": {
  "kernelspec": {
   "display_name": "Python 3",
   "language": "python",
   "name": "python3"
  },
  "language_info": {
   "codemirror_mode": {
    "name": "ipython",
    "version": 3
   },
   "file_extension": ".py",
   "mimetype": "text/x-python",
   "name": "python",
   "nbconvert_exporter": "python",
   "pygments_lexer": "ipython3",
   "version": "3.6.10"
  }
 },
 "nbformat": 4,
 "nbformat_minor": 2
}
