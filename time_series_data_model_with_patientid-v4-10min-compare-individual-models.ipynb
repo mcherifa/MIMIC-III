{
 "cells": [
  {
   "cell_type": "code",
   "execution_count": 1,
   "metadata": {},
   "outputs": [],
   "source": [
    "%reload_ext autoreload\n",
    "%autoreload 2\n",
    "%matplotlib inline\n",
    "import matplotlib\n",
    "import matplotlib.pyplot as plt\n",
    "\n",
    "import numpy as np\n",
    "import pandas as pd\n",
    "\n",
    "import time\n",
    "\n",
    "from pathlib import Path\n",
    "from sklearn import metrics\n",
    "import random\n",
    "from scipy import stats\n",
    "\n",
    "import torch\n",
    "from torch.utils.data import Dataset, DataLoader\n",
    "import torch.optim as optim\n",
    "import torch.nn as nn\n",
    "import torch.nn.functional as F\n",
    "from torchvision import models\n",
    "import torchvision\n",
    "\n",
    "from datetime import datetime\n",
    "from collections import OrderedDict"
   ]
  },
  {
   "cell_type": "code",
   "execution_count": 2,
   "metadata": {},
   "outputs": [],
   "source": [
    "import pickle"
   ]
  },
  {
   "cell_type": "code",
   "execution_count": 3,
   "metadata": {},
   "outputs": [],
   "source": [
    "PATH = Path(\"../../multi-task-romain/data/\")\n",
    "# PATH = Path(\"/data2/yinterian/multi-task-romain\")"
   ]
  },
  {
   "cell_type": "code",
   "execution_count": 4,
   "metadata": {},
   "outputs": [
    {
     "data": {
      "text/plain": [
       "'10min'"
      ]
     },
     "execution_count": 4,
     "metadata": {},
     "output_type": "execute_result"
    }
   ],
   "source": [
    "gap = \"10min\"\n",
    "gap"
   ]
  },
  {
   "cell_type": "code",
   "execution_count": 5,
   "metadata": {},
   "outputs": [],
   "source": [
    "filename = \"data_train_{gap}.pickle\".format(gap=gap)\n",
    "with open(PATH/filename, 'rb') as f:\n",
    "    train = pickle.load(f)"
   ]
  },
  {
   "cell_type": "code",
   "execution_count": 6,
   "metadata": {},
   "outputs": [],
   "source": [
    "filename = \"data_valid_{gap}.pickle\".format(gap=gap)\n",
    "with open(PATH/filename, 'rb') as f:\n",
    "    valid = pickle.load(f)"
   ]
  },
  {
   "cell_type": "code",
   "execution_count": 7,
   "metadata": {},
   "outputs": [
    {
     "data": {
      "text/plain": [
       "((50255, 14), (5926, 14))"
      ]
     },
     "execution_count": 7,
     "metadata": {},
     "output_type": "execute_result"
    }
   ],
   "source": [
    "train.shape, valid.shape"
   ]
  },
  {
   "cell_type": "code",
   "execution_count": 8,
   "metadata": {},
   "outputs": [],
   "source": [
    "subject_id_list = np.sort(np.unique(train.subject_id.values))\n",
    "id2index = {v: k+1 for k,v in enumerate(subject_id_list)}\n",
    "num_subjects = len(subject_id_list)"
   ]
  },
  {
   "cell_type": "code",
   "execution_count": 9,
   "metadata": {},
   "outputs": [
    {
     "data": {
      "text/plain": [
       "2203"
      ]
     },
     "execution_count": 9,
     "metadata": {},
     "output_type": "execute_result"
    }
   ],
   "source": [
    "num_subjects"
   ]
  },
  {
   "cell_type": "markdown",
   "metadata": {},
   "source": [
    "## Dataset"
   ]
  },
  {
   "cell_type": "code",
   "execution_count": 10,
   "metadata": {},
   "outputs": [],
   "source": [
    "def get_mean_std_series(train):\n",
    "    ss = np.concatenate(train.series.values)\n",
    "    ss = ss.reshape(-1,5)\n",
    "    return ss.mean(axis=0), ss.std(axis=0)"
   ]
  },
  {
   "cell_type": "code",
   "execution_count": 11,
   "metadata": {},
   "outputs": [],
   "source": [
    "def get_mean_std_static(train):\n",
    "    res = {}\n",
    "    for name in [\"age\", \"sapsii\", \"sofa\"]:\n",
    "        values = train[name].values\n",
    "        res[name] = (values.mean(), values.std())\n",
    "    res[\"series\"] = get_mean_std_series(train)\n",
    "    return res"
   ]
  },
  {
   "cell_type": "code",
   "execution_count": 12,
   "metadata": {},
   "outputs": [
    {
     "data": {
      "text/plain": [
       "{'age': (64, 15.057877220725963),\n",
       " 'sapsii': (33, 14.224363336863284),\n",
       " 'sofa': (4, 3.7706540212497375),\n",
       " 'series': (array([ 83.2305084 ,  93.6846448 , 120.9199471 ,  58.75308973,\n",
       "          78.5877452 ]),\n",
       "  array([16.09288223, 17.43347146, 21.26444372, 12.27698671, 14.32744073]))}"
      ]
     },
     "execution_count": 12,
     "metadata": {},
     "output_type": "execute_result"
    }
   ],
   "source": [
    "norm_dict = get_mean_std_static(train)\n",
    "norm_dict "
   ]
  },
  {
   "cell_type": "code",
   "execution_count": 13,
   "metadata": {},
   "outputs": [],
   "source": [
    "class MultiTask(Dataset):\n",
    "    def __init__(self, df, norm_dict, id2index, k=20, train=True):\n",
    "        \"\"\"\n",
    "        Args:\n",
    "            df: dataframe with data\n",
    "            norm_dict: mean and std of all variables to normalize\n",
    "            \n",
    "        \"\"\"\n",
    "        self.norm_dict = norm_dict\n",
    "        self.df = df\n",
    "        self.names = [\"age\", \"sapsii\", \"sofa\"] ## needs normalization\n",
    "        self.names_binary = [\"gender\", \"amine\", \"sedation\", \"ventilation\"]\n",
    "        self.id2index = id2index\n",
    "        self.train = train\n",
    "        self.df_sample = self.pick_a_sample(k)\n",
    "            \n",
    "    def pick_a_sample(self, k=20):\n",
    "        \"\"\" Picks sample with the same number of observations per patient\"\"\"\n",
    "        if not self.train: # fix seed for validation and test\n",
    "            np.random.seed(3)\n",
    "        sample = self.df.groupby(\"subject_id\", group_keys=False).apply(lambda x: x.sample(min(len(x), k)))\n",
    "        sample = sample.copy()\n",
    "        if self.train:\n",
    "            self.subject_index = [self.id2index[subject_id] for subject_id in sample.subject_id.values]\n",
    "            self.random = np.random.choice(2, sample.shape[0], p=[0.1, 0.9])\n",
    "            self.subject_index = self.subject_index*self.random\n",
    "        return sample\n",
    "\n",
    "    def __getitem__(self, index):\n",
    "        row = self.df_sample.iloc[index,:]\n",
    "        x_series = (row.series - self.norm_dict[\"series\"][0])/self.norm_dict[\"series\"][1]\n",
    "        x_cont = [(row[name]-self.norm_dict[name][0])/self.norm_dict[name][1] for name in self.names]\n",
    "        x_binary = [row[name] for name in self.names_binary]\n",
    "        subject_index = 0\n",
    "        if self.train:\n",
    "            subject_index = self.subject_index[index]\n",
    "        x_cat = np.array([row[\"care_unit\"], subject_index])\n",
    "        x_cont = np.array(x_cont + x_binary)\n",
    "        return x_series, x_cont, x_cat, row[\"prediction_mean_HR\"], row[\"prediction_mean_MAP\"]\n",
    "\n",
    "    def __len__(self):\n",
    "        return self.df_sample.shape[0]"
   ]
  },
  {
   "cell_type": "code",
   "execution_count": 14,
   "metadata": {},
   "outputs": [],
   "source": [
    "train_ds = MultiTask(train, norm_dict, id2index)\n",
    "valid_ds = MultiTask(valid, norm_dict, id2index, train=False)"
   ]
  },
  {
   "cell_type": "code",
   "execution_count": 15,
   "metadata": {},
   "outputs": [
    {
     "data": {
      "text/plain": [
       "(array([[ 5.40295759e-02,  3.33574137e-01,  2.16229747e+00,\n",
       "          1.43739752e+00,  1.97608598e+00],\n",
       "        [-1.07532533e-01,  3.56518506e-01,  2.49148549e+00,\n",
       "          1.65732119e+00,  2.29714821e+00],\n",
       "        [-8.10969690e-03,  3.62254598e-01,  2.73132247e+00,\n",
       "          1.51070541e+00,  2.40882202e+00],\n",
       "        [ 4.31815767e-03,  3.62254598e-01,  2.44445863e+00,\n",
       "          8.67225038e-01,  1.85743255e+00],\n",
       "        [-1.43236242e-02,  3.62254598e-01,  1.98359541e+00,\n",
       "          3.45924482e-01,  1.14551197e+00],\n",
       "        [-1.07532533e-01,  3.62254598e-01,  1.57916442e+00,\n",
       "         -4.32432890e-03,  5.59224425e-01],\n",
       "        [ 5.40295759e-02,  3.62254598e-01,  1.42397578e+00,\n",
       "         -2.97555892e-01,  2.45141813e-01],\n",
       "        [ 1.65880267e-01,  3.62254598e-01,  9.86625993e-01,\n",
       "         -3.79009104e-01,  1.48145650e-02],\n",
       "        [ 6.64574305e-02,  3.22101953e-01,  8.45545415e-01,\n",
       "         -2.24248001e-01,  7.76310873e-02],\n",
       "        [ 1.09954922e-01,  3.16365861e-01,  1.58856979e+00,\n",
       "          3.78505767e-01,  7.82572059e-01],\n",
       "        [-1.32388243e-01,  3.50782414e-01,  2.25635119e+00,\n",
       "          6.31010724e-01,  1.20134887e+00],\n",
       "        [-1.19960388e-01,  3.04893676e-01,  1.48981339e+00,\n",
       "          2.40035307e-01,  6.49959401e-01],\n",
       "        [ 9.13131397e-02,  2.87685399e-01,  1.28289521e+00,\n",
       "          1.66727416e-01,  4.12652539e-01],\n",
       "        [ 1.34810631e-01,  2.47532754e-01,  6.57437979e-01,\n",
       "         -3.87154425e-01, -1.94573843e-01],\n",
       "        [ 1.72094194e-01,  2.99157584e-01,  3.75276824e-01,\n",
       "         -3.54573140e-01, -2.15512683e-01],\n",
       "        [ 3.53877941e-02,  3.04893676e-01,  7.43049252e-02,\n",
       "         -4.36026352e-01, -4.87717613e-01],\n",
       "        [ 1.41024558e-01,  3.04893676e-01, -3.16018006e-01,\n",
       "         -6.96676630e-01, -8.29718679e-01],\n",
       "        [ 4.31815767e-03,  3.04893676e-01, -3.86558295e-01,\n",
       "         -6.72240666e-01, -8.36698292e-01],\n",
       "        [-1.89576962e-03,  3.04893676e-01, -7.06340937e-01,\n",
       "         -8.84019017e-01, -1.11588284e+00],\n",
       "        [-5.78211152e-02,  2.64741031e-01, -1.25655519e+00,\n",
       "         -1.20983187e+00, -1.54861888e+00],\n",
       "        [-9.51046789e-02,  2.53268846e-01, -1.61866200e+00,\n",
       "         -1.32386636e+00, -1.72310922e+00],\n",
       "        [-1.43236242e-02,  2.87685399e-01, -1.61395932e+00,\n",
       "         -1.28313976e+00, -1.69519076e+00],\n",
       "        [ 1.05320850e-02,  3.10629768e-01, -4.57098583e-01,\n",
       "         -7.78129842e-01, -9.06494428e-01],\n",
       "        [-1.19960388e-01,  3.04893676e-01, -1.65532057e-01,\n",
       "         -3.95299746e-01, -4.45839932e-01],\n",
       "        [-4.53932606e-02,  3.04893676e-01,  1.82466701e-01,\n",
       "         -1.10213504e-01, -5.49815709e-02],\n",
       "        [-8.26768243e-02,  3.04893676e-01,  3.98790253e-01,\n",
       "          2.82569559e-02,  1.54406837e-01],\n",
       "        [-1.51030024e-01,  3.45046322e-01,  6.43329921e-01,\n",
       "          1.66727416e-01,  3.91713699e-01],\n",
       "        [-4.53932606e-02,  3.62254598e-01,  1.14181463e+00,\n",
       "          4.19232373e-01,  7.68612832e-01],\n",
       "        [ 7.88852851e-02,  3.62254598e-01,  1.10889583e+00,\n",
       "          3.54069803e-01,  6.84857469e-01],\n",
       "        [-9.51046789e-02,  3.62254598e-01,  1.16532806e+00,\n",
       "          4.27377694e-01,  8.10490514e-01]]),\n",
       " array([ 1.39461889,  0.21090575, -0.26520598,  0.        ,  0.        ,\n",
       "         0.        ,  1.        ]),\n",
       " array([ 1, 92]),\n",
       " 82.36,\n",
       " 73.42)"
      ]
     },
     "execution_count": 15,
     "metadata": {},
     "output_type": "execute_result"
    }
   ],
   "source": [
    "x1, x2, x3, y1, y2 = train_ds[1200]\n",
    "x1, x2, x3, y1, y2"
   ]
  },
  {
   "cell_type": "markdown",
   "metadata": {},
   "source": [
    "## Model"
   ]
  },
  {
   "cell_type": "code",
   "execution_count": 16,
   "metadata": {},
   "outputs": [],
   "source": [
    "def save_model(m, p): torch.save(m.state_dict(), p)\n",
    "    \n",
    "def load_model(m, p): m.load_state_dict(torch.load(p))"
   ]
  },
  {
   "cell_type": "code",
   "execution_count": 17,
   "metadata": {},
   "outputs": [],
   "source": [
    "def pearsonr_ci(x,y,alpha=0.05):\n",
    "    ''' calculate Pearson correlation along with the confidence interval using scipy and numpy\n",
    "    Parameters\n",
    "    ----------\n",
    "    x, y : iterable object such as a list or np.array\n",
    "      Input for correlation calculation\n",
    "    alpha : float\n",
    "      Significance level. 0.05 by default\n",
    "    Returns\n",
    "    -------\n",
    "    r : float\n",
    "      Pearson's correlation coefficient\n",
    "    pval : float\n",
    "      The corresponding p value\n",
    "    lo, hi : float\n",
    "      The lower and upper bound of confidence intervals\n",
    "    '''\n",
    "    r, p = stats.pearsonr(x,y)\n",
    "    r_z = np.arctanh(r)\n",
    "    se = 1/np.sqrt(x.size-3)\n",
    "    z = stats.norm.ppf(1-alpha/2)\n",
    "    lo_z, hi_z = r_z-z*se, r_z+z*se\n",
    "    lo, hi = np.tanh((lo_z, hi_z))\n",
    "    return r, lo, hi"
   ]
  },
  {
   "cell_type": "code",
   "execution_count": 18,
   "metadata": {},
   "outputs": [],
   "source": [
    "def val_metrics(model, valid_dl, which_y=\"y1\"):\n",
    "    model.eval()\n",
    "    total = 0\n",
    "    sum_loss = 0\n",
    "    y_hat = []\n",
    "    ys = []\n",
    "    for x_series, x_cont, x_cat, y1, y2 in valid_dl:\n",
    "        batch = y1.shape[0]\n",
    "        x_series = x_series.float()\n",
    "        x_cont = x_cont.float()\n",
    "        x_cat = x_cat.long()\n",
    "        y1 = y1.float()\n",
    "        y2 = y2.float()\n",
    "        out = model(x_series, x_cont, x_cat)\n",
    "        if which_y==\"y1\":\n",
    "            mse_loss = F.mse_loss(out,  y1.unsqueeze(-1))\n",
    "            ys.append(y1.view(-1).numpy())\n",
    "        else:\n",
    "            mse_loss = F.mse_loss(out, y2.unsqueeze(-1))\n",
    "            ys.append(y2.view(-1).numpy())\n",
    "        sum_loss += batch*(mse_loss.item())\n",
    "        total += batch\n",
    "        y_hat.append(out.view(-1).detach().numpy())\n",
    "    \n",
    "    y_hat = np.concatenate(y_hat)\n",
    "    ys = np.concatenate(ys)\n",
    "    #r2 = metrics.r2_score(ys, y_hat)\n",
    "    r2, lo, hi =  pearsonr_ci(ys, y_hat, alpha=0.05)\n",
    "    \n",
    "    return sum_loss/total, r2, lo, hi"
   ]
  },
  {
   "cell_type": "code",
   "execution_count": 19,
   "metadata": {},
   "outputs": [],
   "source": [
    "def train_epochs(model, train_ds, optimizer, lr=1e-3, epochs = 30, which_y=\"y1\"):\n",
    "    prev_val_r2 = 0\n",
    "    for i in range(epochs):\n",
    "        sum_loss = 0\n",
    "        total = 0\n",
    "        train_ds.pick_a_sample()\n",
    "        train_dl = DataLoader(train_ds, batch_size=5000, shuffle=True)\n",
    "        for x_series, x_cont, x_cat, y1, y2 in train_dl:\n",
    "            model.train()\n",
    "            x_series = x_series.float()\n",
    "            x_cont = x_cont.float()\n",
    "            x_cat = x_cat.long()\n",
    "            y1 = y1.float()\n",
    "            y2 = y2.float()\n",
    "            out = model(x_series, x_cont, x_cat)\n",
    "            if which_y==\"y1\":\n",
    "                loss = F.mse_loss(out, y1.unsqueeze(-1))\n",
    "            else:\n",
    "                loss = F.mse_loss(out, y2.unsqueeze(-1))\n",
    "            sum_loss += y1.shape[0] * loss.item()\n",
    "            \n",
    "            total += y1.shape[0]\n",
    "            optimizer.zero_grad()\n",
    "            loss.backward()\n",
    "            optimizer.step()\n",
    "        if i % 1 == 0:\n",
    "            print(\"iteration : \", i)\n",
    "            val_loss, val_r2 , val_lo,  val_hi = val_metrics(model, valid_dl, which_y=which_y)\n",
    "            print(\"\\tTrain loss: {:.3f} \\n \\t valid loss: {:.3f} valid r2 {:.3f}[{:.3f}-{:.3f}]\".format(\n",
    "                sum_loss/total, val_loss, val_r2, val_lo, val_hi))\n",
    "        if val_r2 > prev_val_r2:\n",
    "            prev_val_r2 = val_r2\n",
    "            if val_r2 > 0.95 :\n",
    "                PATH = Path(\"../../multi-task-romain/2e_analyse/singletask/\")\n",
    "                filename = \"single_model_10min_\" + which_y\n",
    "                path = \"{0}/{1}_r2_{2:.0f}.pth\".format(PATH, filename, 100*val_r2) \n",
    "                save_model(model, path)\n",
    "                print(path)"
   ]
  },
  {
   "cell_type": "code",
   "execution_count": 20,
   "metadata": {},
   "outputs": [],
   "source": [
    "batch_size = 5000\n",
    "train_dl = DataLoader(train_ds, batch_size=batch_size, shuffle=True)\n",
    "valid_dl = DataLoader(valid_ds, batch_size=batch_size)"
   ]
  },
  {
   "cell_type": "markdown",
   "metadata": {},
   "source": [
    "Model 2"
   ]
  },
  {
   "cell_type": "code",
   "execution_count": 21,
   "metadata": {},
   "outputs": [],
   "source": [
    "class EventModel2(nn.Module):\n",
    "    def __init__(self, hidden_size=100):\n",
    "        super(EventModel2, self).__init__()\n",
    "        self.embedding1 = nn.Embedding(5, 1)\n",
    "        self.embedding2 = nn.Embedding(num_subjects+1, 5)\n",
    "        self.gru = nn.GRU(5, hidden_size, batch_first=True)\n",
    "        self.num = hidden_size + 1 + 5 + 7\n",
    "        self.linear1 = nn.Linear(self.num, self.num)\n",
    "        self.out = nn.Linear(self.num, 1)\n",
    "        self.bn1 = nn.BatchNorm1d(self.num)\n",
    "        \n",
    "    def forward(self, x_series, x_cont, x_cat):\n",
    "        _, ht = self.gru(x_series)\n",
    "        x_cat_1 = self.embedding1(x_cat[:,0])\n",
    "        x_cat_2 = self.embedding2(x_cat[:,1])\n",
    "        x = torch.cat((ht[-1], x_cat_1, x_cat_2, x_cont), 1)\n",
    "        x = self.bn1(F.relu(self.linear1(x)))\n",
    "        return self.out(x)"
   ]
  },
  {
   "cell_type": "code",
   "execution_count": 22,
   "metadata": {},
   "outputs": [
    {
     "name": "stdout",
     "output_type": "stream",
     "text": [
      "iteration :  0\n",
      "\tTrain loss: 6786.313 \n",
      " \t valid loss: 5948.458 valid r2 0.974[0.973-0.976]\n",
      "../../multi-task-romain/2e_analyse/singletask/single_model_10min_y1_r2_97.pth\n",
      "iteration :  1\n",
      "\tTrain loss: 4636.835 \n",
      " \t valid loss: 2624.775 valid r2 0.919[0.913-0.924]\n",
      "iteration :  2\n",
      "\tTrain loss: 1205.126 \n",
      " \t valid loss: 50.758 valid r2 0.975[0.973-0.977]\n",
      "../../multi-task-romain/2e_analyse/singletask/single_model_10min_y1_r2_98.pth\n",
      "iteration :  3\n",
      "\tTrain loss: 349.622 \n",
      " \t valid loss: 726.970 valid r2 0.979[0.978-0.980]\n",
      "../../multi-task-romain/2e_analyse/singletask/single_model_10min_y1_r2_98.pth\n",
      "iteration :  4\n",
      "\tTrain loss: 469.934 \n",
      " \t valid loss: 38.195 valid r2 0.981[0.980-0.983]\n",
      "../../multi-task-romain/2e_analyse/singletask/single_model_10min_y1_r2_98.pth\n",
      "iteration :  5\n",
      "\tTrain loss: 52.218 \n",
      " \t valid loss: 157.526 valid r2 0.983[0.982-0.985]\n",
      "../../multi-task-romain/2e_analyse/singletask/single_model_10min_y1_r2_98.pth\n",
      "iteration :  6\n",
      "\tTrain loss: 168.622 \n",
      " \t valid loss: 80.133 valid r2 0.985[0.983-0.986]\n",
      "../../multi-task-romain/2e_analyse/singletask/single_model_10min_y1_r2_98.pth\n",
      "iteration :  7\n",
      "\tTrain loss: 37.454 \n",
      " \t valid loss: 25.097 valid r2 0.985[0.984-0.986]\n",
      "../../multi-task-romain/2e_analyse/singletask/single_model_10min_y1_r2_99.pth\n",
      "iteration :  8\n",
      "\tTrain loss: 42.153 \n",
      " \t valid loss: 48.658 valid r2 0.985[0.984-0.986]\n",
      "../../multi-task-romain/2e_analyse/singletask/single_model_10min_y1_r2_99.pth\n",
      "iteration :  9\n",
      "\tTrain loss: 22.747 \n",
      " \t valid loss: 7.123 valid r2 0.986[0.985-0.987]\n",
      "../../multi-task-romain/2e_analyse/singletask/single_model_10min_y1_r2_99.pth\n",
      "iteration :  10\n",
      "\tTrain loss: 16.150 \n",
      " \t valid loss: 15.464 valid r2 0.986[0.985-0.987]\n",
      "../../multi-task-romain/2e_analyse/singletask/single_model_10min_y1_r2_99.pth\n",
      "iteration :  11\n",
      "\tTrain loss: 14.535 \n",
      " \t valid loss: 7.816 valid r2 0.986[0.985-0.987]\n",
      "../../multi-task-romain/2e_analyse/singletask/single_model_10min_y1_r2_99.pth\n",
      "iteration :  12\n",
      "\tTrain loss: 10.178 \n",
      " \t valid loss: 9.536 valid r2 0.986[0.985-0.987]\n",
      "../../multi-task-romain/2e_analyse/singletask/single_model_10min_y1_r2_99.pth\n",
      "iteration :  13\n",
      "\tTrain loss: 10.309 \n",
      " \t valid loss: 7.854 valid r2 0.986[0.985-0.987]\n",
      "../../multi-task-romain/2e_analyse/singletask/single_model_10min_y1_r2_99.pth\n",
      "iteration :  14\n",
      "\tTrain loss: 9.212 \n",
      " \t valid loss: 7.607 valid r2 0.986[0.985-0.987]\n"
     ]
    }
   ],
   "source": [
    "# model for mean_HR\n",
    "model = EventModel2()\n",
    "\n",
    "optimizer = torch.optim.Adam(model.parameters(), lr=0.05, weight_decay=1e-5)\n",
    "train_epochs(model, train_ds, optimizer, epochs=15)\n",
    "\n",
    "#optimizer = torch.optim.Adam(model.parameters(), lr=0.03, weight_decay=1e-5)\n",
    "#train_epochs(model, train_ds, optimizer, epochs=5)"
   ]
  },
  {
   "cell_type": "code",
   "execution_count": 23,
   "metadata": {},
   "outputs": [
    {
     "name": "stdout",
     "output_type": "stream",
     "text": [
      "iteration :  0\n",
      "\tTrain loss: 5956.702 \n",
      " \t valid loss: 5607.215 valid r2 0.902[0.895-0.908]\n",
      "iteration :  1\n",
      "\tTrain loss: 4025.441 \n",
      " \t valid loss: 1999.417 valid r2 0.918[0.912-0.923]\n",
      "iteration :  2\n",
      "\tTrain loss: 941.483 \n",
      " \t valid loss: 41.173 valid r2 0.923[0.918-0.928]\n",
      "iteration :  3\n",
      "\tTrain loss: 393.112 \n",
      " \t valid loss: 605.391 valid r2 0.935[0.930-0.939]\n",
      "iteration :  4\n",
      "\tTrain loss: 350.062 \n",
      " \t valid loss: 19.976 valid r2 0.947[0.944-0.951]\n",
      "iteration :  5\n",
      "\tTrain loss: 69.735 \n",
      " \t valid loss: 189.794 valid r2 0.953[0.950-0.956]\n",
      "../../multi-task-romain/2e_analyse/singletask/single_model_10min_y2_r2_95.pth\n",
      "iteration :  6\n",
      "\tTrain loss: 149.206 \n",
      " \t valid loss: 59.440 valid r2 0.955[0.951-0.958]\n",
      "../../multi-task-romain/2e_analyse/singletask/single_model_10min_y2_r2_95.pth\n",
      "iteration :  7\n",
      "\tTrain loss: 30.432 \n",
      " \t valid loss: 34.586 valid r2 0.950[0.947-0.954]\n",
      "iteration :  8\n",
      "\tTrain loss: 48.645 \n",
      " \t valid loss: 32.735 valid r2 0.955[0.952-0.958]\n",
      "../../multi-task-romain/2e_analyse/singletask/single_model_10min_y2_r2_95.pth\n",
      "iteration :  9\n",
      "\tTrain loss: 23.059 \n",
      " \t valid loss: 25.379 valid r2 0.956[0.952-0.958]\n",
      "../../multi-task-romain/2e_analyse/singletask/single_model_10min_y2_r2_96.pth\n"
     ]
    }
   ],
   "source": [
    "# model mean_MAP\n",
    "model = EventModel2()\n",
    "\n",
    "optimizer = torch.optim.Adam(model.parameters(), lr=0.05, weight_decay=1e-5)\n",
    "train_epochs(model, train_ds, optimizer, epochs=10, which_y=\"y2\")\n",
    "\n",
    "#optimizer = torch.optim.Adam(model.parameters(),lr=0.03, weight_decay=1e-5)\n",
    "#train_epochs(model, train_ds, optimizer, epochs=5, which_y=\"y2\")"
   ]
  },
  {
   "cell_type": "markdown",
   "metadata": {},
   "source": [
    "## Calibration"
   ]
  },
  {
   "cell_type": "code",
   "execution_count": 24,
   "metadata": {},
   "outputs": [],
   "source": [
    "PATH = Path(\"../../multi-task-romain/2e_analyse/singletask/\")\n",
    "path = PATH/\"single_model_10min_y1_r2_98.pth\"\n",
    "model = EventModel2()\n",
    "load_model(model, path)"
   ]
  },
  {
   "cell_type": "code",
   "execution_count": 25,
   "metadata": {},
   "outputs": [
    {
     "data": {
      "text/plain": [
       "((7002, 14), (1314, 13))"
      ]
     },
     "execution_count": 25,
     "metadata": {},
     "output_type": "execute_result"
    }
   ],
   "source": [
    "filename = \"../../data/data_test_{gap}.pickle\".format(gap=gap)\n",
    "with open(PATH/filename, 'rb') as f:\n",
    "    test = pickle.load(f)\n",
    "    \n",
    "filename = \"../../data/data_validation_{gap}.pickle\".format(gap=gap)\n",
    "with open(PATH/filename, 'rb') as f:\n",
    "    test_larib = pickle.load(f)\n",
    "test_larib[\"care_unit\"] = 4\n",
    "test.shape, test_larib.shape"
   ]
  },
  {
   "cell_type": "code",
   "execution_count": 26,
   "metadata": {},
   "outputs": [],
   "source": [
    "def predict_y1_one_batch(model, dl):\n",
    "    for x_series, x_cont, x_cat, y1, y2 in dl:\n",
    "        x_series = x_series.float()\n",
    "        x_cont = x_cont.float()\n",
    "        x_cat = x_cat.long()\n",
    "        y1 = y1.float()\n",
    "        out1 = model(x_series, x_cont, x_cat)\n",
    "    return out1.detach().numpy(), y1.detach().numpy()\n",
    "\n",
    "class MultiTask_validation(Dataset):\n",
    "    def __init__(self, df, norm_dict, id2index, k=20, train=True):\n",
    "        \"\"\"\n",
    "        Args:\n",
    "            df: dataframe with data\n",
    "            norm_dict: mean and std of all variables to normalize\n",
    "            \n",
    "        \"\"\"\n",
    "        self.norm_dict = norm_dict\n",
    "        self.df = df\n",
    "        self.names = [\"age\", \"sapsii\", \"sofa\"] ## needs normalization\n",
    "        self.names_binary = [\"gender\", \"amine\", \"sedation\", \"ventilation\"]\n",
    "        self.id2index = id2index\n",
    "        self.train = train\n",
    "        self.df_sample = self.pick_a_sample(k)\n",
    "            \n",
    "    def pick_a_sample(self, k=20):\n",
    "        \"\"\" Picks sample with the same number of observations per patient\"\"\"\n",
    "        if not self.train: # fix seed for validation and test\n",
    "            np.random.seed(3)\n",
    "# We don't want the same number of period per patient\n",
    "        # sample = self.df.groupby(\"subject_id\", group_keys=False).apply(lambda x: x.sample(k, replace=True))\n",
    "        sample = self.df.copy()\n",
    "        if self.train:\n",
    "# 10 percent of the periods have a subject_index == 0\n",
    "            self.subject_index = [self.id2index[subject_id] for subject_id in sample.subject_id.values]\n",
    "            self.random = np.random.choice(2, sample.shape[0], p = [0.1, 0.9])\n",
    "            self.subject_index = self.subject_index*self.random\n",
    "        return sample\n",
    "\n",
    "    def __getitem__(self, index):\n",
    "        row = self.df_sample.iloc[index,:] \n",
    "        x_series = (row.series - self.norm_dict[\"series\"][0])/self.norm_dict[\"series\"][1]\n",
    "        x_cont = [(row[name]-self.norm_dict[name][0])/self.norm_dict[name][1] for name in self.names]\n",
    "        x_binary = [row[name] for name in self.names_binary]\n",
    "        subject_index = 0\n",
    "        if self.train:\n",
    "            subject_index = self.subject_index[index]\n",
    "        x_cat = np.array([row[\"care_unit\"], subject_index])\n",
    "        x_cont = np.array(x_cont + x_binary)\n",
    "        return x_series, x_cont, x_cat, row[\"prediction_mean_HR\"], row[\"prediction_mean_MAP\"]\n",
    "\n",
    "    def __len__(self):\n",
    "        return self.df_sample.shape[0]\n",
    "\n",
    "\n"
   ]
  },
  {
   "cell_type": "code",
   "execution_count": 27,
   "metadata": {},
   "outputs": [],
   "source": [
    "test_ds = MultiTask_validation(test, norm_dict, id2index, train=False)\n",
    "test_larib_ds = MultiTask_validation(test_larib, norm_dict, id2index, train = False)"
   ]
  },
  {
   "cell_type": "code",
   "execution_count": 28,
   "metadata": {},
   "outputs": [],
   "source": [
    "test_dl = DataLoader(test_ds, batch_size=8233)\n",
    "test_larib_dl = DataLoader(test_larib_ds, batch_size=1597)"
   ]
  },
  {
   "cell_type": "code",
   "execution_count": 29,
   "metadata": {},
   "outputs": [
    {
     "data": {
      "text/plain": [
       "(79.93247985839844, 0.981982, 0.9811258159409504, 0.9827996675344524)"
      ]
     },
     "execution_count": 29,
     "metadata": {},
     "output_type": "execute_result"
    }
   ],
   "source": [
    "val_metrics(model, test_dl, which_y=\"y1\")"
   ]
  },
  {
   "cell_type": "code",
   "execution_count": 30,
   "metadata": {},
   "outputs": [
    {
     "data": {
      "text/plain": [
       "(111.96334075927734, 0.93174535, 0.9242367611914317, 0.9385335655721699)"
      ]
     },
     "execution_count": 30,
     "metadata": {},
     "output_type": "execute_result"
    }
   ],
   "source": [
    "val_metrics(model, test_larib_dl, which_y=\"y1\")"
   ]
  },
  {
   "cell_type": "code",
   "execution_count": 31,
   "metadata": {},
   "outputs": [],
   "source": [
    "# HR\n",
    "out1, y1 = predict_y1_one_batch(model, test_dl)\n",
    "y1 = np.reshape(y1, (-1,1))\n",
    "arr_hr = np.concatenate((out1, y1) , axis=1)\n",
    "pd.DataFrame(arr_hr).to_csv(\"/home/menyssa/Recherche/Mimic-III-Yannet/resultats/2e_analyse/intern_single_obs_pred_HR_10.csv\")\n",
    "\n",
    "\n",
    "out1, y1 = predict_y1_one_batch(model, test_larib_dl)\n",
    "y1 = np.reshape(y1, (-1,1))\n",
    "arr_hr = np.concatenate((out1, y1) , axis=1)\n",
    "pd.DataFrame(arr_hr).to_csv(\"/home/menyssa/Recherche/Mimic-III-Yannet/resultats/2e_analyse/larib_single_obs_pred_HR_10.csv\")"
   ]
  },
  {
   "cell_type": "code",
   "execution_count": 32,
   "metadata": {},
   "outputs": [],
   "source": [
    "path = PATH/\"single_model_10min_y2_r2_96.pth\"\n",
    "load_model(model, path)"
   ]
  },
  {
   "cell_type": "code",
   "execution_count": 33,
   "metadata": {},
   "outputs": [],
   "source": [
    "def predict_y2_one_batch(model, dl):\n",
    "    for x_series, x_cont, x_cat, y1, y2 in dl:\n",
    "        x_series = x_series.float()\n",
    "        x_cont = x_cont.float()\n",
    "        x_cat = x_cat.long()\n",
    "        y2 = y2.float()\n",
    "        out2 = model(x_series, x_cont, x_cat)\n",
    "    return out2.detach().numpy(), y2.detach().numpy()"
   ]
  },
  {
   "cell_type": "code",
   "execution_count": 34,
   "metadata": {},
   "outputs": [
    {
     "data": {
      "text/plain": [
       "(28.25823402404785, 0.95529836, 0.9532041731684741, 0.957300877704938)"
      ]
     },
     "execution_count": 34,
     "metadata": {},
     "output_type": "execute_result"
    }
   ],
   "source": [
    "val_metrics(model, test_dl, which_y=\"y2\")"
   ]
  },
  {
   "cell_type": "code",
   "execution_count": 35,
   "metadata": {},
   "outputs": [
    {
     "data": {
      "text/plain": [
       "(60.87854766845703, 0.9081085, 0.8981367444978224, 0.9171466520578893)"
      ]
     },
     "execution_count": 35,
     "metadata": {},
     "output_type": "execute_result"
    }
   ],
   "source": [
    "val_metrics(model, test_larib_dl, which_y=\"y2\")"
   ]
  },
  {
   "cell_type": "code",
   "execution_count": 36,
   "metadata": {},
   "outputs": [],
   "source": [
    "out2, y2 = predict_y2_one_batch(model, test_dl)\n",
    "y2 = np.reshape(y2, (-1,1))\n",
    "arr_map = np.concatenate((out2, y2) , axis=1)\n",
    "pd.DataFrame(arr_map).to_csv(\"/home/menyssa/Recherche/Mimic-III-Yannet/resultats/2e_analyse/intern_single_obs_pred_MAP_10.csv\")\n",
    "\n",
    "out2, y2 = predict_y2_one_batch(model, test_larib_dl)\n",
    "y2 = np.reshape(y2, (-1,1))\n",
    "arr_map = np.concatenate((out2, y2) , axis=1)\n",
    "pd.DataFrame(arr_map).to_csv(\"/home/menyssa/Recherche/Mimic-III-Yannet/resultats/2e_analyse/larib_single_obs_pred_MAP_10.csv\")"
   ]
  }
 ],
 "metadata": {
  "kernelspec": {
   "display_name": "Python 3",
   "language": "python",
   "name": "python3"
  },
  "language_info": {
   "codemirror_mode": {
    "name": "ipython",
    "version": 3
   },
   "file_extension": ".py",
   "mimetype": "text/x-python",
   "name": "python",
   "nbconvert_exporter": "python",
   "pygments_lexer": "ipython3",
   "version": "3.6.10"
  }
 },
 "nbformat": 4,
 "nbformat_minor": 2
}
