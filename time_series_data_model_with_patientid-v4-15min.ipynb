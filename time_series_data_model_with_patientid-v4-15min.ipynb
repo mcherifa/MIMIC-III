{
 "cells": [
  {
   "cell_type": "code",
   "execution_count": 43,
   "metadata": {},
   "outputs": [],
   "source": [
    "%reload_ext autoreload\n",
    "%autoreload 2\n",
    "%matplotlib inline\n",
    "import matplotlib\n",
    "import matplotlib.pyplot as plt\n",
    "\n",
    "import numpy as np\n",
    "import pandas as pd\n",
    "\n",
    "import time\n",
    "\n",
    "from pathlib import Path\n",
    "from sklearn import metrics\n",
    "import random\n",
    "from scipy import stats\n",
    "\n",
    "import torch\n",
    "from torch.utils.data import Dataset, DataLoader\n",
    "import torch.optim as optim\n",
    "import torch.nn as nn\n",
    "import torch.nn.functional as F\n",
    "from torchvision import models\n",
    "import torchvision\n",
    "\n",
    "from datetime import datetime\n",
    "from collections import OrderedDict"
   ]
  },
  {
   "cell_type": "code",
   "execution_count": 44,
   "metadata": {},
   "outputs": [],
   "source": [
    "import pickle"
   ]
  },
  {
   "cell_type": "code",
   "execution_count": 45,
   "metadata": {},
   "outputs": [],
   "source": [
    "PATH = Path(\"../../multi-task-romain/data/\")"
   ]
  },
  {
   "cell_type": "code",
   "execution_count": 46,
   "metadata": {},
   "outputs": [
    {
     "data": {
      "text/plain": [
       "'15min'"
      ]
     },
     "execution_count": 46,
     "metadata": {},
     "output_type": "execute_result"
    }
   ],
   "source": [
    "gap = \"15min\"\n",
    "gap"
   ]
  },
  {
   "cell_type": "code",
   "execution_count": 47,
   "metadata": {},
   "outputs": [],
   "source": [
    "filename = \"data_train_{gap}.pickle\".format(gap=gap)\n",
    "with open(PATH/filename, 'rb') as f:\n",
    "    train = pickle.load(f)"
   ]
  },
  {
   "cell_type": "code",
   "execution_count": 48,
   "metadata": {},
   "outputs": [],
   "source": [
    "filename = \"data_valid_{gap}.pickle\".format(gap=gap)\n",
    "with open(PATH/filename, 'rb') as f:\n",
    "    valid = pickle.load(f)"
   ]
  },
  {
   "cell_type": "code",
   "execution_count": 49,
   "metadata": {},
   "outputs": [
    {
     "data": {
      "text/html": [
       "<div>\n",
       "<style scoped>\n",
       "    .dataframe tbody tr th:only-of-type {\n",
       "        vertical-align: middle;\n",
       "    }\n",
       "\n",
       "    .dataframe tbody tr th {\n",
       "        vertical-align: top;\n",
       "    }\n",
       "\n",
       "    .dataframe thead th {\n",
       "        text-align: right;\n",
       "    }\n",
       "</style>\n",
       "<table border=\"1\" class=\"dataframe\">\n",
       "  <thead>\n",
       "    <tr style=\"text-align: right;\">\n",
       "      <th></th>\n",
       "      <th>subject_id</th>\n",
       "      <th>key</th>\n",
       "      <th>gender</th>\n",
       "      <th>age</th>\n",
       "      <th>sapsii</th>\n",
       "      <th>sofa</th>\n",
       "      <th>care_unit</th>\n",
       "      <th>amine</th>\n",
       "      <th>sedation</th>\n",
       "      <th>ventilation</th>\n",
       "      <th>prediction_mean_HR</th>\n",
       "      <th>prediction_mean_MAP</th>\n",
       "      <th>series</th>\n",
       "      <th>group</th>\n",
       "    </tr>\n",
       "  </thead>\n",
       "  <tbody>\n",
       "    <tr>\n",
       "      <th>0</th>\n",
       "      <td>10013</td>\n",
       "      <td>10013_15</td>\n",
       "      <td>1</td>\n",
       "      <td>87</td>\n",
       "      <td>49</td>\n",
       "      <td>7</td>\n",
       "      <td>2</td>\n",
       "      <td>1</td>\n",
       "      <td>0</td>\n",
       "      <td>1</td>\n",
       "      <td>104.56</td>\n",
       "      <td>64.26</td>\n",
       "      <td>[[95.8, 93.0, 103.8, 34.8, 54.8], [99.2, 93.9,...</td>\n",
       "      <td>0</td>\n",
       "    </tr>\n",
       "    <tr>\n",
       "      <th>1</th>\n",
       "      <td>10013</td>\n",
       "      <td>10013_16</td>\n",
       "      <td>1</td>\n",
       "      <td>87</td>\n",
       "      <td>49</td>\n",
       "      <td>7</td>\n",
       "      <td>2</td>\n",
       "      <td>1</td>\n",
       "      <td>0</td>\n",
       "      <td>1</td>\n",
       "      <td>102.08</td>\n",
       "      <td>68.28</td>\n",
       "      <td>[[106.7, 95.3, 115.4, 41.5, 65.0], [107.4, 95....</td>\n",
       "      <td>0</td>\n",
       "    </tr>\n",
       "    <tr>\n",
       "      <th>2</th>\n",
       "      <td>10013</td>\n",
       "      <td>10013_19</td>\n",
       "      <td>1</td>\n",
       "      <td>87</td>\n",
       "      <td>49</td>\n",
       "      <td>7</td>\n",
       "      <td>2</td>\n",
       "      <td>1</td>\n",
       "      <td>0</td>\n",
       "      <td>1</td>\n",
       "      <td>100.22</td>\n",
       "      <td>65.62</td>\n",
       "      <td>[[95.4, 92.0, 133.3, 56.1, 83.0], [98.2, 91.9,...</td>\n",
       "      <td>0</td>\n",
       "    </tr>\n",
       "    <tr>\n",
       "      <th>3</th>\n",
       "      <td>10013</td>\n",
       "      <td>10013_20</td>\n",
       "      <td>1</td>\n",
       "      <td>87</td>\n",
       "      <td>49</td>\n",
       "      <td>7</td>\n",
       "      <td>2</td>\n",
       "      <td>1</td>\n",
       "      <td>0</td>\n",
       "      <td>1</td>\n",
       "      <td>106.44</td>\n",
       "      <td>57.74</td>\n",
       "      <td>[[100.0, 94.6, 108.4, 39.0, 63.1], [102.3, 94....</td>\n",
       "      <td>0</td>\n",
       "    </tr>\n",
       "    <tr>\n",
       "      <th>4</th>\n",
       "      <td>10013</td>\n",
       "      <td>10013_22</td>\n",
       "      <td>1</td>\n",
       "      <td>87</td>\n",
       "      <td>49</td>\n",
       "      <td>7</td>\n",
       "      <td>2</td>\n",
       "      <td>1</td>\n",
       "      <td>0</td>\n",
       "      <td>1</td>\n",
       "      <td>93.88</td>\n",
       "      <td>56.74</td>\n",
       "      <td>[[99.8, 91.6, 89.9, 37.7, 57.0], [99.3, 91.1, ...</td>\n",
       "      <td>0</td>\n",
       "    </tr>\n",
       "  </tbody>\n",
       "</table>\n",
       "</div>"
      ],
      "text/plain": [
       "   subject_id       key gender age sapsii sofa  care_unit amine sedation  \\\n",
       "0       10013  10013_15      1  87     49    7          2     1        0   \n",
       "1       10013  10013_16      1  87     49    7          2     1        0   \n",
       "2       10013  10013_19      1  87     49    7          2     1        0   \n",
       "3       10013  10013_20      1  87     49    7          2     1        0   \n",
       "4       10013  10013_22      1  87     49    7          2     1        0   \n",
       "\n",
       "  ventilation prediction_mean_HR prediction_mean_MAP  \\\n",
       "0           1             104.56               64.26   \n",
       "1           1             102.08               68.28   \n",
       "2           1             100.22               65.62   \n",
       "3           1             106.44               57.74   \n",
       "4           1              93.88               56.74   \n",
       "\n",
       "                                              series  group  \n",
       "0  [[95.8, 93.0, 103.8, 34.8, 54.8], [99.2, 93.9,...      0  \n",
       "1  [[106.7, 95.3, 115.4, 41.5, 65.0], [107.4, 95....      0  \n",
       "2  [[95.4, 92.0, 133.3, 56.1, 83.0], [98.2, 91.9,...      0  \n",
       "3  [[100.0, 94.6, 108.4, 39.0, 63.1], [102.3, 94....      0  \n",
       "4  [[99.8, 91.6, 89.9, 37.7, 57.0], [99.3, 91.1, ...      0  "
      ]
     },
     "execution_count": 49,
     "metadata": {},
     "output_type": "execute_result"
    }
   ],
   "source": [
    "train.head()"
   ]
  },
  {
   "cell_type": "code",
   "execution_count": 50,
   "metadata": {},
   "outputs": [
    {
     "data": {
      "text/html": [
       "<div>\n",
       "<style scoped>\n",
       "    .dataframe tbody tr th:only-of-type {\n",
       "        vertical-align: middle;\n",
       "    }\n",
       "\n",
       "    .dataframe tbody tr th {\n",
       "        vertical-align: top;\n",
       "    }\n",
       "\n",
       "    .dataframe thead th {\n",
       "        text-align: right;\n",
       "    }\n",
       "</style>\n",
       "<table border=\"1\" class=\"dataframe\">\n",
       "  <thead>\n",
       "    <tr style=\"text-align: right;\">\n",
       "      <th></th>\n",
       "      <th>subject_id</th>\n",
       "      <th>key</th>\n",
       "      <th>gender</th>\n",
       "      <th>age</th>\n",
       "      <th>sapsii</th>\n",
       "      <th>sofa</th>\n",
       "      <th>care_unit</th>\n",
       "      <th>amine</th>\n",
       "      <th>sedation</th>\n",
       "      <th>ventilation</th>\n",
       "      <th>prediction_mean_HR</th>\n",
       "      <th>prediction_mean_MAP</th>\n",
       "      <th>series</th>\n",
       "      <th>group</th>\n",
       "    </tr>\n",
       "  </thead>\n",
       "  <tbody>\n",
       "    <tr>\n",
       "      <th>1000</th>\n",
       "      <td>11018</td>\n",
       "      <td>11018_23</td>\n",
       "      <td>0</td>\n",
       "      <td>67</td>\n",
       "      <td>47</td>\n",
       "      <td>1</td>\n",
       "      <td>0</td>\n",
       "      <td>0</td>\n",
       "      <td>0</td>\n",
       "      <td>0</td>\n",
       "      <td>76.04</td>\n",
       "      <td>69.9867</td>\n",
       "      <td>[[79.0, 96.0, 98.0, 60.0, 71.0], [80.0, 95.0, ...</td>\n",
       "      <td>1</td>\n",
       "    </tr>\n",
       "    <tr>\n",
       "      <th>1001</th>\n",
       "      <td>11018</td>\n",
       "      <td>11018_24</td>\n",
       "      <td>0</td>\n",
       "      <td>67</td>\n",
       "      <td>47</td>\n",
       "      <td>1</td>\n",
       "      <td>0</td>\n",
       "      <td>0</td>\n",
       "      <td>0</td>\n",
       "      <td>0</td>\n",
       "      <td>75.24</td>\n",
       "      <td>74.6167</td>\n",
       "      <td>[[77.0, 97.0, 99.0, 59.0, 72.0], [75.0, 97.0, ...</td>\n",
       "      <td>1</td>\n",
       "    </tr>\n",
       "    <tr>\n",
       "      <th>1002</th>\n",
       "      <td>11018</td>\n",
       "      <td>11018_26</td>\n",
       "      <td>0</td>\n",
       "      <td>67</td>\n",
       "      <td>47</td>\n",
       "      <td>1</td>\n",
       "      <td>0</td>\n",
       "      <td>0</td>\n",
       "      <td>0</td>\n",
       "      <td>0</td>\n",
       "      <td>81.42</td>\n",
       "      <td>80.19</td>\n",
       "      <td>[[81.0, 96.0, 109.0, 66.0, 80.0], [80.0, 96.0,...</td>\n",
       "      <td>1</td>\n",
       "    </tr>\n",
       "    <tr>\n",
       "      <th>1003</th>\n",
       "      <td>11018</td>\n",
       "      <td>11018_27</td>\n",
       "      <td>0</td>\n",
       "      <td>67</td>\n",
       "      <td>47</td>\n",
       "      <td>1</td>\n",
       "      <td>0</td>\n",
       "      <td>0</td>\n",
       "      <td>0</td>\n",
       "      <td>0</td>\n",
       "      <td>81.3867</td>\n",
       "      <td>83.5367</td>\n",
       "      <td>[[80.0, 94.0, 113.0, 65.0, 80.0], [83.0, 94.0,...</td>\n",
       "      <td>1</td>\n",
       "    </tr>\n",
       "    <tr>\n",
       "      <th>1004</th>\n",
       "      <td>11018</td>\n",
       "      <td>11018_28</td>\n",
       "      <td>0</td>\n",
       "      <td>67</td>\n",
       "      <td>47</td>\n",
       "      <td>1</td>\n",
       "      <td>0</td>\n",
       "      <td>0</td>\n",
       "      <td>0</td>\n",
       "      <td>0</td>\n",
       "      <td>79.7367</td>\n",
       "      <td>82.6133</td>\n",
       "      <td>[[84.0, 95.0, 114.0, 67.0, 81.0], [81.0, 94.0,...</td>\n",
       "      <td>1</td>\n",
       "    </tr>\n",
       "  </tbody>\n",
       "</table>\n",
       "</div>"
      ],
      "text/plain": [
       "      subject_id       key gender age sapsii sofa  care_unit amine sedation  \\\n",
       "1000       11018  11018_23      0  67     47    1          0     0        0   \n",
       "1001       11018  11018_24      0  67     47    1          0     0        0   \n",
       "1002       11018  11018_26      0  67     47    1          0     0        0   \n",
       "1003       11018  11018_27      0  67     47    1          0     0        0   \n",
       "1004       11018  11018_28      0  67     47    1          0     0        0   \n",
       "\n",
       "     ventilation prediction_mean_HR prediction_mean_MAP  \\\n",
       "1000           0              76.04             69.9867   \n",
       "1001           0              75.24             74.6167   \n",
       "1002           0              81.42               80.19   \n",
       "1003           0            81.3867             83.5367   \n",
       "1004           0            79.7367             82.6133   \n",
       "\n",
       "                                                 series  group  \n",
       "1000  [[79.0, 96.0, 98.0, 60.0, 71.0], [80.0, 95.0, ...      1  \n",
       "1001  [[77.0, 97.0, 99.0, 59.0, 72.0], [75.0, 97.0, ...      1  \n",
       "1002  [[81.0, 96.0, 109.0, 66.0, 80.0], [80.0, 96.0,...      1  \n",
       "1003  [[80.0, 94.0, 113.0, 65.0, 80.0], [83.0, 94.0,...      1  \n",
       "1004  [[84.0, 95.0, 114.0, 67.0, 81.0], [81.0, 94.0,...      1  "
      ]
     },
     "execution_count": 50,
     "metadata": {},
     "output_type": "execute_result"
    }
   ],
   "source": [
    "valid.head()"
   ]
  },
  {
   "cell_type": "code",
   "execution_count": 51,
   "metadata": {},
   "outputs": [
    {
     "data": {
      "text/plain": [
       "((42830, 14), (5069, 14))"
      ]
     },
     "execution_count": 51,
     "metadata": {},
     "output_type": "execute_result"
    }
   ],
   "source": [
    "train.shape, valid.shape"
   ]
  },
  {
   "cell_type": "code",
   "execution_count": 52,
   "metadata": {},
   "outputs": [],
   "source": [
    "subject_id_list = np.sort(np.unique(train.subject_id.values))\n",
    "id2index = {v: k+1 for k,v in enumerate(subject_id_list)}\n",
    "num_subjects = len(subject_id_list)"
   ]
  },
  {
   "cell_type": "code",
   "execution_count": 53,
   "metadata": {},
   "outputs": [
    {
     "data": {
      "text/plain": [
       "2170"
      ]
     },
     "execution_count": 53,
     "metadata": {},
     "output_type": "execute_result"
    }
   ],
   "source": [
    "# Number of subjects in training\n",
    "num_subjects"
   ]
  },
  {
   "cell_type": "markdown",
   "metadata": {},
   "source": [
    "## Dataset"
   ]
  },
  {
   "cell_type": "code",
   "execution_count": 54,
   "metadata": {},
   "outputs": [],
   "source": [
    "def get_mean_std_series(train):\n",
    "    ss = np.concatenate(train.series.values)\n",
    "    ss = ss.reshape(-1,5)\n",
    "    return ss.mean(axis=0), ss.std(axis=0)"
   ]
  },
  {
   "cell_type": "code",
   "execution_count": 55,
   "metadata": {},
   "outputs": [],
   "source": [
    "def get_mean_std_static(train):\n",
    "    res = {}\n",
    "    for name in [\"age\", \"sapsii\", \"sofa\"]:\n",
    "        values = train[name].values\n",
    "        res[name] = (values.mean(), values.std())\n",
    "    res[\"series\"] = get_mean_std_series(train)\n",
    "    return res"
   ]
  },
  {
   "cell_type": "code",
   "execution_count": 56,
   "metadata": {},
   "outputs": [
    {
     "data": {
      "text/plain": [
       "{'age': (64, 15.087455295966063),\n",
       " 'sapsii': (33, 14.265492481117855),\n",
       " 'sofa': (4, 3.7831641172054082),\n",
       " 'series': (array([ 83.19453341,  93.64397046, 121.07613603,  58.73969887,\n",
       "          78.6694367 ]),\n",
       "  array([16.08727268, 17.53684697, 21.3399693 , 12.26982071, 14.36323955]))}"
      ]
     },
     "execution_count": 56,
     "metadata": {},
     "output_type": "execute_result"
    }
   ],
   "source": [
    "norm_dict = get_mean_std_static(train)\n",
    "norm_dict "
   ]
  },
  {
   "cell_type": "code",
   "execution_count": 57,
   "metadata": {},
   "outputs": [],
   "source": [
    "class MultiTask(Dataset):\n",
    "    def __init__(self, df, norm_dict, id2index, k=20, train=True):\n",
    "        \"\"\"\n",
    "        Args:\n",
    "            df: dataframe with data\n",
    "            norm_dict: mean and std of all variables to normalize\n",
    "            \n",
    "        \"\"\"\n",
    "        self.norm_dict = norm_dict\n",
    "        self.df = df\n",
    "        self.names = [\"age\", \"sapsii\", \"sofa\"] ## needs normalization\n",
    "        self.names_binary = [\"gender\", \"amine\", \"sedation\", \"ventilation\"]\n",
    "        self.id2index = id2index\n",
    "        self.train = train\n",
    "        self.df_sample = self.pick_a_sample(k)\n",
    "            \n",
    "    def pick_a_sample(self, k=20):\n",
    "        \"\"\" Picks sample with the same number of observations per patient\"\"\"\n",
    "        if not self.train: # fix seed for validation and test\n",
    "            np.random.seed(3)\n",
    "        sample = self.df.groupby(\"subject_id\", group_keys=False).apply(lambda x: x.sample(min(len(x), k)))\n",
    "        sample = sample.copy()\n",
    "        if self.train:\n",
    "            self.subject_index = [self.id2index[subject_id] for subject_id in sample.subject_id.values]\n",
    "            self.random = np.random.choice(2, sample.shape[0], p=[0.1, 0.9])\n",
    "            self.subject_index = self.subject_index*self.random\n",
    "        return sample\n",
    "\n",
    "    def __getitem__(self, index):\n",
    "        row = self.df_sample.iloc[index,:]\n",
    "        x_series = (row.series - self.norm_dict[\"series\"][0])/self.norm_dict[\"series\"][1]\n",
    "        x_cont = [(row[name]-self.norm_dict[name][0])/self.norm_dict[name][1] for name in self.names]\n",
    "        x_binary = [row[name] for name in self.names_binary]\n",
    "        subject_index = 0\n",
    "        if self.train:\n",
    "            subject_index = self.subject_index[index]\n",
    "        x_cat = np.array([row[\"care_unit\"], subject_index])\n",
    "        x_cont = np.array(x_cont + x_binary)\n",
    "        return x_series, x_cont, x_cat, row[\"prediction_mean_HR\"], row[\"prediction_mean_MAP\"]\n",
    "\n",
    "    def __len__(self):\n",
    "        return self.df_sample.shape[0]"
   ]
  },
  {
   "cell_type": "code",
   "execution_count": 58,
   "metadata": {},
   "outputs": [],
   "source": [
    "train_ds = MultiTask(train, norm_dict, id2index, train = True)\n",
    "valid_ds = MultiTask(valid, norm_dict, id2index, train = False)"
   ]
  },
  {
   "cell_type": "code",
   "execution_count": 59,
   "metadata": {},
   "outputs": [
    {
     "name": "stdout",
     "output_type": "stream",
     "text": [
      "24690 2924\n"
     ]
    }
   ],
   "source": [
    "print(len(train_ds), len(valid_ds))"
   ]
  },
  {
   "cell_type": "code",
   "execution_count": 60,
   "metadata": {},
   "outputs": [
    {
     "data": {
      "text/plain": [
       "(array([[-0.86369726,  0.17996562,  1.52408204, -0.19883737,  0.80278291],\n",
       "        [-0.9320743 ,  0.17996562,  1.51470996, -0.20698745,  0.80278291],\n",
       "        [-0.89477774,  0.16285878,  1.63186102, -0.09288635,  0.90721618],\n",
       "        [-1.01288352,  0.19137018,  1.40224494, -0.29663831,  0.67050078],\n",
       "        [-1.05639618,  0.19137018,  1.16794282, -0.42703956,  0.46163425],\n",
       "        [-1.04396399,  0.19137018,  1.11639636, -0.47594003,  0.39201207],\n",
       "        [-1.06882837,  0.19137018,  0.98518717, -0.53299058,  0.28757881],\n",
       "        [-1.0377479 ,  0.16856106,  1.15857074, -0.41888948,  0.43378538],\n",
       "        [-1.05639618,  0.19137018,  1.05547781, -0.50039027,  0.35023877],\n",
       "        [-1.09369274,  0.19137018,  0.9336407 , -0.55744082,  0.23884328],\n",
       "        [-1.08747665,  0.16856106,  0.98518717, -0.5248405 ,  0.29454103],\n",
       "        [-1.1434215 ,  0.1856679 ,  0.97581509, -0.5248405 ,  0.27365437],\n",
       "        [-1.11855712,  0.17426334,  1.00861738, -0.50854035,  0.3223899 ],\n",
       "        [-1.09990884,  0.19137018,  1.00861738, -0.48409011,  0.33631433],\n",
       "        [-1.02531571,  0.19137018,  1.01330342, -0.46778995,  0.35720098],\n",
       "        [-1.0315318 ,  0.19137018,  0.98987321, -0.47594003,  0.33631433],\n",
       "        [-1.08747665,  0.19137018,  0.99455926, -0.51669042,  0.31542768],\n",
       "        [-1.06882837,  0.19137018,  1.0882801 , -0.43518964,  0.41289873],\n",
       "        [-1.02531571,  0.19137018,  1.07890802, -0.44333972,  0.41289873],\n",
       "        [-1.04396399,  0.19137018,  1.18668699, -0.36183894,  0.50340755],\n",
       "        [-1.01909962,  0.19137018,  1.10702427, -0.41888948,  0.46163425],\n",
       "        [-0.98180305,  0.19137018,  0.92426862, -0.49224019,  0.30150324],\n",
       "        [-1.05639618,  0.19137018,  0.94301279, -0.53299058,  0.28061659],\n",
       "        [-1.0377479 ,  0.19137018,  0.87272215, -0.57374097,  0.21795663],\n",
       "        [-1.04396399,  0.1856679 ,  0.82586173, -0.58189105,  0.17618332],\n",
       "        [-1.02531571,  0.1856679 ,  0.97112904, -0.50039027,  0.30846546],\n",
       "        [-1.05018009,  0.19137018,  0.8774082 , -0.57374097,  0.21099441],\n",
       "        [-0.98801915,  0.16856106,  0.9992453 , -0.50039027,  0.28061659],\n",
       "        [-0.91342602,  0.15145422,  1.45379141, -0.19883737,  0.74708517],\n",
       "        [-0.66478226,  0.17996562,  1.34132639, -0.264038  ,  0.72619852]]),\n",
       " array([ 0.99420344, -0.56079382,  0.        ,  1.        ,  0.        ,\n",
       "         0.        ,  0.        ]),\n",
       " array([ 2, 99]),\n",
       " 68.26,\n",
       " 85.2)"
      ]
     },
     "execution_count": 60,
     "metadata": {},
     "output_type": "execute_result"
    }
   ],
   "source": [
    "x1, x2, x3, y1, y2 = train_ds[1200]\n",
    "x1, x2, x3, y1, y2"
   ]
  },
  {
   "cell_type": "code",
   "execution_count": 61,
   "metadata": {},
   "outputs": [
    {
     "data": {
      "text/plain": [
       "care_unit\n",
       "0     6248\n",
       "1    14426\n",
       "2    10244\n",
       "3     8045\n",
       "4     3867\n",
       "dtype: int64"
      ]
     },
     "execution_count": 61,
     "metadata": {},
     "output_type": "execute_result"
    }
   ],
   "source": [
    "tab = train.groupby(['care_unit']).size()\n",
    "tab"
   ]
  },
  {
   "cell_type": "markdown",
   "metadata": {},
   "source": [
    "## Model"
   ]
  },
  {
   "cell_type": "code",
   "execution_count": 62,
   "metadata": {},
   "outputs": [],
   "source": [
    "def save_model(m, p): torch.save(m.state_dict(), p)\n",
    "    \n",
    "def load_model(m, p): m.load_state_dict(torch.load(p))"
   ]
  },
  {
   "cell_type": "code",
   "execution_count": 63,
   "metadata": {},
   "outputs": [],
   "source": [
    "def pearsonr_ci(x,y,alpha=0.05):\n",
    "    ''' calculate Pearson correlation along with the confidence interval using scipy and numpy\n",
    "    Parameters\n",
    "    ----------\n",
    "    x, y : iterable object such as a list or np.array\n",
    "      Input for correlation calculation\n",
    "    alpha : float\n",
    "      Significance level. 0.05 by default\n",
    "    Returns\n",
    "    -------\n",
    "    r : float\n",
    "      Pearson's correlation coefficient\n",
    "    pval : float\n",
    "      The corresponding p value\n",
    "    lo, hi : float\n",
    "      The lower and upper bound of confidence intervals\n",
    "    '''\n",
    "    r, p = stats.pearsonr(x,y)\n",
    "    r_z = np.arctanh(r)\n",
    "    se = 1/np.sqrt(x.size-3)\n",
    "    z = stats.norm.ppf(1-alpha/2)\n",
    "    lo_z, hi_z = r_z-z*se, r_z+z*se\n",
    "    lo, hi = np.tanh((lo_z, hi_z))\n",
    "    return r, p, lo, hi"
   ]
  },
  {
   "cell_type": "code",
   "execution_count": 64,
   "metadata": {},
   "outputs": [],
   "source": [
    "class EventModel1(nn.Module):\n",
    "    def __init__(self, hidden_size=100):\n",
    "        super(EventModel1, self).__init__()\n",
    "        self.embedding1 = nn.Embedding(5, 1)\n",
    "        self.embedding2 = nn.Embedding(num_subjects+1, 5)\n",
    "        self.gru = nn.GRU(5, hidden_size, batch_first=True)\n",
    "        self.num = hidden_size + 10 + 1 + 5\n",
    "        self.linear1 = nn.Linear(7, 10)\n",
    "        self.out1 = nn.Linear(self.num, 1)\n",
    "        self.out2 = nn.Linear(self.num, 1)\n",
    "        self.bn1 = nn.BatchNorm1d(10)\n",
    "\n",
    "    def forward(self, x_series, x_cont, x_cat):\n",
    "        _, ht = self.gru(x_series)\n",
    "        x_cat_1 = self.embedding1(x_cat[:,0])\n",
    "        x_cat_2 = self.embedding2(x_cat[:,1])\n",
    "        x_cont = self.bn1(F.relu(self.linear1(x_cont))) \n",
    "        x = torch.cat((ht[-1], x_cat_1, x_cat_2, x_cont), 1)\n",
    "        return self.out1(x), self.out2(x)"
   ]
  },
  {
   "cell_type": "code",
   "execution_count": 65,
   "metadata": {},
   "outputs": [],
   "source": [
    "def val_metrics(model, valid_dl):\n",
    "    model.eval()\n",
    "    total = 0\n",
    "    sum_loss = 0\n",
    "    y_hat1 = []\n",
    "    ys1 = []\n",
    "    y_hat2 = []\n",
    "    ys2 = []\n",
    "    for x_series, x_cont, x_cat, y1, y2 in valid_dl:\n",
    "        batch = y1.shape[0]\n",
    "        x_series = x_series.float()\n",
    "        x_cont = x_cont.float()\n",
    "        x_cat = x_cat.long()\n",
    "        y1 = y1.float()\n",
    "        y2 = y2.float()\n",
    "        out1, out2 = model(x_series, x_cont, x_cat)\n",
    "        mse_loss1 = F.mse_loss(out1, y1.unsqueeze(-1))\n",
    "        mse_loss2 = F.mse_loss(out2, y2.unsqueeze(-1))\n",
    "        loss = mse_loss1 + mse_loss2\n",
    "        sum_loss += batch*(loss.item())\n",
    "        total += batch\n",
    "        y_hat1.append(out1.view(-1).detach().numpy())\n",
    "        ys1.append(y1.view(-1).numpy())\n",
    "        y_hat2.append(out2.view(-1).detach().numpy())\n",
    "        ys2.append(y2.view(-1).numpy())\n",
    "    \n",
    "    y_hat1 = np.concatenate(y_hat1)\n",
    "    y_hat2 = np.concatenate(y_hat2)\n",
    "    ys1 = np.concatenate(ys1)\n",
    "    ys2 = np.concatenate(ys2)\n",
    "    r2_1, p, lo2_1, hi2_1 =  pearsonr_ci(ys1, y_hat1, alpha=0.05)\n",
    "    r2_2, p, lo2_2, hi2_2 =  pearsonr_ci(ys2, y_hat2, alpha=0.05)\n",
    "    #r2_1 = metrics.r2_score(ys1, y_hat1)\n",
    "    #r2_2 = metrics.r2_score(ys2, y_hat2)\n",
    "    #return sum_loss/total,\n",
    "    return sum_loss/total,  r2_1,lo2_1, hi2_1, r2_2, lo2_2, hi2_2"
   ]
  },
  {
   "cell_type": "code",
   "execution_count": 66,
   "metadata": {},
   "outputs": [],
   "source": [
    "def train_epochs(model, train_ds, optimizer, filename, lr=1e-3, epochs = 30):\n",
    "    t = time.process_time()\n",
    "    prev_val_r2 = 0\n",
    "    for i in range(epochs):\n",
    "        sum_loss1 = 0\n",
    "        sum_loss2 = 0\n",
    "        total = 0\n",
    "        train_ds.pick_a_sample()\n",
    "        train_dl = DataLoader(train_ds, batch_size=5000, shuffle=True)\n",
    "        valid_dl = DataLoader(valid_ds, batch_size=batch_size)\n",
    "        for x_series, x_cont, x_cat, y1, y2 in train_dl:\n",
    "            model.train()\n",
    "            x_series = x_series.float()\n",
    "            x_cont = x_cont.float()\n",
    "            x_cat = x_cat.long()\n",
    "            y1 = y1.float()\n",
    "            y2 = y2.float()\n",
    "            out1, out2 = model(x_series, x_cont, x_cat)\n",
    "            mse_loss1 = F.mse_loss(out1, y1.unsqueeze(-1))\n",
    "            mse_loss2 = F.mse_loss(out2, y2.unsqueeze(-1))\n",
    "            loss = mse_loss1 + mse_loss2\n",
    "            sum_loss1 += len(y1) * mse_loss1.item()\n",
    "            sum_loss2 += len(y1) * mse_loss2.item()\n",
    "            total += len(y1)\n",
    "            optimizer.zero_grad()\n",
    "            loss.backward()\n",
    "            optimizer.step()\n",
    "        if i % 1 == 0:\n",
    "            print(\"iteration : \", i)\n",
    "            # val_loss, val_r2_1, val_r2_2 = val_metrics(model, valid_dl)\n",
    "            #train_loss, train_r2_1,  train_lo2_1,  train_hi2_1, train_r2_2,  train_lo2_2,  train_hi2_2  = val_metrics(model, train_dl)\n",
    "            #print(\"\\tTrain loss (after): {:.3f}\".format(train_loss)) \n",
    "            print(\"\\tTrain loss: {:.3f} {:.3f}\".format(sum_loss1/total, sum_loss2/total))             \n",
    "            val_loss, val_r2_1,  val_lo2_1,  val_hi2_1, val_r2_2,  val_lo2_2,  val_hi2_2  = val_metrics(model, valid_dl)\n",
    "            print(\"\\tValid loss: {:.3f} \\n valid r2 hr {:.3f}[{:.3f}-{:.3f}] valid r2 map {:.3f}[{:.3f}-{:.3f}]\".format(\n",
    "               val_loss, val_r2_1,  val_lo2_1,  val_hi2_1, val_r2_2,  val_lo2_2,  val_hi2_2))\n",
    "            \n",
    "        if val_r2_1 > prev_val_r2:\n",
    "            prev_val_r2 = val_r2_1\n",
    "            if val_r2_1 > 0.95:\n",
    "                PATH = Path(\"../../multi-task-romain/2e_analyse/multitask/\")\n",
    "                path = \"{0}/{1}_15min_r2_{2:.0f}_{3:.0f}.pth\".format(PATH, filename, 100*val_r2_1, 100*val_r2_2) \n",
    "                save_model(model, path)\n",
    "                print(path)\n",
    "    elapsed_time = time.process_time() - t\n",
    "    print('time consuming: ', elapsed_time, 'secs')"
   ]
  },
  {
   "cell_type": "code",
   "execution_count": 67,
   "metadata": {},
   "outputs": [],
   "source": [
    "batch_size = 5000\n",
    "train_dl = DataLoader(train_ds, batch_size=batch_size, shuffle=True)\n",
    "valid_dl = DataLoader(valid_ds, batch_size=batch_size)"
   ]
  },
  {
   "cell_type": "code",
   "execution_count": 68,
   "metadata": {},
   "outputs": [],
   "source": [
    "model = EventModel1()"
   ]
  },
  {
   "cell_type": "code",
   "execution_count": 69,
   "metadata": {},
   "outputs": [
    {
     "data": {
      "text/plain": [
       "(13815.056640625,\n",
       " -0.24970944,\n",
       " -0.28339293136339255,\n",
       " -0.21541059262950246,\n",
       " 0.829045,\n",
       " 0.8173594388066948,\n",
       " 0.8400487112919287)"
      ]
     },
     "execution_count": 69,
     "metadata": {},
     "output_type": "execute_result"
    }
   ],
   "source": [
    "val_metrics(model, valid_dl)"
   ]
  },
  {
   "cell_type": "code",
   "execution_count": 28,
   "metadata": {},
   "outputs": [
    {
     "name": "stdout",
     "output_type": "stream",
     "text": [
      "iteration :  0\n",
      "\tTrain loss: 6304.646 5489.676\n",
      "\tValid loss: 8759.508 \n",
      " valid r2 hr 0.231[0.197-0.265] valid r2 map 0.439[0.410-0.468]\n",
      "iteration :  1\n",
      "\tTrain loss: 3566.689 3037.732\n",
      "\tValid loss: 3946.012 \n",
      " valid r2 hr 0.161[0.126-0.196] valid r2 map 0.433[0.403-0.462]\n",
      "iteration :  2\n",
      "\tTrain loss: 1370.987 1077.619\n",
      "\tValid loss: 953.282 \n",
      " valid r2 hr 0.314[0.281-0.346] valid r2 map 0.495[0.468-0.522]\n",
      "iteration :  3\n",
      "\tTrain loss: 302.692 205.793\n",
      "\tValid loss: 430.870 \n",
      " valid r2 hr 0.512[0.484-0.538] valid r2 map 0.663[0.643-0.683]\n",
      "iteration :  4\n",
      "\tTrain loss: 318.154 282.276\n",
      "\tValid loss: 822.786 \n",
      " valid r2 hr 0.586[0.561-0.609] valid r2 map 0.747[0.731-0.763]\n",
      "iteration :  5\n",
      "\tTrain loss: 383.689 288.939\n",
      "\tValid loss: 535.776 \n",
      " valid r2 hr 0.609[0.586-0.631] valid r2 map 0.791[0.777-0.804]\n",
      "iteration :  6\n",
      "\tTrain loss: 232.877 120.527\n",
      "\tValid loss: 239.597 \n",
      " valid r2 hr 0.668[0.648-0.688] valid r2 map 0.804[0.791-0.817]\n",
      "iteration :  7\n",
      "\tTrain loss: 132.231 66.929\n",
      "\tValid loss: 209.270 \n",
      " valid r2 hr 0.755[0.739-0.770] valid r2 map 0.811[0.799-0.823]\n",
      "iteration :  8\n",
      "\tTrain loss: 114.364 83.474\n",
      "\tValid loss: 203.244 \n",
      " valid r2 hr 0.826[0.814-0.837] valid r2 map 0.819[0.807-0.831]\n",
      "iteration :  9\n",
      "\tTrain loss: 95.476 77.077\n",
      "\tValid loss: 157.805 \n",
      " valid r2 hr 0.868[0.859-0.877] valid r2 map 0.826[0.814-0.837]\n",
      "time consuming:  301.407810777 secs\n",
      "iteration :  0\n",
      "\tTrain loss: 66.588 58.646\n",
      "\tValid loss: 121.169 \n",
      " valid r2 hr 0.891[0.883-0.898] valid r2 map 0.839[0.828-0.850]\n",
      "iteration :  1\n",
      "\tTrain loss: 51.204 55.567\n",
      "\tValid loss: 106.584 \n",
      " valid r2 hr 0.903[0.896-0.910] valid r2 map 0.853[0.843-0.863]\n",
      "iteration :  2\n",
      "\tTrain loss: 39.651 47.713\n",
      "\tValid loss: 107.961 \n",
      " valid r2 hr 0.899[0.892-0.906] valid r2 map 0.838[0.827-0.848]\n",
      "iteration :  3\n",
      "\tTrain loss: 40.654 57.578\n",
      "\tValid loss: 164.346 \n",
      " valid r2 hr 0.858[0.848-0.867] valid r2 map 0.704[0.685-0.722]\n",
      "iteration :  4\n",
      "\tTrain loss: 67.636 122.028\n",
      "\tValid loss: 97.370 \n",
      " valid r2 hr 0.913[0.907-0.919] valid r2 map 0.849[0.838-0.858]\n",
      "iteration :  5\n",
      "\tTrain loss: 30.968 39.691\n",
      "\tValid loss: 84.470 \n",
      " valid r2 hr 0.924[0.918-0.929] valid r2 map 0.882[0.874-0.890]\n",
      "iteration :  6\n",
      "\tTrain loss: 28.418 35.524\n",
      "\tValid loss: 77.861 \n",
      " valid r2 hr 0.932[0.927-0.936] valid r2 map 0.893[0.886-0.900]\n",
      "iteration :  7\n",
      "\tTrain loss: 26.495 33.191\n",
      "\tValid loss: 73.491 \n",
      " valid r2 hr 0.934[0.930-0.939] valid r2 map 0.901[0.894-0.908]\n",
      "iteration :  8\n",
      "\tTrain loss: 24.592 30.897\n",
      "\tValid loss: 69.208 \n",
      " valid r2 hr 0.938[0.934-0.942] valid r2 map 0.908[0.902-0.914]\n",
      "iteration :  9\n",
      "\tTrain loss: 23.279 28.349\n",
      "\tValid loss: 63.416 \n",
      " valid r2 hr 0.940[0.936-0.944] valid r2 map 0.919[0.913-0.924]\n",
      "iteration :  10\n",
      "\tTrain loss: 22.205 26.582\n",
      "\tValid loss: 59.321 \n",
      " valid r2 hr 0.947[0.943-0.950] valid r2 map 0.924[0.918-0.929]\n",
      "iteration :  11\n",
      "\tTrain loss: 21.044 24.964\n",
      "\tValid loss: 54.802 \n",
      " valid r2 hr 0.949[0.946-0.953] valid r2 map 0.929[0.924-0.934]\n",
      "iteration :  12\n",
      "\tTrain loss: 19.841 23.981\n",
      "\tValid loss: 52.510 \n",
      " valid r2 hr 0.952[0.949-0.956] valid r2 map 0.932[0.927-0.936]\n",
      "../../multi-task-romain/2e_analyse/multitask/multi_model_15min_r2_95_93.pth\n",
      "iteration :  13\n",
      "\tTrain loss: 18.919 23.098\n",
      "\tValid loss: 49.423 \n",
      " valid r2 hr 0.955[0.951-0.958] valid r2 map 0.934[0.929-0.939]\n",
      "../../multi-task-romain/2e_analyse/multitask/multi_model_15min_r2_95_93.pth\n",
      "iteration :  14\n",
      "\tTrain loss: 17.753 22.699\n",
      "\tValid loss: 47.198 \n",
      " valid r2 hr 0.958[0.955-0.961] valid r2 map 0.936[0.931-0.940]\n",
      "../../multi-task-romain/2e_analyse/multitask/multi_model_15min_r2_96_94.pth\n",
      "iteration :  15\n",
      "\tTrain loss: 17.036 22.420\n",
      "\tValid loss: 45.494 \n",
      " valid r2 hr 0.959[0.956-0.962] valid r2 map 0.937[0.932-0.941]\n",
      "../../multi-task-romain/2e_analyse/multitask/multi_model_15min_r2_96_94.pth\n",
      "iteration :  16\n",
      "\tTrain loss: 16.409 21.998\n",
      "\tValid loss: 43.862 \n",
      " valid r2 hr 0.961[0.958-0.964] valid r2 map 0.938[0.934-0.943]\n",
      "../../multi-task-romain/2e_analyse/multitask/multi_model_15min_r2_96_94.pth\n",
      "iteration :  17\n",
      "\tTrain loss: 15.950 21.598\n",
      "\tValid loss: 42.735 \n",
      " valid r2 hr 0.963[0.961-0.966] valid r2 map 0.940[0.936-0.944]\n",
      "../../multi-task-romain/2e_analyse/multitask/multi_model_15min_r2_96_94.pth\n",
      "iteration :  18\n",
      "\tTrain loss: 15.597 21.325\n",
      "\tValid loss: 41.139 \n",
      " valid r2 hr 0.965[0.962-0.967] valid r2 map 0.941[0.936-0.945]\n",
      "../../multi-task-romain/2e_analyse/multitask/multi_model_15min_r2_96_94.pth\n",
      "iteration :  19\n",
      "\tTrain loss: 15.040 21.185\n",
      "\tValid loss: 40.821 \n",
      " valid r2 hr 0.966[0.964-0.969] valid r2 map 0.941[0.937-0.945]\n",
      "../../multi-task-romain/2e_analyse/multitask/multi_model_15min_r2_97_94.pth\n",
      "time consuming:  617.147546066 secs\n"
     ]
    }
   ],
   "source": [
    "model = EventModel1()\n",
    "\n",
    "optimizer = torch.optim.Adam(model.parameters(), lr=0.05, weight_decay=1e-5)\n",
    "train_epochs(model, train_ds, optimizer, filename=\"multi_model\", epochs=10)\n",
    "\n",
    "optimizer = torch.optim.Adam(model.parameters(), lr=0.03, weight_decay=1e-5)\n",
    "train_epochs(model, train_ds, optimizer,filename=\"multi_model\", epochs=20)"
   ]
  },
  {
   "cell_type": "markdown",
   "metadata": {},
   "source": [
    "## Calibration plot"
   ]
  },
  {
   "cell_type": "code",
   "execution_count": 70,
   "metadata": {},
   "outputs": [],
   "source": [
    "file = \"../../multi-task-romain/2e_analyse/multitask/multi_model_15min_r2_97_94.pth\"\n",
    "model = EventModel1()\n",
    "load_model(model, file)"
   ]
  },
  {
   "cell_type": "code",
   "execution_count": 71,
   "metadata": {},
   "outputs": [
    {
     "data": {
      "text/plain": [
       "((5933, 14), (1097, 13))"
      ]
     },
     "execution_count": 71,
     "metadata": {},
     "output_type": "execute_result"
    }
   ],
   "source": [
    "filename = \"data_test_{gap}.pickle\".format(gap=gap)\n",
    "with open(PATH/filename, 'rb') as f:\n",
    "    test = pickle.load(f)\n",
    "    \n",
    "filename = \"data_validation_{gap}.pickle\".format(gap=gap)\n",
    "with open(PATH/filename, 'rb') as f:\n",
    "    test_larib = pickle.load(f)\n",
    "test_larib[\"care_unit\"] = 4\n",
    "test.shape, test_larib.shape"
   ]
  },
  {
   "cell_type": "code",
   "execution_count": 72,
   "metadata": {},
   "outputs": [],
   "source": [
    "def predict_one_batch(model, dl):\n",
    "    for x_series, x_cont, x_cat, y1, y2 in dl:\n",
    "        x_series = x_series.float()\n",
    "        x_cont = x_cont.float()\n",
    "        x_cat = x_cat.long()\n",
    "        y1 = y1.float()\n",
    "        y2 = y2.float()\n",
    "        out1, out2 = model(x_series, x_cont, x_cat)\n",
    "    return out1.detach().numpy(), out2.detach().numpy(), y1.detach().numpy(), y2.detach().numpy()\n",
    "\n",
    "class MultiTask_validation(Dataset):\n",
    "    def __init__(self, df, norm_dict, id2index, k=20, train=True):\n",
    "        \"\"\"\n",
    "        Args:\n",
    "            df: dataframe with data\n",
    "            norm_dict: mean and std of all variables to normalize\n",
    "            \n",
    "        \"\"\"\n",
    "        self.norm_dict = norm_dict\n",
    "        self.df = df\n",
    "        self.names = [\"age\", \"sapsii\", \"sofa\"] ## needs normalization\n",
    "        self.names_binary = [\"gender\", \"amine\", \"sedation\", \"ventilation\"]\n",
    "        self.id2index = id2index\n",
    "        self.train = train\n",
    "        self.df_sample = self.pick_a_sample(k)\n",
    "            \n",
    "    def pick_a_sample(self, k=20):\n",
    "        \"\"\" Picks sample with the same number of observations per patient\"\"\"\n",
    "        if not self.train: # fix seed for validation and test\n",
    "            np.random.seed(3)\n",
    "# We don't want the same number of period per patient\n",
    "        # sample = self.df.groupby(\"subject_id\", group_keys=False).apply(lambda x: x.sample(k, replace=True))\n",
    "        sample = self.df.copy()\n",
    "        if self.train:\n",
    "# 10 percent of the periods have a subject_index == 0\n",
    "            self.subject_index = [self.id2index[subject_id] for subject_id in sample.subject_id.values]\n",
    "            self.random = np.random.choice(2, sample.shape[0], p = [0.1, 0.9])\n",
    "            self.subject_index = self.subject_index*self.random\n",
    "        return sample\n",
    "\n",
    "    def __getitem__(self, index):\n",
    "        row = self.df_sample.iloc[index,:] \n",
    "        x_series = (row.series - self.norm_dict[\"series\"][0])/self.norm_dict[\"series\"][1]\n",
    "        x_cont = [(row[name]-self.norm_dict[name][0])/self.norm_dict[name][1] for name in self.names]\n",
    "        x_binary = [row[name] for name in self.names_binary]\n",
    "        subject_index = 0\n",
    "        if self.train:\n",
    "            subject_index = self.subject_index[index]\n",
    "        x_cat = np.array([row[\"care_unit\"], subject_index])\n",
    "        x_cont = np.array(x_cont + x_binary)\n",
    "        return x_series, x_cont, x_cat, row[\"prediction_mean_HR\"], row[\"prediction_mean_MAP\"]\n",
    "\n",
    "    def __len__(self):\n",
    "        return self.df_sample.shape[0]"
   ]
  },
  {
   "cell_type": "code",
   "execution_count": 73,
   "metadata": {},
   "outputs": [],
   "source": [
    "test_ds = MultiTask_validation(test, norm_dict, id2index, train = False)\n",
    "test_dl = DataLoader(test_ds, batch_size=8233)"
   ]
  },
  {
   "cell_type": "code",
   "execution_count": 74,
   "metadata": {},
   "outputs": [],
   "source": [
    "#norm_dict_valid = get_mean_std_static(test_larib)\n",
    "test_larib_ds = MultiTask_validation(test_larib, norm_dict, id2index, train = False)\n",
    "# test_larib_ds = MultiTask(test_larib, norm_dict, id2index, train = False)\n",
    "test_larib_dl = DataLoader(test_larib_ds, batch_size=1597)"
   ]
  },
  {
   "cell_type": "code",
   "execution_count": 75,
   "metadata": {},
   "outputs": [
    {
     "data": {
      "text/plain": [
       "(46.112815856933594,\n",
       " 0.9643711,\n",
       " 0.9625453266189492,\n",
       " 0.9661093841424524,\n",
       " 0.93893015,\n",
       " 0.9358432804654087,\n",
       " 0.941872956484417)"
      ]
     },
     "execution_count": 75,
     "metadata": {},
     "output_type": "execute_result"
    }
   ],
   "source": [
    "val_metrics(model, test_dl)"
   ]
  },
  {
   "cell_type": "code",
   "execution_count": 76,
   "metadata": {},
   "outputs": [
    {
     "data": {
      "text/plain": [
       "(131.85086059570312,\n",
       " 0.9201769,\n",
       " 0.9105824032569431,\n",
       " 0.9287803089132564,\n",
       " 0.87773377,\n",
       " 0.8634006399628507,\n",
       " 0.8906512190737731)"
      ]
     },
     "execution_count": 76,
     "metadata": {},
     "output_type": "execute_result"
    }
   ],
   "source": [
    "val_metrics(model, test_larib_dl)"
   ]
  },
  {
   "cell_type": "markdown",
   "metadata": {},
   "source": [
    "### Mimic III testing set predictions"
   ]
  },
  {
   "cell_type": "code",
   "execution_count": 77,
   "metadata": {},
   "outputs": [],
   "source": [
    "out1, out2, y1, y2 = predict_one_batch(model, test_dl)\n",
    "y1 = np.reshape(y1, (-1,1))\n",
    "y2 = np.reshape(y2, (-1,1))\n",
    "arr_hr = np.concatenate((out1, y1) , axis=1)\n",
    "arr_map = np.concatenate((out2, y2) , axis=1)\n",
    "pd.DataFrame(arr_hr).to_csv(\"/home/menyssa/Recherche/Mimic-III-Yannet/resultats/2e_analyse/intern_obs_pred_HR_15.csv\")\n",
    "pd.DataFrame(arr_map).to_csv(\"/home/menyssa/Recherche/Mimic-III-Yannet/resultats/2e_analyse/intern_obs_pred_MAP_15.csv\")"
   ]
  },
  {
   "cell_type": "code",
   "execution_count": 78,
   "metadata": {},
   "outputs": [
    {
     "data": {
      "image/png": "[encoded data removed]",
      "text/plain": [
       "<Figure size 432x288 with 1 Axes>"
      ]
     },
     "metadata": {},
     "output_type": "display_data"
    }
   ],
   "source": [
    "x = np.linspace(50, 160, 1000)\n",
    "plt.plot(out1, y1, 'bo', ms=5)\n",
    "plt.xlabel(\"Predicted\")\n",
    "plt.ylabel(\"Actual\")\n",
    "plt.title(\"mean_HR on test\")\n",
    "plt.plot(x, x, '-g')\n",
    "plt.show()"
   ]
  },
  {
   "cell_type": "code",
   "execution_count": 79,
   "metadata": {},
   "outputs": [
    {
     "data": {
      "image/png": "[encoded data removed]",
      "text/plain": [
       "<Figure size 432x288 with 1 Axes>"
      ]
     },
     "metadata": {},
     "output_type": "display_data"
    }
   ],
   "source": [
    "x = np.linspace(40, 140, 1000)\n",
    "plt.plot(out2, y2, 'bo', ms=5)\n",
    "plt.xlabel(\"Predicted\")\n",
    "plt.ylabel(\"Actual\")\n",
    "plt.title(\"mean_MAP on test\")\n",
    "plt.plot(x, x, '-g')\n",
    "plt.show()"
   ]
  },
  {
   "cell_type": "markdown",
   "metadata": {},
   "source": [
    "### Lariboisiere predictions"
   ]
  },
  {
   "cell_type": "code",
   "execution_count": 80,
   "metadata": {},
   "outputs": [],
   "source": [
    "out1, out2, y1, y2 = predict_one_batch(model, test_larib_dl)"
   ]
  },
  {
   "cell_type": "code",
   "execution_count": 81,
   "metadata": {},
   "outputs": [
    {
     "data": {
      "image/png": "[encoded data removed]",
      "text/plain": [
       "<Figure size 432x288 with 1 Axes>"
      ]
     },
     "metadata": {},
     "output_type": "display_data"
    }
   ],
   "source": [
    "x = np.linspace(0, 200, 1000)\n",
    "plt.plot(out1, y1, 'bo', ms=5)\n",
    "plt.xlabel(\"Predicted\")\n",
    "plt.ylabel(\"Actual\")\n",
    "plt.title(\"mean_HR on larib\")\n",
    "plt.plot(x, x, '-g')\n",
    "plt.show()"
   ]
  },
  {
   "cell_type": "code",
   "execution_count": 82,
   "metadata": {},
   "outputs": [
    {
     "data": {
      "image/png": "[encoded data removed]",
      "text/plain": [
       "<Figure size 432x288 with 1 Axes>"
      ]
     },
     "metadata": {},
     "output_type": "display_data"
    }
   ],
   "source": [
    "x = np.linspace(40, 200, 1000)\n",
    "plt.plot(out2, y2, 'bo', ms=5)\n",
    "plt.xlabel(\"Predicted\")\n",
    "plt.ylabel(\"Actual\")\n",
    "plt.title(\"mean_MAP on larib\")\n",
    "plt.plot(x, x, '-g')\n",
    "plt.show()"
   ]
  },
  {
   "cell_type": "code",
   "execution_count": 83,
   "metadata": {},
   "outputs": [],
   "source": [
    "y1 = np.reshape(y1, (-1,1))\n",
    "y2 = np.reshape(y2, (-1,1))\n",
    "arr_hr = np.concatenate((out1, y1) , axis=1)\n",
    "arr_map = np.concatenate((out2, y2) , axis=1)\n",
    "periode = np.reshape(test_larib.key.values, (-1,1))\n",
    "arr_hr = np.concatenate((out1, y1, periode) , axis=1)\n",
    "arr_map = np.concatenate((out2, y2, periode) , axis=1)\n",
    "pd.DataFrame(arr_hr).to_csv(\"/home/menyssa/Recherche/Mimic-III-Yannet/resultats/2e_analyse/larib_obs_pred_HR_15.csv\")\n",
    "pd.DataFrame(arr_map).to_csv(\"/home/menyssa/Recherche/Mimic-III-Yannet/resultats/2e_analyse/larib_obs_pred_MAP_15.csv\")"
   ]
  },
  {
   "cell_type": "code",
   "execution_count": null,
   "metadata": {},
   "outputs": [],
   "source": []
  }
 ],
 "metadata": {
  "kernelspec": {
   "display_name": "Python 3",
   "language": "python",
   "name": "python3"
  },
  "language_info": {
   "codemirror_mode": {
    "name": "ipython",
    "version": 3
   },
   "file_extension": ".py",
   "mimetype": "text/x-python",
   "name": "python",
   "nbconvert_exporter": "python",
   "pygments_lexer": "ipython3",
   "version": "3.6.10"
  }
 },
 "nbformat": 4,
 "nbformat_minor": 2
}
