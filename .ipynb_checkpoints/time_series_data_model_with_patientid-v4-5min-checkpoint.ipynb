{
 "cells": [
  {
   "cell_type": "code",
   "execution_count": 1,
   "metadata": {},
   "outputs": [],
   "source": [
    "%reload_ext autoreload\n",
    "%autoreload 2\n",
    "%matplotlib inline\n",
    "import matplotlib\n",
    "import matplotlib.pyplot as plt\n",
    "\n",
    "import numpy as np\n",
    "import pandas as pd\n",
    "\n",
    "import time\n",
    "\n",
    "from pathlib import Path\n",
    "from sklearn import metrics\n",
    "import random\n",
    "from scipy import stats\n",
    "\n",
    "import torch\n",
    "from torch.utils.data import Dataset, DataLoader\n",
    "import torch.optim as optim\n",
    "import torch.nn as nn\n",
    "import torch.nn.functional as F\n",
    "from torchvision import models\n",
    "import torchvision\n",
    "\n",
    "from datetime import datetime\n",
    "from collections import OrderedDict"
   ]
  },
  {
   "cell_type": "code",
   "execution_count": 2,
   "metadata": {},
   "outputs": [],
   "source": [
    "import pickle"
   ]
  },
  {
   "cell_type": "code",
   "execution_count": 3,
   "metadata": {},
   "outputs": [],
   "source": [
    "PATH = Path(\"../../multi-task-romain/data/\")\n",
    "#PATH = Path(\"/home/menyssa/Recherche/Mimic-III-Yannet/Data/Yannet/data/\")"
   ]
  },
  {
   "cell_type": "code",
   "execution_count": 4,
   "metadata": {},
   "outputs": [
    {
     "data": {
      "text/plain": [
       "'5min'"
      ]
     },
     "execution_count": 4,
     "metadata": {},
     "output_type": "execute_result"
    }
   ],
   "source": [
    "gap = \"5min\"\n",
    "gap"
   ]
  },
  {
   "cell_type": "code",
   "execution_count": 5,
   "metadata": {},
   "outputs": [],
   "source": [
    "filename = \"data_train_{gap}.pickle\".format(gap=gap)\n",
    "with open(PATH/filename, 'rb') as f:\n",
    "    train = pickle.load(f)"
   ]
  },
  {
   "cell_type": "code",
   "execution_count": 6,
   "metadata": {},
   "outputs": [],
   "source": [
    "filename = \"data_valid_{gap}.pickle\".format(gap=gap)\n",
    "with open(PATH/filename, 'rb') as f:\n",
    "    valid = pickle.load(f)"
   ]
  },
  {
   "cell_type": "code",
   "execution_count": 7,
   "metadata": {},
   "outputs": [
    {
     "data": {
      "text/html": [
       "<div>\n",
       "<style scoped>\n",
       "    .dataframe tbody tr th:only-of-type {\n",
       "        vertical-align: middle;\n",
       "    }\n",
       "\n",
       "    .dataframe tbody tr th {\n",
       "        vertical-align: top;\n",
       "    }\n",
       "\n",
       "    .dataframe thead th {\n",
       "        text-align: right;\n",
       "    }\n",
       "</style>\n",
       "<table border=\"1\" class=\"dataframe\">\n",
       "  <thead>\n",
       "    <tr style=\"text-align: right;\">\n",
       "      <th></th>\n",
       "      <th>subject_id</th>\n",
       "      <th>key</th>\n",
       "      <th>gender</th>\n",
       "      <th>age</th>\n",
       "      <th>sapsii</th>\n",
       "      <th>sofa</th>\n",
       "      <th>care_unit</th>\n",
       "      <th>amine</th>\n",
       "      <th>sedation</th>\n",
       "      <th>ventilation</th>\n",
       "      <th>prediction_mean_HR</th>\n",
       "      <th>prediction_mean_MAP</th>\n",
       "      <th>series</th>\n",
       "      <th>group</th>\n",
       "    </tr>\n",
       "  </thead>\n",
       "  <tbody>\n",
       "    <tr>\n",
       "      <th>0</th>\n",
       "      <td>10013</td>\n",
       "      <td>10013_18</td>\n",
       "      <td>1</td>\n",
       "      <td>87</td>\n",
       "      <td>49</td>\n",
       "      <td>7</td>\n",
       "      <td>2</td>\n",
       "      <td>1</td>\n",
       "      <td>0</td>\n",
       "      <td>1</td>\n",
       "      <td>95.44</td>\n",
       "      <td>55.88</td>\n",
       "      <td>[[110.1, 0.0, 85.7, 37.1, 55.4], [110.9, 0.0, ...</td>\n",
       "      <td>0</td>\n",
       "    </tr>\n",
       "    <tr>\n",
       "      <th>1</th>\n",
       "      <td>10013</td>\n",
       "      <td>10013_19</td>\n",
       "      <td>1</td>\n",
       "      <td>87</td>\n",
       "      <td>49</td>\n",
       "      <td>7</td>\n",
       "      <td>2</td>\n",
       "      <td>1</td>\n",
       "      <td>0</td>\n",
       "      <td>1</td>\n",
       "      <td>107.4</td>\n",
       "      <td>68.4</td>\n",
       "      <td>[[96.0, 92.0, 106.2, 35.2, 55.9], [101.9, 92.7...</td>\n",
       "      <td>0</td>\n",
       "    </tr>\n",
       "    <tr>\n",
       "      <th>2</th>\n",
       "      <td>10013</td>\n",
       "      <td>10013_20</td>\n",
       "      <td>1</td>\n",
       "      <td>87</td>\n",
       "      <td>49</td>\n",
       "      <td>7</td>\n",
       "      <td>2</td>\n",
       "      <td>1</td>\n",
       "      <td>0</td>\n",
       "      <td>1</td>\n",
       "      <td>102.08</td>\n",
       "      <td>68.28</td>\n",
       "      <td>[[106.2, 94.5, 127.6, 43.6, 69.7], [106.1, 94....</td>\n",
       "      <td>0</td>\n",
       "    </tr>\n",
       "    <tr>\n",
       "      <th>3</th>\n",
       "      <td>10013</td>\n",
       "      <td>10013_23</td>\n",
       "      <td>1</td>\n",
       "      <td>87</td>\n",
       "      <td>49</td>\n",
       "      <td>7</td>\n",
       "      <td>2</td>\n",
       "      <td>1</td>\n",
       "      <td>0</td>\n",
       "      <td>1</td>\n",
       "      <td>99.14</td>\n",
       "      <td>86.14</td>\n",
       "      <td>[[93.0, 93.4, 139.6, 51.0, 80.9], [93.0, 93.8,...</td>\n",
       "      <td>0</td>\n",
       "    </tr>\n",
       "    <tr>\n",
       "      <th>4</th>\n",
       "      <td>10013</td>\n",
       "      <td>10013_24</td>\n",
       "      <td>1</td>\n",
       "      <td>87</td>\n",
       "      <td>49</td>\n",
       "      <td>7</td>\n",
       "      <td>2</td>\n",
       "      <td>1</td>\n",
       "      <td>0</td>\n",
       "      <td>1</td>\n",
       "      <td>108.1</td>\n",
       "      <td>69.96</td>\n",
       "      <td>[[97.5, 94.0, 144.1, 54.4, 86.4], [101.3, 94.5...</td>\n",
       "      <td>0</td>\n",
       "    </tr>\n",
       "  </tbody>\n",
       "</table>\n",
       "</div>"
      ],
      "text/plain": [
       "   subject_id       key gender age sapsii sofa  care_unit amine sedation  \\\n",
       "0       10013  10013_18      1  87     49    7          2     1        0   \n",
       "1       10013  10013_19      1  87     49    7          2     1        0   \n",
       "2       10013  10013_20      1  87     49    7          2     1        0   \n",
       "3       10013  10013_23      1  87     49    7          2     1        0   \n",
       "4       10013  10013_24      1  87     49    7          2     1        0   \n",
       "\n",
       "  ventilation prediction_mean_HR prediction_mean_MAP  \\\n",
       "0           1              95.44               55.88   \n",
       "1           1              107.4                68.4   \n",
       "2           1             102.08               68.28   \n",
       "3           1              99.14               86.14   \n",
       "4           1              108.1               69.96   \n",
       "\n",
       "                                              series  group  \n",
       "0  [[110.1, 0.0, 85.7, 37.1, 55.4], [110.9, 0.0, ...      0  \n",
       "1  [[96.0, 92.0, 106.2, 35.2, 55.9], [101.9, 92.7...      0  \n",
       "2  [[106.2, 94.5, 127.6, 43.6, 69.7], [106.1, 94....      0  \n",
       "3  [[93.0, 93.4, 139.6, 51.0, 80.9], [93.0, 93.8,...      0  \n",
       "4  [[97.5, 94.0, 144.1, 54.4, 86.4], [101.3, 94.5...      0  "
      ]
     },
     "execution_count": 7,
     "metadata": {},
     "output_type": "execute_result"
    }
   ],
   "source": [
    "train.head()"
   ]
  },
  {
   "cell_type": "code",
   "execution_count": 8,
   "metadata": {},
   "outputs": [
    {
     "data": {
      "text/html": [
       "<div>\n",
       "<style scoped>\n",
       "    .dataframe tbody tr th:only-of-type {\n",
       "        vertical-align: middle;\n",
       "    }\n",
       "\n",
       "    .dataframe tbody tr th {\n",
       "        vertical-align: top;\n",
       "    }\n",
       "\n",
       "    .dataframe thead th {\n",
       "        text-align: right;\n",
       "    }\n",
       "</style>\n",
       "<table border=\"1\" class=\"dataframe\">\n",
       "  <thead>\n",
       "    <tr style=\"text-align: right;\">\n",
       "      <th></th>\n",
       "      <th>subject_id</th>\n",
       "      <th>key</th>\n",
       "      <th>gender</th>\n",
       "      <th>age</th>\n",
       "      <th>sapsii</th>\n",
       "      <th>sofa</th>\n",
       "      <th>care_unit</th>\n",
       "      <th>amine</th>\n",
       "      <th>sedation</th>\n",
       "      <th>ventilation</th>\n",
       "      <th>prediction_mean_HR</th>\n",
       "      <th>prediction_mean_MAP</th>\n",
       "      <th>series</th>\n",
       "      <th>group</th>\n",
       "    </tr>\n",
       "  </thead>\n",
       "  <tbody>\n",
       "    <tr>\n",
       "      <th>1400</th>\n",
       "      <td>11018</td>\n",
       "      <td>11018_103</td>\n",
       "      <td>0</td>\n",
       "      <td>67</td>\n",
       "      <td>47</td>\n",
       "      <td>1</td>\n",
       "      <td>0</td>\n",
       "      <td>0</td>\n",
       "      <td>0</td>\n",
       "      <td>0</td>\n",
       "      <td>57.0333</td>\n",
       "      <td>127.633</td>\n",
       "      <td>[[58.0, 100.0, 141.0, 122.0, 130.0], [61.0, 10...</td>\n",
       "      <td>1</td>\n",
       "    </tr>\n",
       "    <tr>\n",
       "      <th>1401</th>\n",
       "      <td>11018</td>\n",
       "      <td>11018_29</td>\n",
       "      <td>0</td>\n",
       "      <td>67</td>\n",
       "      <td>47</td>\n",
       "      <td>1</td>\n",
       "      <td>0</td>\n",
       "      <td>0</td>\n",
       "      <td>0</td>\n",
       "      <td>0</td>\n",
       "      <td>74.94</td>\n",
       "      <td>71.07</td>\n",
       "      <td>[[78.0, 97.0, 99.0, 59.0, 72.0], [78.0, 97.0, ...</td>\n",
       "      <td>1</td>\n",
       "    </tr>\n",
       "    <tr>\n",
       "      <th>1402</th>\n",
       "      <td>11018</td>\n",
       "      <td>11018_30</td>\n",
       "      <td>0</td>\n",
       "      <td>67</td>\n",
       "      <td>47</td>\n",
       "      <td>1</td>\n",
       "      <td>0</td>\n",
       "      <td>0</td>\n",
       "      <td>0</td>\n",
       "      <td>0</td>\n",
       "      <td>75.24</td>\n",
       "      <td>74.6167</td>\n",
       "      <td>[[74.0, 97.0, 99.0, 59.0, 72.0], [75.0, 96.0, ...</td>\n",
       "      <td>1</td>\n",
       "    </tr>\n",
       "    <tr>\n",
       "      <th>1403</th>\n",
       "      <td>11018</td>\n",
       "      <td>11018_32</td>\n",
       "      <td>0</td>\n",
       "      <td>67</td>\n",
       "      <td>47</td>\n",
       "      <td>1</td>\n",
       "      <td>0</td>\n",
       "      <td>0</td>\n",
       "      <td>0</td>\n",
       "      <td>0</td>\n",
       "      <td>82.29</td>\n",
       "      <td>79.1533</td>\n",
       "      <td>[[78.0, 96.0, 108.0, 64.0, 78.0], [77.0, 97.0,...</td>\n",
       "      <td>1</td>\n",
       "    </tr>\n",
       "    <tr>\n",
       "      <th>1404</th>\n",
       "      <td>11018</td>\n",
       "      <td>11018_33</td>\n",
       "      <td>0</td>\n",
       "      <td>67</td>\n",
       "      <td>47</td>\n",
       "      <td>1</td>\n",
       "      <td>0</td>\n",
       "      <td>0</td>\n",
       "      <td>0</td>\n",
       "      <td>0</td>\n",
       "      <td>80.54</td>\n",
       "      <td>82.64</td>\n",
       "      <td>[[83.0, 93.0, 113.0, 66.0, 81.0], [82.0, 93.0,...</td>\n",
       "      <td>1</td>\n",
       "    </tr>\n",
       "  </tbody>\n",
       "</table>\n",
       "</div>"
      ],
      "text/plain": [
       "      subject_id        key gender age sapsii sofa  care_unit amine sedation  \\\n",
       "1400       11018  11018_103      0  67     47    1          0     0        0   \n",
       "1401       11018   11018_29      0  67     47    1          0     0        0   \n",
       "1402       11018   11018_30      0  67     47    1          0     0        0   \n",
       "1403       11018   11018_32      0  67     47    1          0     0        0   \n",
       "1404       11018   11018_33      0  67     47    1          0     0        0   \n",
       "\n",
       "     ventilation prediction_mean_HR prediction_mean_MAP  \\\n",
       "1400           0            57.0333             127.633   \n",
       "1401           0              74.94               71.07   \n",
       "1402           0              75.24             74.6167   \n",
       "1403           0              82.29             79.1533   \n",
       "1404           0              80.54               82.64   \n",
       "\n",
       "                                                 series  group  \n",
       "1400  [[58.0, 100.0, 141.0, 122.0, 130.0], [61.0, 10...      1  \n",
       "1401  [[78.0, 97.0, 99.0, 59.0, 72.0], [78.0, 97.0, ...      1  \n",
       "1402  [[74.0, 97.0, 99.0, 59.0, 72.0], [75.0, 96.0, ...      1  \n",
       "1403  [[78.0, 96.0, 108.0, 64.0, 78.0], [77.0, 97.0,...      1  \n",
       "1404  [[83.0, 93.0, 113.0, 66.0, 81.0], [82.0, 93.0,...      1  "
      ]
     },
     "execution_count": 8,
     "metadata": {},
     "output_type": "execute_result"
    }
   ],
   "source": [
    "valid.head()"
   ]
  },
  {
   "cell_type": "code",
   "execution_count": 9,
   "metadata": {},
   "outputs": [
    {
     "data": {
      "text/plain": [
       "((59742, 14), (7086, 14))"
      ]
     },
     "execution_count": 9,
     "metadata": {},
     "output_type": "execute_result"
    }
   ],
   "source": [
    "train.shape, valid.shape"
   ]
  },
  {
   "cell_type": "code",
   "execution_count": 10,
   "metadata": {},
   "outputs": [],
   "source": [
    "subject_id_list = np.sort(np.unique(train.subject_id.values))\n",
    "id2index = {v: k+1 for k,v in enumerate(subject_id_list)}\n",
    "num_subjects = len(subject_id_list)"
   ]
  },
  {
   "cell_type": "code",
   "execution_count": 11,
   "metadata": {},
   "outputs": [
    {
     "data": {
      "text/plain": [
       "2295"
      ]
     },
     "execution_count": 11,
     "metadata": {},
     "output_type": "execute_result"
    }
   ],
   "source": [
    "# Number of subjects in training\n",
    "num_subjects"
   ]
  },
  {
   "cell_type": "markdown",
   "metadata": {},
   "source": [
    "## Dataset"
   ]
  },
  {
   "cell_type": "code",
   "execution_count": 12,
   "metadata": {},
   "outputs": [],
   "source": [
    "def get_mean_std_series(train):\n",
    "    ss = np.concatenate(train.series.values)\n",
    "    ss = ss.reshape(-1,5)\n",
    "    return ss.mean(axis=0), ss.std(axis=0)"
   ]
  },
  {
   "cell_type": "code",
   "execution_count": 13,
   "metadata": {},
   "outputs": [],
   "source": [
    "def get_mean_std_static(train):\n",
    "    res = {}\n",
    "    for name in [\"age\", \"sapsii\", \"sofa\"]:\n",
    "        values = train[name].values\n",
    "        res[name] = (values.mean(), values.std())\n",
    "    res[\"series\"] = get_mean_std_series(train)\n",
    "    return res"
   ]
  },
  {
   "cell_type": "code",
   "execution_count": 14,
   "metadata": {},
   "outputs": [
    {
     "data": {
      "text/plain": [
       "{'age': (64, 15.073998327645949),\n",
       " 'sapsii': (33, 14.215114554630107),\n",
       " 'sofa': (4, 3.7687923741651197),\n",
       " 'series': (array([ 83.25271123,  93.7286662 , 120.81020051,  58.76277023,\n",
       "          78.52866913]),\n",
       "  array([16.10279665, 17.32261077, 21.2893833 , 12.28384779, 14.32805636]))}"
      ]
     },
     "execution_count": 14,
     "metadata": {},
     "output_type": "execute_result"
    }
   ],
   "source": [
    "norm_dict = get_mean_std_static(train)\n",
    "norm_dict "
   ]
  },
  {
   "cell_type": "code",
   "execution_count": 15,
   "metadata": {},
   "outputs": [],
   "source": [
    "class MultiTask(Dataset):\n",
    "    def __init__(self, df, norm_dict, id2index, k=20, train=True):\n",
    "        \"\"\"\n",
    "        Args:\n",
    "            df: dataframe with data\n",
    "            norm_dict: mean and std of all variables to normalize\n",
    "            \n",
    "        \"\"\"\n",
    "        self.norm_dict = norm_dict\n",
    "        self.df = df\n",
    "        self.names = [\"age\", \"sapsii\", \"sofa\"] ## needs normalization\n",
    "        self.names_binary = [\"gender\", \"amine\", \"sedation\", \"ventilation\"]\n",
    "        self.id2index = id2index\n",
    "        self.train = train\n",
    "        self.df_sample = self.pick_a_sample(k)\n",
    "            \n",
    "    def pick_a_sample(self, k=20):\n",
    "        \"\"\" Picks sample with the same number of observations per patient\"\"\"\n",
    "        if not self.train: # fix seed for validation and test\n",
    "            np.random.seed(3)\n",
    "        sample = self.df.groupby(\"subject_id\", group_keys=False).apply(lambda x: x.sample(min(len(x), k)))\n",
    "        sample = sample.copy()\n",
    "        if self.train:\n",
    "            self.subject_index = [self.id2index[subject_id] for subject_id in sample.subject_id.values]\n",
    "            self.random = np.random.choice(2, sample.shape[0], p=[0.1, 0.9])\n",
    "            self.subject_index = self.subject_index*self.random\n",
    "        return sample\n",
    "\n",
    "    def __getitem__(self, index):\n",
    "        row = self.df_sample.iloc[index,:]\n",
    "        x_series = (row.series - self.norm_dict[\"series\"][0])/self.norm_dict[\"series\"][1]\n",
    "        x_cont = [(row[name]-self.norm_dict[name][0])/self.norm_dict[name][1] for name in self.names]\n",
    "        x_binary = [row[name] for name in self.names_binary]\n",
    "        subject_index = 0\n",
    "        if self.train:\n",
    "            subject_index = self.subject_index[index]\n",
    "        x_cat = np.array([row[\"care_unit\"], subject_index])\n",
    "        x_cont = np.array(x_cont + x_binary)\n",
    "        return x_series, x_cont, x_cat, row[\"prediction_mean_HR\"], row[\"prediction_mean_MAP\"]\n",
    "\n",
    "    def __len__(self):\n",
    "        return self.df_sample.shape[0]"
   ]
  },
  {
   "cell_type": "code",
   "execution_count": 16,
   "metadata": {},
   "outputs": [],
   "source": [
    "train_ds = MultiTask(train, norm_dict, id2index, train = True)\n",
    "valid_ds = MultiTask(valid, norm_dict, id2index, train = False)"
   ]
  },
  {
   "cell_type": "code",
   "execution_count": 17,
   "metadata": {},
   "outputs": [
    {
     "name": "stdout",
     "output_type": "stream",
     "text": [
      "29720 3536\n"
     ]
    }
   ],
   "source": [
    "print(len(train_ds), len(valid_ds))"
   ]
  },
  {
   "cell_type": "code",
   "execution_count": 18,
   "metadata": {},
   "outputs": [
    {
     "data": {
      "text/plain": [
       "(array([[-5.49762344e-01,  3.62031676e-01, -2.35337982e-01,\n",
       "          9.14797217e-01,  7.23847716e-01],\n",
       "        [-6.05653257e-01,  3.62031676e-01,  1.40436172e-01,\n",
       "          1.32183580e+00,  1.14958585e+00],\n",
       "        [-6.30493662e-01,  3.62031676e-01,  2.06196649e-01,\n",
       "          1.29741348e+00,  1.16354448e+00],\n",
       "        [-9.40998732e-01,  2.98530855e-01, -4.93682713e-01,\n",
       "          4.75195547e-01,  2.98109580e-01],\n",
       "        [-5.87022952e-01,  3.62031676e-01, -4.51408121e-01,\n",
       "          9.63641847e-01,  6.05199383e-01],\n",
       "        [-5.00081533e-01,  3.62031676e-01, -8.50283208e-02,\n",
       "          1.39510274e+00,  1.05187546e+00],\n",
       "        [-6.42913865e-01,  3.62031676e-01,  2.30067485e-02,\n",
       "          1.48465123e+00,  1.14260654e+00],\n",
       "        [-6.36703764e-01,  3.62031676e-01, -2.16549275e-01,\n",
       "          1.11017574e+00,  8.14578794e-01],\n",
       "        [-5.37342141e-01,  3.62031676e-01, -4.79136105e-04,\n",
       "          1.12645728e+00,  9.68123695e-01],\n",
       "        [-6.73964372e-01,  3.44713270e-01, -5.17631303e-03,\n",
       "          1.11017574e+00,  9.47185754e-01],\n",
       "        [-6.98804778e-01,  3.15849261e-01,  1.07555933e-01,\n",
       "          1.29741348e+00,  1.10770997e+00],\n",
       "        [-7.29855284e-01,  3.62031676e-01,  4.92724441e-01,\n",
       "          1.68002975e+00,  1.53344810e+00],\n",
       "        [-6.61544169e-01,  3.44713270e-01,  4.17569610e-01,\n",
       "          1.56605895e+00,  1.43573771e+00],\n",
       "        [-6.55334068e-01,  3.56258874e-01,  1.82710764e-01,\n",
       "          1.46022892e+00,  1.24031693e+00],\n",
       "        [-4.62820924e-01,  3.62031676e-01,  5.25604680e-01,\n",
       "          1.87540827e+00,  1.65209644e+00],\n",
       "        [-5.49762344e-01,  3.62031676e-01,  7.69857880e-01,\n",
       "          2.11149065e+00,  1.92428967e+00],\n",
       "        [-5.24921938e-01,  3.62031676e-01,  6.52428457e-01,\n",
       "          1.94053445e+00,  1.77772408e+00],\n",
       "        [-5.43552243e-01,  3.62031676e-01,  6.00759510e-01,\n",
       "          1.89983059e+00,  1.71491026e+00],\n",
       "        [-5.74602750e-01,  3.62031676e-01,  5.49090564e-01,\n",
       "          1.80214133e+00,  1.63813781e+00],\n",
       "        [-6.61544169e-01,  3.62031676e-01,  4.83330087e-01,\n",
       "          1.72887438e+00,  1.56834467e+00],\n",
       "        [-5.62182547e-01,  3.62031676e-01,  6.43034103e-01,\n",
       "          1.84284519e+00,  1.72886889e+00],\n",
       "        [-4.56610823e-01,  3.62031676e-01,  6.80611518e-01,\n",
       "          1.92425290e+00,  1.78470340e+00],\n",
       "        [-5.62182547e-01,  3.62031676e-01,  6.38336926e-01,\n",
       "          1.86726750e+00,  1.73584820e+00],\n",
       "        [-4.81451229e-01,  3.62031676e-01,  5.30301856e-01,\n",
       "          1.79400056e+00,  1.62417918e+00],\n",
       "        [-5.99443155e-01,  3.62031676e-01,  6.00759510e-01,\n",
       "          1.83470441e+00,  1.70095163e+00],\n",
       "        [-5.49762344e-01,  3.62031676e-01,  5.67879272e-01,\n",
       "          1.79400056e+00,  1.66605506e+00],\n",
       "        [-5.62182547e-01,  3.62031676e-01,  6.47731280e-01,\n",
       "          1.87540827e+00,  1.72886889e+00],\n",
       "        [-5.49762344e-01,  3.62031676e-01,  6.57125633e-01,\n",
       "          1.87540827e+00,  1.74980683e+00],\n",
       "        [-6.24283561e-01,  3.62031676e-01,  5.67879272e-01,\n",
       "          1.79400056e+00,  1.65209644e+00],\n",
       "        [-6.11863358e-01,  3.62031676e-01,  5.25604680e-01,\n",
       "          1.76143747e+00,  1.61022056e+00]]),\n",
       " array([-0.0663394 , -1.05521485, -0.79601095,  1.        ,  0.        ,\n",
       "         0.        ,  1.        ]),\n",
       " array([ 0, 88]),\n",
       " 74.76,\n",
       " 105.84)"
      ]
     },
     "execution_count": 18,
     "metadata": {},
     "output_type": "execute_result"
    }
   ],
   "source": [
    "x1, x2, x3, y1, y2 = train_ds[1200]\n",
    "x1, x2, x3, y1, y2"
   ]
  },
  {
   "cell_type": "code",
   "execution_count": 19,
   "metadata": {},
   "outputs": [
    {
     "data": {
      "text/plain": [
       "care_unit\n",
       "0     8780\n",
       "1    20472\n",
       "2    14112\n",
       "3    10989\n",
       "4     5389\n",
       "dtype: int64"
      ]
     },
     "execution_count": 19,
     "metadata": {},
     "output_type": "execute_result"
    }
   ],
   "source": [
    "tab = train.groupby(['care_unit']).size()\n",
    "tab"
   ]
  },
  {
   "cell_type": "markdown",
   "metadata": {},
   "source": [
    "## Model"
   ]
  },
  {
   "cell_type": "code",
   "execution_count": 20,
   "metadata": {},
   "outputs": [],
   "source": [
    "def save_model(m, p): torch.save(m.state_dict(), p)\n",
    "    \n",
    "def load_model(m, p): m.load_state_dict(torch.load(p))"
   ]
  },
  {
   "cell_type": "code",
   "execution_count": 21,
   "metadata": {},
   "outputs": [],
   "source": [
    "def pearsonr_ci(x,y,alpha=0.05):\n",
    "    ''' calculate Pearson correlation along with the confidence interval using scipy and numpy\n",
    "    Parameters\n",
    "    ----------\n",
    "    x, y : iterable object such as a list or np.array\n",
    "      Input for correlation calculation\n",
    "    alpha : float\n",
    "      Significance level. 0.05 by default\n",
    "    Returns\n",
    "    -------\n",
    "    r : float\n",
    "      Pearson's correlation coefficient\n",
    "    pval : float\n",
    "      The corresponding p value\n",
    "    lo, hi : float\n",
    "      The lower and upper bound of confidence intervals\n",
    "    '''\n",
    "    r, p = stats.pearsonr(x,y)\n",
    "    r_z = np.arctanh(r)\n",
    "    se = 1/np.sqrt(x.size-3)\n",
    "    z = stats.norm.ppf(1-alpha/2)\n",
    "    lo_z, hi_z = r_z-z*se, r_z+z*se\n",
    "    lo, hi = np.tanh((lo_z, hi_z))\n",
    "    return r, p, lo, hi"
   ]
  },
  {
   "cell_type": "code",
   "execution_count": 22,
   "metadata": {},
   "outputs": [],
   "source": [
    "class EventModel1(nn.Module):\n",
    "    def __init__(self, hidden_size=100):\n",
    "        super(EventModel1, self).__init__()\n",
    "        self.embedding1 = nn.Embedding(5, 1)\n",
    "        self.embedding2 = nn.Embedding(num_subjects+1, 5)\n",
    "        self.gru = nn.GRU(5, hidden_size, batch_first=True)\n",
    "        self.num = hidden_size + 10 + 1 + 5\n",
    "        self.linear1 = nn.Linear(7, 10)\n",
    "        self.out1 = nn.Linear(self.num, 1)\n",
    "        self.out2 = nn.Linear(self.num, 1)\n",
    "        self.bn1 = nn.BatchNorm1d(10)\n",
    "\n",
    "    def forward(self, x_series, x_cont, x_cat):\n",
    "        _, ht = self.gru(x_series)\n",
    "        x_cat_1 = self.embedding1(x_cat[:,0])\n",
    "        x_cat_2 = self.embedding2(x_cat[:,1])\n",
    "        x_cont = self.bn1(F.relu(self.linear1(x_cont))) \n",
    "        x = torch.cat((ht[-1], x_cat_1, x_cat_2, x_cont), 1)\n",
    "        return self.out1(x), self.out2(x)"
   ]
  },
  {
   "cell_type": "code",
   "execution_count": 23,
   "metadata": {},
   "outputs": [],
   "source": [
    "def val_metrics(model, valid_dl):\n",
    "    model.eval()\n",
    "    total = 0\n",
    "    sum_loss = 0\n",
    "    y_hat1 = []\n",
    "    ys1 = []\n",
    "    y_hat2 = []\n",
    "    ys2 = []\n",
    "    for x_series, x_cont, x_cat, y1, y2 in valid_dl:\n",
    "        batch = y1.shape[0]\n",
    "        x_series = x_series.float()\n",
    "        x_cont = x_cont.float()\n",
    "        x_cat = x_cat.long()\n",
    "        y1 = y1.float()\n",
    "        y2 = y2.float()\n",
    "        out1, out2 = model(x_series, x_cont, x_cat)\n",
    "        mse_loss1 = F.mse_loss(out1, y1.unsqueeze(-1))\n",
    "        mse_loss2 = F.mse_loss(out2, y2.unsqueeze(-1))\n",
    "        loss = mse_loss1 + mse_loss2\n",
    "        sum_loss += batch*(loss.item())\n",
    "        total += batch\n",
    "        y_hat1.append(out1.view(-1).detach().numpy())\n",
    "        ys1.append(y1.view(-1).numpy())\n",
    "        y_hat2.append(out2.view(-1).detach().numpy())\n",
    "        ys2.append(y2.view(-1).numpy())\n",
    "    \n",
    "    y_hat1 = np.concatenate(y_hat1)\n",
    "    y_hat2 = np.concatenate(y_hat2)\n",
    "    ys1 = np.concatenate(ys1)\n",
    "    ys2 = np.concatenate(ys2)\n",
    "    r2_1, p, lo2_1, hi2_1 =  pearsonr_ci(ys1, y_hat1, alpha=0.05)\n",
    "    r2_2, p, lo2_2, hi2_2 =  pearsonr_ci(ys2, y_hat2, alpha=0.05)\n",
    "    #r2_1 = metrics.r2_score(ys1, y_hat1)\n",
    "    #r2_2 = metrics.r2_score(ys2, y_hat2)\n",
    "    #return sum_loss/total,\n",
    "    return sum_loss/total,  r2_1,lo2_1, hi2_1, r2_2, lo2_2, hi2_2"
   ]
  },
  {
   "cell_type": "code",
   "execution_count": 24,
   "metadata": {},
   "outputs": [],
   "source": [
    "def train_epochs(model, train_ds, optimizer, filename, lr=1e-3, epochs = 30):\n",
    "    t = time.process_time()\n",
    "    prev_val_r2 = 0\n",
    "    for i in range(epochs):\n",
    "        sum_loss1 = 0\n",
    "        sum_loss2 = 0\n",
    "        total = 0\n",
    "        train_ds.pick_a_sample()\n",
    "        train_dl = DataLoader(train_ds, batch_size=5000, shuffle=True)\n",
    "        valid_dl = DataLoader(valid_ds, batch_size=batch_size)\n",
    "        for x_series, x_cont, x_cat, y1, y2 in train_dl:\n",
    "            model.train()\n",
    "            x_series = x_series.float()\n",
    "            x_cont = x_cont.float()\n",
    "            x_cat = x_cat.long()\n",
    "            y1 = y1.float()\n",
    "            y2 = y2.float()\n",
    "            out1, out2 = model(x_series, x_cont, x_cat)\n",
    "            mse_loss1 = F.mse_loss(out1, y1.unsqueeze(-1))\n",
    "            mse_loss2 = F.mse_loss(out2, y2.unsqueeze(-1))\n",
    "            loss = mse_loss1 + mse_loss2\n",
    "            sum_loss1 += len(y1) * mse_loss1.item()\n",
    "            sum_loss2 += len(y1) * mse_loss2.item()\n",
    "            total += len(y1)\n",
    "            optimizer.zero_grad()\n",
    "            loss.backward()\n",
    "            optimizer.step()\n",
    "        if i % 1 == 0:\n",
    "            print(\"iteration : \", i)\n",
    "            # val_loss, val_r2_1, val_r2_2 = val_metrics(model, valid_dl)\n",
    "            #train_loss, train_r2_1,  train_lo2_1,  train_hi2_1, train_r2_2,  train_lo2_2,  train_hi2_2  = val_metrics(model, train_dl)\n",
    "            #print(\"\\tTrain loss (after): {:.3f}\".format(train_loss)) \n",
    "            print(\"\\tTrain loss: {:.3f} {:.3f}\".format(sum_loss1/total, sum_loss2/total))             \n",
    "            val_loss, val_r2_1,  val_lo2_1,  val_hi2_1, val_r2_2,  val_lo2_2,  val_hi2_2  = val_metrics(model, valid_dl)\n",
    "            print(\"\\tValid loss: {:.3f} \\n valid r2 hr {:.3f}[{:.3f}-{:.3f}] valid r2 map {:.3f}[{:.3f}-{:.3f}]\".format(\n",
    "               val_loss, val_r2_1,  val_lo2_1,  val_hi2_1, val_r2_2,  val_lo2_2,  val_hi2_2))\n",
    "            \n",
    "        if val_r2_1 > prev_val_r2:\n",
    "            prev_val_r2 = val_r2_1\n",
    "            if val_r2_1 > 0.95:\n",
    "                PATH = Path(\"../../multi-task-romain/2e_analyse/multitask/\")\n",
    "                path = \"{0}/{1}_5min_r2_{2:.0f}_{3:.0f}.pth\".format(PATH, filename, 100*val_r2_1, 100*val_r2_2) \n",
    "                save_model(model, path)\n",
    "                print(path)\n",
    "    elapsed_time = time.process_time() - t\n",
    "    print('time consuming: ', elapsed_time, 'secs')"
   ]
  },
  {
   "cell_type": "code",
   "execution_count": 25,
   "metadata": {},
   "outputs": [],
   "source": [
    "batch_size = 5000\n",
    "train_dl = DataLoader(train_ds, batch_size=batch_size, shuffle=True)\n",
    "valid_dl = DataLoader(valid_ds, batch_size=batch_size)"
   ]
  },
  {
   "cell_type": "code",
   "execution_count": 26,
   "metadata": {},
   "outputs": [],
   "source": [
    "model = EventModel1()"
   ]
  },
  {
   "cell_type": "code",
   "execution_count": 27,
   "metadata": {},
   "outputs": [
    {
     "data": {
      "text/plain": [
       "(13578.580078125,\n",
       " 0.1815186,\n",
       " 0.14945039339259772,\n",
       " 0.21320533174178766,\n",
       " -0.33906353,\n",
       " -0.36791398852812834,\n",
       " -0.3095608716905801)"
      ]
     },
     "execution_count": 27,
     "metadata": {},
     "output_type": "execute_result"
    }
   ],
   "source": [
    "val_metrics(model, valid_dl)"
   ]
  },
  {
   "cell_type": "code",
   "execution_count": 28,
   "metadata": {},
   "outputs": [
    {
     "name": "stdout",
     "output_type": "stream",
     "text": [
      "iteration :  0\n",
      "\tTrain loss: 6126.589 5236.782\n",
      "\tValid loss: 7946.447 \n",
      " valid r2 hr 0.231[0.200-0.262] valid r2 map 0.678[0.660-0.695]\n",
      "iteration :  1\n",
      "\tTrain loss: 3265.148 2573.636\n",
      "\tValid loss: 2743.452 \n",
      " valid r2 hr 0.353[0.324-0.382] valid r2 map 0.635[0.615-0.655]\n",
      "iteration :  2\n",
      "\tTrain loss: 976.310 615.145\n",
      "\tValid loss: 387.875 \n",
      " valid r2 hr 0.368[0.339-0.396] valid r2 map 0.579[0.557-0.601]\n",
      "iteration :  3\n",
      "\tTrain loss: 206.923 149.330\n",
      "\tValid loss: 637.191 \n",
      " valid r2 hr 0.580[0.558-0.602] valid r2 map 0.765[0.751-0.778]\n",
      "iteration :  4\n",
      "\tTrain loss: 250.512 198.435\n",
      "\tValid loss: 537.184 \n",
      " valid r2 hr 0.693[0.676-0.710] valid r2 map 0.818[0.807-0.829]\n",
      "iteration :  5\n",
      "\tTrain loss: 137.485 82.235\n",
      "\tValid loss: 160.698 \n",
      " valid r2 hr 0.796[0.783-0.807] valid r2 map 0.833[0.823-0.843]\n",
      "iteration :  6\n",
      "\tTrain loss: 70.393 67.056\n",
      "\tValid loss: 102.006 \n",
      " valid r2 hr 0.894[0.887-0.901] valid r2 map 0.853[0.844-0.862]\n",
      "iteration :  7\n",
      "\tTrain loss: 48.830 57.542\n",
      "\tValid loss: 93.963 \n",
      " valid r2 hr 0.913[0.908-0.919] valid r2 map 0.857[0.848-0.865]\n",
      "iteration :  8\n",
      "\tTrain loss: 38.334 46.211\n",
      "\tValid loss: 103.578 \n",
      " valid r2 hr 0.920[0.915-0.925] valid r2 map 0.858[0.849-0.867]\n",
      "iteration :  9\n",
      "\tTrain loss: 34.825 43.670\n",
      "\tValid loss: 90.558 \n",
      " valid r2 hr 0.926[0.921-0.931] valid r2 map 0.867[0.859-0.875]\n",
      "time consuming:  287.372349159 secs\n",
      "iteration :  0\n",
      "\tTrain loss: 31.301 38.719\n",
      "\tValid loss: 65.356 \n",
      " valid r2 hr 0.941[0.937-0.945] valid r2 map 0.895[0.888-0.901]\n",
      "iteration :  1\n",
      "\tTrain loss: 23.808 30.368\n",
      "\tValid loss: 52.459 \n",
      " valid r2 hr 0.956[0.953-0.959] valid r2 map 0.916[0.911-0.921]\n",
      "../../multi-task-romain/2e_analyse/multitask/multi_model_5min_r2_96_92.pth\n",
      "iteration :  2\n",
      "\tTrain loss: 20.104 25.127\n",
      "\tValid loss: 42.598 \n",
      " valid r2 hr 0.962[0.959-0.964] valid r2 map 0.935[0.931-0.939]\n",
      "../../multi-task-romain/2e_analyse/multitask/multi_model_5min_r2_96_94.pth\n",
      "iteration :  3\n",
      "\tTrain loss: 16.919 20.751\n",
      "\tValid loss: 34.989 \n",
      " valid r2 hr 0.968[0.966-0.970] valid r2 map 0.949[0.946-0.952]\n",
      "../../multi-task-romain/2e_analyse/multitask/multi_model_5min_r2_97_95.pth\n",
      "iteration :  4\n",
      "\tTrain loss: 15.348 18.666\n",
      "\tValid loss: 29.266 \n",
      " valid r2 hr 0.971[0.970-0.973] valid r2 map 0.955[0.952-0.958]\n",
      "../../multi-task-romain/2e_analyse/multitask/multi_model_5min_r2_97_96.pth\n",
      "iteration :  5\n",
      "\tTrain loss: 13.876 16.619\n",
      "\tValid loss: 27.150 \n",
      " valid r2 hr 0.975[0.973-0.977] valid r2 map 0.961[0.959-0.964]\n",
      "../../multi-task-romain/2e_analyse/multitask/multi_model_5min_r2_98_96.pth\n",
      "iteration :  6\n",
      "\tTrain loss: 12.758 15.495\n",
      "\tValid loss: 25.497 \n",
      " valid r2 hr 0.977[0.976-0.979] valid r2 map 0.963[0.960-0.965]\n",
      "../../multi-task-romain/2e_analyse/multitask/multi_model_5min_r2_98_96.pth\n",
      "iteration :  7\n",
      "\tTrain loss: 11.801 14.934\n",
      "\tValid loss: 22.677 \n",
      " valid r2 hr 0.979[0.978-0.981] valid r2 map 0.965[0.963-0.967]\n",
      "../../multi-task-romain/2e_analyse/multitask/multi_model_5min_r2_98_96.pth\n",
      "iteration :  8\n",
      "\tTrain loss: 11.201 14.405\n",
      "\tValid loss: 21.450 \n",
      " valid r2 hr 0.980[0.979-0.982] valid r2 map 0.966[0.964-0.968]\n",
      "../../multi-task-romain/2e_analyse/multitask/multi_model_5min_r2_98_97.pth\n",
      "iteration :  9\n",
      "\tTrain loss: 11.194 14.319\n",
      "\tValid loss: 21.265 \n",
      " valid r2 hr 0.981[0.980-0.982] valid r2 map 0.967[0.964-0.969]\n",
      "../../multi-task-romain/2e_analyse/multitask/multi_model_5min_r2_98_97.pth\n",
      "iteration :  10\n",
      "\tTrain loss: 10.779 14.176\n",
      "\tValid loss: 20.683 \n",
      " valid r2 hr 0.982[0.980-0.983] valid r2 map 0.967[0.965-0.970]\n",
      "../../multi-task-romain/2e_analyse/multitask/multi_model_5min_r2_98_97.pth\n",
      "iteration :  11\n",
      "\tTrain loss: 10.639 13.944\n",
      "\tValid loss: 20.288 \n",
      " valid r2 hr 0.982[0.981-0.983] valid r2 map 0.968[0.966-0.970]\n",
      "../../multi-task-romain/2e_analyse/multitask/multi_model_5min_r2_98_97.pth\n",
      "iteration :  12\n",
      "\tTrain loss: 10.539 13.777\n",
      "\tValid loss: 19.686 \n",
      " valid r2 hr 0.982[0.981-0.983] valid r2 map 0.968[0.966-0.970]\n",
      "../../multi-task-romain/2e_analyse/multitask/multi_model_5min_r2_98_97.pth\n",
      "iteration :  13\n",
      "\tTrain loss: 10.504 13.733\n",
      "\tValid loss: 19.926 \n",
      " valid r2 hr 0.983[0.982-0.984] valid r2 map 0.968[0.966-0.970]\n",
      "../../multi-task-romain/2e_analyse/multitask/multi_model_5min_r2_98_97.pth\n",
      "iteration :  14\n",
      "\tTrain loss: 10.306 13.455\n",
      "\tValid loss: 19.565 \n",
      " valid r2 hr 0.983[0.982-0.984] valid r2 map 0.969[0.967-0.971]\n",
      "iteration :  15\n",
      "\tTrain loss: 10.045 13.386\n",
      "\tValid loss: 18.954 \n",
      " valid r2 hr 0.983[0.982-0.984] valid r2 map 0.970[0.968-0.971]\n",
      "../../multi-task-romain/2e_analyse/multitask/multi_model_5min_r2_98_97.pth\n",
      "iteration :  16\n",
      "\tTrain loss: 9.868 13.206\n",
      "\tValid loss: 18.593 \n",
      " valid r2 hr 0.983[0.982-0.984] valid r2 map 0.970[0.968-0.972]\n",
      "../../multi-task-romain/2e_analyse/multitask/multi_model_5min_r2_98_97.pth\n",
      "iteration :  17\n",
      "\tTrain loss: 9.725 13.116\n",
      "\tValid loss: 18.410 \n",
      " valid r2 hr 0.983[0.982-0.985] valid r2 map 0.970[0.968-0.972]\n",
      "../../multi-task-romain/2e_analyse/multitask/multi_model_5min_r2_98_97.pth\n",
      "iteration :  18\n",
      "\tTrain loss: 9.659 13.011\n",
      "\tValid loss: 18.230 \n",
      " valid r2 hr 0.984[0.983-0.985] valid r2 map 0.970[0.968-0.972]\n",
      "../../multi-task-romain/2e_analyse/multitask/multi_model_5min_r2_98_97.pth\n",
      "iteration :  19\n",
      "\tTrain loss: 9.440 12.859\n",
      "\tValid loss: 18.054 \n",
      " valid r2 hr 0.984[0.983-0.985] valid r2 map 0.971[0.969-0.973]\n",
      "../../multi-task-romain/2e_analyse/multitask/multi_model_5min_r2_98_97.pth\n",
      "time consuming:  582.83523666 secs\n"
     ]
    }
   ],
   "source": [
    "# 0s in training\n",
    "model = EventModel1()\n",
    "\n",
    "optimizer = torch.optim.Adam(model.parameters(), lr=0.05, weight_decay=1e-5)\n",
    "train_epochs(model, train_ds, optimizer, filename=\"multi_model\", epochs=10)\n",
    "\n",
    "optimizer = torch.optim.Adam(model.parameters(), lr=0.03, weight_decay=1e-5)\n",
    "train_epochs(model, train_ds, optimizer,filename=\"multi_model\", epochs=20)"
   ]
  },
  {
   "cell_type": "markdown",
   "metadata": {},
   "source": [
    "## Calibration plot"
   ]
  },
  {
   "cell_type": "code",
   "execution_count": 30,
   "metadata": {},
   "outputs": [],
   "source": [
    "file = Path(\"../../multi-task-romain/2e_analyse/multitask/multi_model_5min_r2_98_97.pth\")\n",
    "model = EventModel1()\n",
    "load_model(model, file)"
   ]
  },
  {
   "cell_type": "code",
   "execution_count": 31,
   "metadata": {},
   "outputs": [
    {
     "data": {
      "text/plain": [
       "((8233, 14), (1597, 13))"
      ]
     },
     "execution_count": 31,
     "metadata": {},
     "output_type": "execute_result"
    }
   ],
   "source": [
    "filename = \"data_test_{gap}.pickle\".format(gap=gap)\n",
    "with open(PATH/filename, 'rb') as f:\n",
    "    test = pickle.load(f)\n",
    "    \n",
    "filename = \"data_validation_{gap}.pickle\".format(gap=gap)\n",
    "with open(PATH/filename, 'rb') as f:\n",
    "    test_larib = pickle.load(f)\n",
    "test_larib[\"care_unit\"] = 4\n",
    "test.shape, test_larib.shape"
   ]
  },
  {
   "cell_type": "code",
   "execution_count": 32,
   "metadata": {},
   "outputs": [],
   "source": [
    "def predict_one_batch(model, dl):\n",
    "    for x_series, x_cont, x_cat, y1, y2 in dl:\n",
    "        x_series = x_series.float()\n",
    "        x_cont = x_cont.float()\n",
    "        x_cat = x_cat.long()\n",
    "        y1 = y1.float()\n",
    "        y2 = y2.float()\n",
    "        out1, out2 = model(x_series, x_cont, x_cat)\n",
    "    return out1.detach().numpy(), out2.detach().numpy(), y1.detach().numpy(), y2.detach().numpy()\n",
    "\n",
    "class MultiTask_validation(Dataset):\n",
    "    def __init__(self, df, norm_dict, id2index, k=20, train=True):\n",
    "        \"\"\"\n",
    "        Args:\n",
    "            df: dataframe with data\n",
    "            norm_dict: mean and std of all variables to normalize\n",
    "            \n",
    "        \"\"\"\n",
    "        self.norm_dict = norm_dict\n",
    "        self.df = df\n",
    "        self.names = [\"age\", \"sapsii\", \"sofa\"] ## needs normalization\n",
    "        self.names_binary = [\"gender\", \"amine\", \"sedation\", \"ventilation\"]\n",
    "        self.id2index = id2index\n",
    "        self.train = train\n",
    "        self.df_sample = self.pick_a_sample(k)\n",
    "            \n",
    "    def pick_a_sample(self, k=20):\n",
    "        \"\"\" Picks sample with the same number of observations per patient\"\"\"\n",
    "        if not self.train: # fix seed for validation and test\n",
    "            np.random.seed(3)\n",
    "# We don't want the same number of period per patient\n",
    "        # sample = self.df.groupby(\"subject_id\", group_keys=False).apply(lambda x: x.sample(k, replace=True))\n",
    "        sample = self.df.copy()\n",
    "        if self.train:\n",
    "# 10 percent of the periods have a subject_index == 0\n",
    "            self.subject_index = [self.id2index[subject_id] for subject_id in sample.subject_id.values]\n",
    "            self.random = np.random.choice(2, sample.shape[0], p = [0.1, 0.9])\n",
    "            self.subject_index = self.subject_index*self.random\n",
    "        return sample\n",
    "\n",
    "    def __getitem__(self, index):\n",
    "        row = self.df_sample.iloc[index,:] \n",
    "        x_series = (row.series - self.norm_dict[\"series\"][0])/self.norm_dict[\"series\"][1]\n",
    "        x_cont = [(row[name]-self.norm_dict[name][0])/self.norm_dict[name][1] for name in self.names]\n",
    "        x_binary = [row[name] for name in self.names_binary]\n",
    "        subject_index = 0\n",
    "        if self.train:\n",
    "            subject_index = self.subject_index[index]\n",
    "        x_cat = np.array([row[\"care_unit\"], subject_index])\n",
    "        x_cont = np.array(x_cont + x_binary)\n",
    "        return x_series, x_cont, x_cat, row[\"prediction_mean_HR\"], row[\"prediction_mean_MAP\"]\n",
    "\n",
    "    def __len__(self):\n",
    "        return self.df_sample.shape[0]"
   ]
  },
  {
   "cell_type": "code",
   "execution_count": 33,
   "metadata": {},
   "outputs": [],
   "source": [
    "test_ds = MultiTask_validation(test, norm_dict, id2index, train = False)\n",
    "test_dl = DataLoader(test_ds, batch_size=8233)"
   ]
  },
  {
   "cell_type": "code",
   "execution_count": 34,
   "metadata": {},
   "outputs": [],
   "source": [
    "norm_dict_valid = get_mean_std_static(test_larib)\n",
    "test_larib_ds = MultiTask_validation(test_larib, norm_dict, id2index, train = False)\n",
    "# test_larib_ds = MultiTask(test_larib, norm_dict, id2index, train = False)\n",
    "test_larib_dl = DataLoader(test_larib_ds, batch_size=1597)"
   ]
  },
  {
   "cell_type": "code",
   "execution_count": 35,
   "metadata": {},
   "outputs": [
    {
     "data": {
      "text/plain": [
       "(23.674287796020508,\n",
       " 0.98130316,\n",
       " 0.980485628421681,\n",
       " 0.9820867522850472,\n",
       " 0.96656,\n",
       " 0.9651091679025584,\n",
       " 0.9679514908229109)"
      ]
     },
     "execution_count": 35,
     "metadata": {},
     "output_type": "execute_result"
    }
   ],
   "source": [
    "val_metrics(model, test_dl)"
   ]
  },
  {
   "cell_type": "code",
   "execution_count": 36,
   "metadata": {},
   "outputs": [
    {
     "data": {
      "text/plain": [
       "(81.360107421875,\n",
       " 0.94164646,\n",
       " 0.9358196492756077,\n",
       " 0.9469587515125697,\n",
       " 0.92421097,\n",
       " 0.9167178505319054,\n",
       " 0.9310541721797728)"
      ]
     },
     "execution_count": 36,
     "metadata": {},
     "output_type": "execute_result"
    }
   ],
   "source": [
    "val_metrics(model, test_larib_dl)"
   ]
  },
  {
   "cell_type": "markdown",
   "metadata": {},
   "source": [
    "### Mimic III testing set predictions"
   ]
  },
  {
   "cell_type": "code",
   "execution_count": 37,
   "metadata": {},
   "outputs": [],
   "source": [
    "out1, out2, y1, y2 = predict_one_batch(model, test_dl)\n",
    "y1 = np.reshape(y1, (-1,1))\n",
    "y2 = np.reshape(y2, (-1,1))\n",
    "arr_hr = np.concatenate((out1, y1) , axis=1)\n",
    "arr_map = np.concatenate((out2, y2) , axis=1)\n",
    "pd.DataFrame(arr_hr).to_csv(\"/home/menyssa/Recherche/Mimic-III-Yannet/resultats/2e_analyse/intern_obs_pred_HR_5.csv\")\n",
    "pd.DataFrame(arr_map).to_csv(\"/home/menyssa/Recherche/Mimic-III-Yannet/resultats/2e_analyse/intern_obs_pred_MAP_5.csv\")"
   ]
  },
  {
   "cell_type": "code",
   "execution_count": 38,
   "metadata": {},
   "outputs": [
    {
     "data": {
      "image/png": "[encoded data removed]",
      "text/plain": [
       "<Figure size 432x288 with 1 Axes>"
      ]
     },
     "metadata": {},
     "output_type": "display_data"
    }
   ],
   "source": [
    "x = np.linspace(50, 160, 1000)\n",
    "plt.plot(out1, y1, 'bo', ms=5)\n",
    "plt.xlabel(\"Predicted\")\n",
    "plt.ylabel(\"Actual\")\n",
    "plt.title(\"mean_HR on test\")\n",
    "plt.plot(x, x, '-g')\n",
    "plt.show()"
   ]
  },
  {
   "cell_type": "code",
   "execution_count": 39,
   "metadata": {},
   "outputs": [
    {
     "data": {
      "image/png": "[encoded data removed]",
      "text/plain": [
       "<Figure size 432x288 with 1 Axes>"
      ]
     },
     "metadata": {},
     "output_type": "display_data"
    }
   ],
   "source": [
    "x = np.linspace(40, 140, 1000)\n",
    "plt.plot(out2, y2, 'bo', ms=5)\n",
    "plt.xlabel(\"Predicted\")\n",
    "plt.ylabel(\"Actual\")\n",
    "plt.title(\"mean_MAP on test\")\n",
    "plt.plot(x, x, '-g')\n",
    "plt.show()"
   ]
  },
  {
   "cell_type": "markdown",
   "metadata": {},
   "source": [
    "### Lariboisiere predictions"
   ]
  },
  {
   "cell_type": "code",
   "execution_count": 40,
   "metadata": {},
   "outputs": [],
   "source": [
    "out1, out2, y1, y2 = predict_one_batch(model, test_larib_dl)"
   ]
  },
  {
   "cell_type": "code",
   "execution_count": 41,
   "metadata": {},
   "outputs": [
    {
     "data": {
      "image/png": "[encoded data removed]",
      "text/plain": [
       "<Figure size 432x288 with 1 Axes>"
      ]
     },
     "metadata": {},
     "output_type": "display_data"
    }
   ],
   "source": [
    "x = np.linspace(0, 200, 1000)\n",
    "plt.plot(out1, y1, 'bo', ms=5)\n",
    "plt.xlabel(\"Predicted\")\n",
    "plt.ylabel(\"Actual\")\n",
    "plt.title(\"mean_HR on larib\")\n",
    "plt.plot(x, x, '-g')\n",
    "plt.show()"
   ]
  },
  {
   "cell_type": "code",
   "execution_count": 42,
   "metadata": {},
   "outputs": [
    {
     "data": {
      "image/png": "[encoded data removed]",
      "text/plain": [
       "<Figure size 432x288 with 1 Axes>"
      ]
     },
     "metadata": {},
     "output_type": "display_data"
    }
   ],
   "source": [
    "x = np.linspace(40, 200, 1000)\n",
    "plt.plot(out2, y2, 'bo', ms=5)\n",
    "plt.xlabel(\"Predicted\")\n",
    "plt.ylabel(\"Actual\")\n",
    "plt.title(\"mean_MAP on larib\")\n",
    "plt.plot(x, x, '-g')\n",
    "plt.show()"
   ]
  },
  {
   "cell_type": "code",
   "execution_count": 43,
   "metadata": {},
   "outputs": [],
   "source": [
    "y1 = np.reshape(y1, (-1,1))\n",
    "y2 = np.reshape(y2, (-1,1))\n",
    "arr_hr = np.concatenate((out1, y1) , axis=1)\n",
    "arr_map = np.concatenate((out2, y2) , axis=1)\n",
    "periode = np.reshape(test_larib.key.values, (-1,1))\n",
    "arr_hr = np.concatenate((out1, y1, periode) , axis=1)\n",
    "arr_map = np.concatenate((out2, y2, periode) , axis=1)\n",
    "pd.DataFrame(arr_hr).to_csv(\"/home/menyssa/Recherche/Mimic-III-Yannet/resultats/2e_analyse/larib_obs_pred_HR_5.csv\")\n",
    "pd.DataFrame(arr_map).to_csv(\"/home/menyssa/Recherche/Mimic-III-Yannet/resultats/2e_analyse/larib_obs_pred_MAP_5.csv\")"
   ]
  },
  {
   "cell_type": "code",
   "execution_count": null,
   "metadata": {},
   "outputs": [],
   "source": []
  }
 ],
 "metadata": {
  "kernelspec": {
   "display_name": "Python 3",
   "language": "python",
   "name": "python3"
  },
  "language_info": {
   "codemirror_mode": {
    "name": "ipython",
    "version": 3
   },
   "file_extension": ".py",
   "mimetype": "text/x-python",
   "name": "python",
   "nbconvert_exporter": "python",
   "pygments_lexer": "ipython3",
   "version": "3.6.10"
  }
 },
 "nbformat": 4,
 "nbformat_minor": 2
}
